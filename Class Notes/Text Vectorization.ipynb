{
 "cells": [
  {
   "cell_type": "markdown",
   "metadata": {},
   "source": [
    "## Text Vectorization\n",
    "\n",
    "Question: What is text vectorization?\n",
    "\n",
    "Answer: The process to transform text data to numerical vectors"
   ]
  },
  {
   "cell_type": "markdown",
   "metadata": {},
   "source": [
    "## Options for Text Vectorization\n",
    "\n",
    "- Count the number of unique words for each sentence bag-of-words(BOW)\n",
    "\n",
    "- Assign weights to each word in the sentences\n",
    "\n",
    "- Map each word to a number (dictionary with words as key and numbers as values) and represent each sentences as the sequence of numbers \n"
   ]
  },
  {
   "cell_type": "markdown",
   "metadata": {},
   "source": [
    "## Bag-of-Word Matrix\n",
    "\n",
    "- BoW is a matrix where its rows are sentences and its columns are unique words for the whole documents (corpus)\n",
    "\n",
    "- We can write down our own function to return BoW matrix based \n",
    "\n",
    "- Below, we will seehow we can build BoW by calling sklearn methods"
   ]
  },
  {
   "cell_type": "code",
   "execution_count": 3,
   "metadata": {},
   "outputs": [
    {
     "name": "stdout",
     "output_type": "stream",
     "text": [
      "[[0 1 1 0 0 1 1 0 1]\n",
      " [0 0 1 1 1 1 1 0 1]\n",
      " [1 0 1 1 0 0 1 1 1]\n",
      " [0 1 1 0 0 1 1 0 1]]\n"
     ]
    }
   ],
   "source": [
    "from sklearn.feature_extraction.text import CountVectorizer\n",
    "\n",
    "sentences = ['This is the first sentence.',\n",
    "             'This one is the second sentence.',\n",
    "             'And this is the third one.',\n",
    "             'Is this the first sentence?']\n",
    "\n",
    "vectorizer = CountVectorizer()\n",
    "X = vectorizer.fit_transform(sentences)\n",
    "print(X.toarray())   \n",
    "# number of rows = number of sentences 4\n",
    "# number of columns = number of unique words 9"
   ]
  },
  {
   "cell_type": "markdown",
   "metadata": {},
   "source": [
    "# How do we get unique words?"
   ]
  },
  {
   "cell_type": "code",
   "execution_count": 5,
   "metadata": {},
   "outputs": [
    {
     "name": "stdout",
     "output_type": "stream",
     "text": [
      "['and', 'first', 'is', 'one', 'second', 'sentence', 'the', 'third', 'this']\n"
     ]
    }
   ],
   "source": [
    "# Get unique words\n",
    "print(vectorizer.get_feature_names())"
   ]
  },
  {
   "cell_type": "code",
   "execution_count": 6,
   "metadata": {},
   "outputs": [
    {
     "name": "stdout",
     "output_type": "stream",
     "text": [
      "[[0 1 0 1 0 1 1 1 0 0 0]\n",
      " [0 0 1 1 1 0 1 0 0 1 0]\n",
      " [1 1 0 0 0 0 0 1 1 1 0]\n",
      " [0 1 0 1 0 1 1 1 0 0 1]]\n"
     ]
    }
   ],
   "source": [
    "from sklearn.feature_extraction.text import CountVectorizer, TfidfVectorizer\n",
    "from sklearn.cluster import KMeans\n",
    "from sklearn.metrics import adjusted_rand_score\n",
    "\n",
    "worksheet = [\"Data Science is the best.\",\n",
    "             \"Data Science has cool topics.\",\n",
    "             \"Are these the best topics?\",\n",
    "             \"Is Data Science the best track?\"]\n",
    "\n",
    "vectorizer = CountVectorizer()\n",
    "X = vectorizer.fit_transform(worksheet)\n",
    "\n",
    "# X.torray() is BoW\n",
    "print(X.toarray())"
   ]
  },
  {
   "cell_type": "code",
   "execution_count": 7,
   "metadata": {},
   "outputs": [
    {
     "name": "stdout",
     "output_type": "stream",
     "text": [
      "['are', 'best', 'cool', 'data', 'has', 'is', 'science', 'the', 'these', 'topics', 'track']\n"
     ]
    }
   ],
   "source": [
    "print(vectorizer.get_feature_names())"
   ]
  },
  {
   "cell_type": "code",
   "execution_count": 12,
   "metadata": {},
   "outputs": [
    {
     "name": "stdout",
     "output_type": "stream",
     "text": [
      "(4, 11)\n"
     ]
    }
   ],
   "source": [
    "print(X.shape)"
   ]
  },
  {
   "cell_type": "markdown",
   "metadata": {},
   "source": [
    "### Clustering\n",
    "\n",
    "- clustering is unsupervised learning method. A cluster is a group of data points that are grouped together due to similarities in their features\n",
    "- this is very often used because we usually don't have labeled data\n",
    "- K-means clustering is popular clustering algorithms: it fiends a fixed number (k) of clusters in a set of data\n",
    "- the goal of any cluster algorithm is the find groups (cluters) in the given data"
   ]
  },
  {
   "cell_type": "markdown",
   "metadata": {},
   "source": [
    "### Examples:\n",
    "- cluster movie dataset -> we expect the movies which their genres are simliar be clustered in the same group"
   ]
  },
  {
   "cell_type": "markdown",
   "metadata": {},
   "source": [
    "## K-means algorithm:\n",
    "\n",
    "Assume the inputs are $s_1$, $s_2$, ..., $s_n$. \n",
    "\n",
    "Step 1 - Choose $K$ arbitrarily.\n",
    "\n",
    "Step 2 - Pick $K$ random points as cluster centers (called centroids)\n",
    "\n",
    "Step 3 - Assign each $s_i$ to nearest cluster by calculating its distance to each centroid\n",
    "\n",
    "Step 4 - Find new cluster center by taking the average of the assigned points\n",
    "\n",
    "Step 5 - Repeat Step 2 and 3 until none of the cluster assignments change"
   ]
  },
  {
   "cell_type": "markdown",
   "metadata": {},
   "source": [
    "## Lets generate sample dataset"
   ]
  },
  {
   "cell_type": "code",
   "execution_count": 15,
   "metadata": {},
   "outputs": [
    {
     "data": {
      "text/plain": [
       "<matplotlib.collections.PathCollection at 0x1a24701190>"
      ]
     },
     "execution_count": 15,
     "metadata": {},
     "output_type": "execute_result"
    },
    {
     "data": {
      "image/png": "[encoded data removed]",
      "text/plain": [
       "<Figure size 432x288 with 1 Axes>"
      ]
     },
     "metadata": {
      "needs_background": "light"
     },
     "output_type": "display_data"
    }
   ],
   "source": [
    "from sklearn.datasets.samples_generator import make_blobs\n",
    "import matplotlib.pyplot as plt\n",
    "\n",
    "# create a sample dataset with 300 data points and 4 cluster centers\n",
    "X, y = make_blobs(n_samples=300, centers=4,\n",
    "                          random_state=0, cluster_std=0.60)\n",
    "\n",
    "plt.scatter(X[:, 0], X[:, 1])"
   ]
  },
  {
   "cell_type": "code",
   "execution_count": 18,
   "metadata": {},
   "outputs": [
    {
     "name": "stdout",
     "output_type": "stream",
     "text": [
      "[[ 1.98258281  0.86771314]\n",
      " [-1.37324398  7.75368871]\n",
      " [-1.58438467  2.83081263]\n",
      " [ 0.94973532  4.41906906]]\n"
     ]
    }
   ],
   "source": [
    "from sklearn.cluster import KMeans\n",
    "\n",
    "# k-means algorithm where k = 4\n",
    "km = KMeans(n_clusters=4)\n",
    "\n",
    "# perfrom k-means clustering on the previous dataset\n",
    "km.fit(X)\n",
    "\n",
    "#print the 4 cluster centers\n",
    "print(km.cluster_centers_)    # the centers are not actual data points from the given dataset"
   ]
  },
  {
   "cell_type": "code",
   "execution_count": 23,
   "metadata": {},
   "outputs": [
    {
     "name": "stdout",
     "output_type": "stream",
     "text": [
      "1.4142135623730951\n",
      "7.280109889280518\n",
      "6.082762530298219\n"
     ]
    }
   ],
   "source": [
    "import numpy as np\n",
    "from numpy import linalg as LA\n",
    "\n",
    "\n",
    "a = np.array([1, 1])\n",
    "b = np.array([2, 2])\n",
    "c = np.array([3, 8])\n",
    "print(LA.norm(a - b))   # distance from a to b\n",
    "print(LA.norm(a - c))   # distance rom a to c\n",
    "print(LA.norm(b - c))   # distance from b to c"
   ]
  },
  {
   "cell_type": "markdown",
   "metadata": {},
   "source": [
    "### How to choose correct number of cluster (K)?\n",
    "\n",
    "Choose arbitrary K\n",
    "\n",
    "1- Compute all of the distances of red points to red centroid\n",
    "\n",
    "2- Do step (1) for other colors (purple, blue, ...)\n",
    "\n",
    "3- Add them up"
   ]
  },
  {
   "cell_type": "markdown",
   "metadata": {},
   "source": [
    "## Another implementation for obtaining the appropriate number of cluster "
   ]
  },
  {
   "cell_type": "code",
   "execution_count": 31,
   "metadata": {},
   "outputs": [
    {
     "data": {
      "image/png": "[encoded data removed]",
      "text/plain": [
       "<Figure size 432x288 with 1 Axes>"
      ]
     },
     "metadata": {
      "needs_background": "light"
     },
     "output_type": "display_data"
    }
   ],
   "source": [
    "import numpy as np\n",
    "from scipy.spatial import distance\n",
    "\n",
    "distortions = []\n",
    "K = range(1, 10)\n",
    "for k in K:\n",
    "    # for the k-means for a given k to the data(X)\n",
    "    km = KMeans(n_clusters=k)\n",
    "    km.fit(X)\n",
    "    # distance.cdist finds the squared distances\n",
    "    # axis = 1 allows us to keep the min for each sample, not just the min across the entire dataset\n",
    "    # find the closest distance for each sample to a center, and take the average\n",
    "    distortions.append(sum(np.min(distance.cdist(X, km.cluster_centers_, 'euclidean'), axis=1)) / X.shape[0])\n",
    "\n",
    "# Plot the elbow: bx- = use a solid(-) blue and (b) line,\n",
    "# and mark the x-axis points with and x (x)\n",
    "plt.plot(K, distortions, 'bx-')\n",
    "plt.xlabel('k')\n",
    "plt.ylabel('Distortion')\n",
    "plt.title('The Elbow Method showing the optimal k')\n",
    "plt.show()\n",
    "\n",
    "\n",
    "# the k with the greatest affect on the calculations is 4 because the changes decrease following it \n",
    "# 4 is the elbow point"
   ]
  },
  {
   "cell_type": "markdown",
   "metadata": {},
   "source": [
    "# Inertia"
   ]
  },
  {
   "cell_type": "code",
   "execution_count": 24,
   "metadata": {},
   "outputs": [
    {
     "data": {
      "image/png": "[encoded data removed]",
      "text/plain": [
       "<Figure size 432x288 with 1 Axes>"
      ]
     },
     "metadata": {
      "needs_background": "light"
     },
     "output_type": "display_data"
    }
   ],
   "source": [
    "sum_of_squared_distances = []\n",
    "K = range(1,15)\n",
    "for k in K:\n",
    "    km = KMeans(n_clusters=k)\n",
    "    km.fit(X)\n",
    "    # inertia is an attribute of km\n",
    "    # \n",
    "    sum_of_squared_distances.append(km.inertia_)\n",
    "    \n",
    "\n",
    "    # Plot the elbow\n",
    "plt.plot(K, sum_of_squared_distances, 'bx-')\n",
    "plt.xlabel('k')\n",
    "plt.ylabel('Distortion')\n",
    "plt.title('The Elbow Method showing the optimal k')\n",
    "plt.show()"
   ]
  },
  {
   "cell_type": "markdown",
   "metadata": {},
   "source": [
    "# Activity: \n",
    "Show that 6 is the optimal K for clustering using k-means using the elbow method. "
   ]
  },
  {
   "cell_type": "code",
   "execution_count": 34,
   "metadata": {},
   "outputs": [
    {
     "data": {
      "text/plain": [
       "<matplotlib.collections.PathCollection at 0x1a258e5a10>"
      ]
     },
     "execution_count": 34,
     "metadata": {},
     "output_type": "execute_result"
    },
    {
     "data": {
      "image/png": "[encoded data removed]",
      "text/plain": [
       "<Figure size 432x288 with 1 Axes>"
      ]
     },
     "metadata": {
      "needs_background": "light"
     },
     "output_type": "display_data"
    }
   ],
   "source": [
    "from sklearn.datasets.samples_generator import make_blobs\n",
    "import matplotlib.pyplot as plt\n",
    "\n",
    "Data, blob_y, = make_blobs(n_samples = 500, centers=6,\n",
    "                          random_state=0, cluster_std=0.80)\n",
    "\n",
    "# plot the data\n",
    "plt.scatter(Data[:, 0], Data[:, 1])"
   ]
  },
  {
   "cell_type": "code",
   "execution_count": 39,
   "metadata": {},
   "outputs": [
    {
     "data": {
      "image/png": "[encoded data removed]",
      "text/plain": [
       "<Figure size 432x288 with 1 Axes>"
      ]
     },
     "metadata": {
      "needs_background": "light"
     },
     "output_type": "display_data"
    }
   ],
   "source": [
    "import numpy as np\n",
    "from scipy.spatial import distance\n",
    "\n",
    "distortions = []\n",
    "K = range(1, 15)\n",
    "for k in K:\n",
    "    # for the k-means for a given k to the data(X)\n",
    "    km = KMeans(n_clusters=k)\n",
    "    km.fit(Data)\n",
    "    # distance.cdist finds the squared distances\n",
    "    # axis = 1 allows us to keep the min for each sample, not just the min across the entire dataset\n",
    "    # find the closest distance for each sample to a center, and take the average\n",
    "    distortions.append(sum(np.min(distance.cdist(Data, km.cluster_centers_, 'euclidean'), axis=1)) / Data.shape[0])\n",
    "\n",
    "# Plot the elbow: bx- = use a solid(-) blue and (b) line,\n",
    "# and mark the x-axis points with and x (x)\n",
    "plt.plot(K, distortions, 'bx-')\n",
    "plt.xlabel('k')\n",
    "plt.ylabel('Distortion')\n",
    "plt.title('The Elbow Method showing the optimal k')\n",
    "plt.show()"
   ]
  },
  {
   "cell_type": "code",
   "execution_count": 36,
   "metadata": {},
   "outputs": [
    {
     "data": {
      "image/png": "[encoded data removed]",
      "text/plain": [
       "<Figure size 432x288 with 1 Axes>"
      ]
     },
     "metadata": {
      "needs_background": "light"
     },
     "output_type": "display_data"
    }
   ],
   "source": [
    "# Inertia\n",
    "\n",
    "sum_of_squared_distances = []\n",
    "K = range(1,15)\n",
    "for k in K:\n",
    "    km = KMeans(n_clusters=k)\n",
    "    km.fit(Data)\n",
    "    # inertia is an attribute of km\n",
    "    # \n",
    "    sum_of_squared_distances.append(km.inertia_)\n",
    "    \n",
    "\n",
    "    # Plot the elbow\n",
    "plt.plot(K, sum_of_squared_distances, 'bx-')\n",
    "plt.xlabel('k')\n",
    "plt.ylabel('Distortion')\n",
    "plt.title('The Elbow Method showing the optimal k')\n",
    "plt.show()"
   ]
  },
  {
   "cell_type": "markdown",
   "metadata": {},
   "source": [
    "# How many samples are in each cluster"
   ]
  },
  {
   "cell_type": "code",
   "execution_count": 60,
   "metadata": {},
   "outputs": [],
   "source": [
    "from sklearn.cluster import KMeans\n",
    "from collections import Counter\n",
    "\n",
    "km = KMeans(n_clusters = 6)"
   ]
  },
  {
   "cell_type": "code",
   "execution_count": 61,
   "metadata": {},
   "outputs": [
    {
     "data": {
      "text/plain": [
       "KMeans(algorithm='auto', copy_x=True, init='k-means++', max_iter=300,\n",
       "       n_clusters=6, n_init=10, n_jobs=None, precompute_distances='auto',\n",
       "       random_state=None, tol=0.0001, verbose=0)"
      ]
     },
     "execution_count": 61,
     "metadata": {},
     "output_type": "execute_result"
    }
   ],
   "source": [
    "km.fit(Data)"
   ]
  },
  {
   "cell_type": "code",
   "execution_count": 62,
   "metadata": {},
   "outputs": [
    {
     "data": {
      "text/plain": [
       "Counter({3: 83, 4: 82, 2: 82, 1: 83, 0: 78, 5: 92})"
      ]
     },
     "execution_count": 62,
     "metadata": {},
     "output_type": "execute_result"
    }
   ],
   "source": [
    "Counter(km.predict(Data))"
   ]
  },
  {
   "cell_type": "markdown",
   "metadata": {},
   "source": [
    "# Activity: Combine Text Vectorization and Clustering the Texts (30 min)¶\n",
    "\n",
    "We want to cluster the given sentences\n",
    "\n",
    "* To do this: We to use both concepts we learned today:\n",
    "\n",
    "* Vectorize the sentences (text-vectorization)\n",
    "\n",
    "* Apply Kmeans to cluster our vectorized sentences\n",
    "\n",
    "* Note: We want to remove stop words from our sentences (and, or, is, etc.). To do this, we add stop_words='english' to our call to CountVectorize\n",
    "\n",
    "* Hint: Look at the sentences in the starter code. How would you cluster the data if you were doing the clustering? Use that number as your K to start with."
   ]
  },
  {
   "cell_type": "code",
   "execution_count": 87,
   "metadata": {},
   "outputs": [
    {
     "name": "stdout",
     "output_type": "stream",
     "text": [
      "['100', 'app', 'belly', 'best', 'came', 'cat', 'chrome', 'climbing', 'eating', 'extension', 'face', 'feedback', 'google', 'impressed', 'incredible', 'key', 'kitten', 'kitty', 'little', 'map', 'merley', 'ninja', 'open', 'photo', 'play', 'promoter', 'restaurant', 'smiley', 'squooshy', 'tab', 'taken', 'translate', 've']\n"
     ]
    },
    {
     "data": {
      "text/plain": [
       "array([0, 1, 0, 0, 1, 1, 0, 0], dtype=int32)"
      ]
     },
     "execution_count": 87,
     "metadata": {},
     "output_type": "execute_result"
    }
   ],
   "source": [
    "from sklearn.feature_extraction.text import CountVectorizer, TfidfVectorizer\n",
    "from sklearn.cluster import KMeans\n",
    "from sklearn.metrics import adjusted_rand_score\n",
    "\n",
    "documents = [\"This little kitty came to play when I was eating at a restaurant.\",\n",
    "             \"Merley has the best squooshy kitten belly.\",\n",
    "             \"Google Translate app is incredible.\",\n",
    "             \"If you open 100 tab in google you get a smiley face.\",\n",
    "             \"Best cat photo I've ever taken.\",\n",
    "             \"Climbing ninja cat.\",\n",
    "             \"Impressed with google map feedback.\",\n",
    "             \"Key promoter extension for Google Chrome.\"]\n",
    "\n",
    "# remove stop words form sentences (and, or, is...) and instantiate the bag-of-words\n",
    "vectorizer = CountVectorizer(stop_words = 'english')\n",
    "\n",
    "# transform sentences into numerical arrays\n",
    "bag_of_words = vectorizer.fit_transform(documents)\n",
    "\n",
    "# print the unique words\n",
    "print(vectorizer.get_feature_names())\n",
    "\n",
    "# we know that there are two groups of sentences --> Group 1: cats, Group 2: Google\n",
    "# true_k = 2\n",
    "\n",
    "km = KMeans(n_clusters=2).fit(bag_of_words)\n",
    "\n",
    "km.labels_\n",
    "\n",
    "# print(vectorizer.get_feature_names())\n",
    "# print(bag_of_words.shape)"
   ]
  },
  {
   "cell_type": "code",
   "execution_count": 88,
   "metadata": {},
   "outputs": [
    {
     "data": {
      "text/plain": [
       "array([0, 1, 0, 0, 1, 1, 0, 0], dtype=int32)"
      ]
     },
     "execution_count": 88,
     "metadata": {},
     "output_type": "execute_result"
    }
   ],
   "source": [
    "km.predict(bag_of_words)"
   ]
  },
  {
   "cell_type": "code",
   "execution_count": 89,
   "metadata": {},
   "outputs": [
    {
     "name": "stdout",
     "output_type": "stream",
     "text": [
      "  (0, 5)\t1\n"
     ]
    }
   ],
   "source": [
    "# Testing our model: for a new sentence, let's see how the model will cluster it:\n",
    "\n",
    "sentence = [\"My cat is hungry\"]\n",
    "v1 = vectorizer.transform(sentence)\n",
    "print(v1)"
   ]
  },
  {
   "cell_type": "code",
   "execution_count": 90,
   "metadata": {},
   "outputs": [
    {
     "data": {
      "text/plain": [
       "array([[0, 0, 0, 0, 0, 1, 0, 0, 0, 0, 0, 0, 0, 0, 0, 0, 0, 0, 0, 0, 0, 0,\n",
       "        0, 0, 0, 0, 0, 0, 0, 0, 0, 0, 0]])"
      ]
     },
     "execution_count": 90,
     "metadata": {},
     "output_type": "execute_result"
    }
   ],
   "source": [
    "v1.toarray()     # compared to km.labels_ , the word cat is found in position 6 which is represented by 1"
   ]
  },
  {
   "cell_type": "code",
   "execution_count": 91,
   "metadata": {},
   "outputs": [
    {
     "data": {
      "text/plain": [
       "array([1], dtype=int32)"
      ]
     },
     "execution_count": 91,
     "metadata": {},
     "output_type": "execute_result"
    }
   ],
   "source": [
    "km.predict(v1)     # array[1] is for cats so it is put in the correct group"
   ]
  },
  {
   "cell_type": "code",
   "execution_count": 93,
   "metadata": {},
   "outputs": [
    {
     "name": "stdout",
     "output_type": "stream",
     "text": [
      "[0]\n"
     ]
    }
   ],
   "source": [
    "# Testing our model: for a new sentence, let's see how the model will cluster it:\n",
    "Y = vectorizer.transform([\"My cat is hungry.\"])\n",
    "prediction = model.predict(Y)\n",
    "print(prediction)\n"
   ]
  },
  {
   "cell_type": "code",
   "execution_count": 94,
   "metadata": {},
   "outputs": [
    {
     "name": "stdout",
     "output_type": "stream",
     "text": [
      "['100', 'app', 'belly', 'best', 'came', 'cat', 'chrome', 'climbing', 'eating', 'extension', 'face', 'feedback', 'google', 'impressed', 'incredible', 'key', 'kitten', 'kitty', 'little', 'map', 'merley', 'ninja', 'open', 'photo', 'play', 'promoter', 'restaurant', 'smiley', 'squooshy', 'tab', 'taken', 'translate', 've']\n",
      "(8, 33)\n",
      "Y:\n",
      "[[0 0 0 0 0 0 1 0 0 0 0 0 0 0 0 0 0 0 0 0 0 0 1 0 0 0 0 0 0 0 0 0 0]]\n",
      "[0]\n",
      "[1]\n",
      "[1 1 0 0 1 1 0 0]\n"
     ]
    }
   ],
   "source": [
    "# instructors solution\n",
    "\n",
    "from sklearn.feature_extraction.text import CountVectorizer, TfidfVectorizer\n",
    "from sklearn.cluster import KMeans\n",
    "from sklearn.metrics import adjusted_rand_score\n",
    "\n",
    "sentences = [\"This little kitty came to play when I was eating at a restaurant.\",\n",
    "             \"Merley has the best squooshy kitten belly.\",\n",
    "             \"Google Translate app is incredible.\",\n",
    "             \"If you open 100 tab in google you get a smiley face.\",\n",
    "             \"Best cat photo I've ever taken.\",\n",
    "             \"Climbing ninja cat.\",\n",
    "             \"Impressed with google map feedback.\",\n",
    "             \"Key promoter extension for Google Chrome.\"]\n",
    "\n",
    "# vectorizer = TfidfVectorizer(stop_words='english')\n",
    "vectorizer = CountVectorizer(stop_words='english')\n",
    "\n",
    "X = vectorizer.fit_transform(sentences)\n",
    "print(vectorizer.get_feature_names())\n",
    "print(X.shape)\n",
    "true_k = 2\n",
    "model = KMeans(n_clusters=true_k, init='k-means++')\n",
    "model.fit(X)\n",
    "# print('M:')\n",
    "# print(model.cluster_centers_.argsort())\n",
    "# print(model.cluster_centers_.argsort()[:, ::-1])\n",
    "# print(\"Top terms per cluster:\")\n",
    "# order_centroids = model.cluster_centers_.argsort()[:, ::-1]\n",
    "# terms = vectorizer.get_feature_names()\n",
    "# for i in range(true_k):\n",
    "#     print(\"Cluster %d:\" % i),\n",
    "#     for ind in order_centroids[i, :10]:\n",
    "#         print(' %s' % terms[ind]),\n",
    "\n",
    "\n",
    "# print(\"\\n\")\n",
    "# print(\"Prediction\")\n",
    "\n",
    "Y = vectorizer.transform([\"chrome browser to open.\"])\n",
    "print('Y:')\n",
    "print(Y.toarray())\n",
    "prediction = model.predict(Y)\n",
    "print(prediction)\n",
    "\n",
    "Y = vectorizer.transform([\"My cat is hungry.\"])\n",
    "prediction = model.predict(Y)\n",
    "print(prediction)\n",
    "# Lets see the model prediction for training docs\n",
    "print(model.predict(X))"
   ]
  },
  {
   "cell_type": "code",
   "execution_count": null,
   "metadata": {},
   "outputs": [],
   "source": []
  }
 ],
 "metadata": {
  "kernelspec": {
   "display_name": "Python 3",
   "language": "python",
   "name": "python3"
  },
  "language_info": {
   "codemirror_mode": {
    "name": "ipython",
    "version": 3
   },
   "file_extension": ".py",
   "mimetype": "text/x-python",
   "name": "python",
   "nbconvert_exporter": "python",
   "pygments_lexer": "ipython3",
   "version": "3.7.4"
  }
 },
 "nbformat": 4,
 "nbformat_minor": 2
}
