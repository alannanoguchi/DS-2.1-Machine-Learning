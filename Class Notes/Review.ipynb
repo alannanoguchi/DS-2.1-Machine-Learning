{
 "cells": [
  {
   "cell_type": "markdown",
   "metadata": {},
   "source": [
    "### Machine Learning Steps:\n",
    "* Distinguish the problem: is it regression? classification? clustering?\n",
    "* Instantiate the appropriate ML model\n",
    "* Split the data into train and test\n",
    "* Train the model based in X_train adn y_train if supervised\n",
    "* Predict based on X_train\n",
    "* Evaluate model and do cross-validation\n",
    "* Make the results better by :\n",
    "    - hyper-parameter tuning by Grid-search\n",
    "    - Check if dataset is balanced or not -> change the threshold\n",
    "    - Data preprocessing (scaling)\n",
    "    - Dimensionality reduction (PCA) -> train the model based on X_reduced_train and y_reduced_train\n",
    "    - Eliminate unnecessary features -> Feature Engineering\n",
    "    - Try other models and do the above all steps"
   ]
  },
  {
   "cell_type": "markdown",
   "metadata": {},
   "source": [
    "## Distinguish the Problem:\n",
    "### Classification:\n",
    "    - SVM\n",
    "    - Logistic Regression\n",
    "    - Random Forest\n",
    "* Split the Data"
   ]
  },
  {
   "cell_type": "code",
   "execution_count": null,
   "metadata": {},
   "outputs": [],
   "source": []
  }
 ],
 "metadata": {
  "kernelspec": {
   "display_name": "Python 3",
   "language": "python",
   "name": "python3"
  },
  "language_info": {
   "codemirror_mode": {
    "name": "ipython",
    "version": 3
   },
   "file_extension": ".py",
   "mimetype": "text/x-python",
   "name": "python",
   "nbconvert_exporter": "python",
   "pygments_lexer": "ipython3",
   "version": "3.7.4"
  }
 },
 "nbformat": 4,
 "nbformat_minor": 2
}
