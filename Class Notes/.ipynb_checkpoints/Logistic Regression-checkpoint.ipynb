{
 "cells": [
  {
   "cell_type": "markdown",
   "metadata": {},
   "source": [
    "### Logistic Regression is a classifier. It adds probability to a prediction. \n",
    "* Review: SVM is used to make predictions of continuous values\n",
    "    - it cannot tell us the probability of a given category."
   ]
  },
  {
   "cell_type": "markdown",
   "metadata": {},
   "source": [
    "# Logistic Regression \n",
    "\n",
    "- Is a classifier\n",
    "\n",
    "- How is it different from SVM?\n",
    "\n",
    "    - SVM **can not** tell us how probable I am healthy. \n",
    "    - For example, if my Serotonin is 3 and my Dopamine is 6, what is the chance that I would be considered as healthy\n",
    "   90 percent or 60 percent or etc.\n",
    "    \n",
    "- Logistic Regression can do it"
   ]
  },
  {
   "cell_type": "markdown",
   "metadata": {},
   "source": [
    "## Watch a video about Logistic Regression\n",
    "\n",
    "Lets watch this video: https://www.youtube.com/watch?v=yIYKR4sgzI8"
   ]
  },
  {
   "cell_type": "markdown",
   "metadata": {},
   "source": [
    "## The Dataset We use for Logistic Regression\n",
    "\n",
    "- Pima Indian Diabetes\n",
    "\n",
    "- The objective of the dataset is to diagnostically predict whether or not a patient has diabetes, based on certain diagnostic measurements included in the dataset\n",
    "\n",
    "- In particular, all patients here are females at least 21 years old of Pima Indian heritage\n",
    "\n",
    "- Labels: 1: diabetes, 0: no diabetes"
   ]
  },
  {
   "cell_type": "markdown",
   "metadata": {},
   "source": [
    "## Activity: Obtain confusion matrix, accuracy, precision, recall for pima Diabetes dataset\n",
    "\n",
    "Steps:\n",
    "\n",
    "1- Load the dataset: `pd.read_csv('diabetes.csv')`\n",
    "\n",
    "2- Use these features: `feature_cols = ['Pregnancies', 'Insulin', 'BMI', 'Age']`\n",
    "\n",
    "3- Split the data to train and test: `X_train, X_test, y_train, y_test = train_test_split(X, y, test_size=0.25, random_state=0)`\n",
    "\n",
    "4- Instantiate logistic regression model\n",
    "\n",
    "5- Obtain the statistics of `y_test`\n",
    "\n",
    "6- Obtain the confuction matrix\n",
    "\n",
    "https://www.ritchieng.com/machine-learning-evaluate-classification-model/"
   ]
  },
  {
   "cell_type": "code",
   "execution_count": 56,
   "metadata": {
    "scrolled": true
   },
   "outputs": [
    {
     "data": {
      "text/plain": [
       "0    130\n",
       "1     62\n",
       "Name: Outcome, dtype: int64"
      ]
     },
     "execution_count": 56,
     "metadata": {},
     "output_type": "execute_result"
    }
   ],
   "source": [
    "import pandas as pd\n",
    "from sklearn.model_selection import train_test_split\n",
    "from sklearn.linear_model import LinearRegression\n",
    "from sklearn.metrics import mean_squared_error\n",
    "import numpy as np\n",
    "\n",
    "# load the dataset\n",
    "df = pd.read_csv('diabetes.csv')\n",
    "\n",
    "# define the feature columns\n",
    "feature_cols = ['Pregnancies', 'Insulin', 'BMI', 'Age']\n",
    "\n",
    "# X is a matrix, access the features we want in feature_cols\n",
    "X = df[feature_cols]\n",
    "\n",
    "# y is a vector, hense we use dot to access 'label'\n",
    "y = df['Outcome']\n",
    "\n",
    "# test_size = 0.25 which is what we want to test\n",
    "X_train, X_test, y_train, y_test = train_test_split(X, y, test_size=0.25, random_state=0)\n",
    "\n",
    "y_test.value_counts()"
   ]
  },
  {
   "cell_type": "markdown",
   "metadata": {},
   "source": [
    "# Check that the size of the y_train adn show that is 75% of the whole dataset"
   ]
  },
  {
   "cell_type": "code",
   "execution_count": 65,
   "metadata": {},
   "outputs": [
    {
     "name": "stdout",
     "output_type": "stream",
     "text": [
      "576\n",
      "576.0\n",
      "192\n",
      "192.0\n"
     ]
    }
   ],
   "source": [
    "print(len(y_train))\n",
    "print(len(df)*0.75)\n",
    "\n",
    "print(len(y_test))\n",
    "print(0.25*len(df))"
   ]
  },
  {
   "cell_type": "markdown",
   "metadata": {},
   "source": [
    "# Build the classifier model with Logistic Regression and produce y_pred from X_test (features from test part)"
   ]
  },
  {
   "cell_type": "code",
   "execution_count": 66,
   "metadata": {},
   "outputs": [
    {
     "name": "stderr",
     "output_type": "stream",
     "text": [
      "/opt/anaconda3/lib/python3.7/site-packages/sklearn/linear_model/logistic.py:432: FutureWarning: Default solver will be changed to 'lbfgs' in 0.22. Specify a solver to silence this warning.\n",
      "  FutureWarning)\n"
     ]
    },
    {
     "data": {
      "text/plain": [
       "LogisticRegression(C=1.0, class_weight=None, dual=False, fit_intercept=True,\n",
       "                   intercept_scaling=1, l1_ratio=None, max_iter=100,\n",
       "                   multi_class='warn', n_jobs=None, penalty='l2',\n",
       "                   random_state=None, solver='warn', tol=0.0001, verbose=0,\n",
       "                   warm_start=False)"
      ]
     },
     "execution_count": 66,
     "metadata": {},
     "output_type": "execute_result"
    }
   ],
   "source": [
    "from sklearn.linear_model import LogisticRegression\n",
    "\n",
    "logreg = LogisticRegression()\n",
    "\n",
    "# fit the model\n",
    "logreg.fit(X_train, y_train)"
   ]
  },
  {
   "cell_type": "code",
   "execution_count": 73,
   "metadata": {},
   "outputs": [
    {
     "name": "stdout",
     "output_type": "stream",
     "text": [
      "[0 0 0 0 0 0 0 1 0 1 0 1 0 0 0 0 0 0 0 0 0 0 0 0 0 0 0 1 0 0 0 0 0 0 0 0 0\n",
      " 0 0 0 0 0 0 0 1 0 0 0 0 0 0 0 1 0 0 0 0 1 0 0 1 0 0 0 0 0 0 0 0 0 0 0 0 1\n",
      " 0 0 1 0 0 0 1 0 0 0 0 0 0 0 1 0 0 0 0 0 0 0 1 0 1 0 1 0 0 0 0 0 0 0 0 0 0\n",
      " 1 0 0 0 0 0 0 0 1 0 1 0 1 0 0 0 0 0 0 0 0 0 1 0 0 0 0 0 0 0 0 0 0 0 0 0 0\n",
      " 0 0 0 0 0 0 1 0 1 0 0 1 0 0 0 0 0 0 1 0 0 0 0 0 0 0 1 0 1 0 0 0 0 1 0 0 0\n",
      " 0 0 0 0 0 0 0]\n"
     ]
    }
   ],
   "source": [
    "y_pred = logreg.predict(X_test)\n",
    "\n",
    "print(y_pred)"
   ]
  },
  {
   "cell_type": "code",
   "execution_count": 68,
   "metadata": {},
   "outputs": [
    {
     "name": "stdout",
     "output_type": "stream",
     "text": [
      "[1 0 0 1 0 0 1 1 0 0 1 1 0 0 0 0 1 0 0 0 1 1 0 0 0 0 0 0 0 0 0 0 0 0 0 1 1\n",
      " 0 0 0 0 0 0 1 1 0 0 1 1 1 0 0 1 0 0 0 0 1 1 1 1 0 0 1 1 1 1 0 0 0 0 0 0 0\n",
      " 1 0 0 0 0 0 0 0 0 0 0 0 1 0 1 0 0 0 0 0 0 0 1 0 1 1 0 0 0 0 0 1 0 0 0 1 0\n",
      " 1 1 1 1 1 0 0 0 1 0 0 0 0 0 0 0 1 0 0 0 0 0 1 0 1 0 1 1 0 0 0 0 0 1 0 0 0\n",
      " 0 1 0 1 0 0 1 0 0 0 1 1 1 1 0 0 0 1 0 0 0 0 0 0 1 1 0 0 0 0 0 0 1 1 0 1 1\n",
      " 0 1 1 1 0 0 0]\n"
     ]
    }
   ],
   "source": [
    "print(y_test.values.T)"
   ]
  },
  {
   "cell_type": "markdown",
   "metadata": {},
   "source": [
    "## How many of samples in y_train have diabetes how many not?"
   ]
  },
  {
   "cell_type": "code",
   "execution_count": 70,
   "metadata": {},
   "outputs": [
    {
     "data": {
      "image/png": "[encoded data removed]",
      "text/plain": [
       "<Figure size 432x288 with 1 Axes>"
      ]
     },
     "metadata": {
      "needs_background": "light"
     },
     "output_type": "display_data"
    },
    {
     "data": {
      "text/plain": [
       "0    130\n",
       "1     62\n",
       "Name: Outcome, dtype: int64"
      ]
     },
     "execution_count": 70,
     "metadata": {},
     "output_type": "execute_result"
    }
   ],
   "source": [
    "import matplotlib.pyplot as plt\n",
    "import pandas as pd\n",
    "\n",
    "plt.hist(y_test, bins=20)\n",
    "plt.show()\n",
    "\n",
    "y_test_pd_series = pd.Series(y_test)\n",
    "y_test_pd_series.value_counts()"
   ]
  },
  {
   "cell_type": "markdown",
   "metadata": {},
   "source": [
    "# Intro to Confusion Matrix\n",
    "A confusion matrix is a table that is used to describe teh performance of a classifier on a set of test data where we know the true values. Essentially, we use it to check how well our classifier's predicted values matched against the known values of the same data.\n",
    "The confusion matrix is a 2x2 matrix, but it includes important terminology:\n",
    "* True Positives (TP): we correctly predicted a positive outcome (i.e someone has diabetes, and we correctly predicted it)\n",
    "* True Negatives (TN): we correctly predicted a negative outcome (i.e someone does not have diabetes, adn we correctly predicted it)\n",
    "* False Positives (FP): we incorrectly predicted the outcome (i.e someone does not have diabetes, but we predicted that they did)\n",
    "* False Negatives (FN): we incorrectly predicted negative outcomes (i.e someone has diabetes, and we incorrectly said that they do not)"
   ]
  },
  {
   "cell_type": "markdown",
   "metadata": {},
   "source": [
    "## Activity: Write a function that calculates:\n",
    "\n",
    "- How many of 0 (no diabetes) in y_test is predicted correctly as 0 (no diabetes) in y_pred?\n",
    "\n",
    "- How many of 0 (no diabetes) in y_test is predicted incorrectly as 1 (diabetes) in y_pred?\n",
    "\n",
    "- How many of 1 (diabetes) in y_test is predicted incorrectly as 0 (no diabetes) in y_pred?\n",
    "\n",
    "- How many of 1 (diabetes) in y_test is predicted correctly 1 (diabetes) in y_pred?\n"
   ]
  },
  {
   "cell_type": "code",
   "execution_count": 71,
   "metadata": {},
   "outputs": [
    {
     "name": "stdout",
     "output_type": "stream",
     "text": [
      "[[118.  12.]\n",
      " [ 47.  15.]]\n"
     ]
    }
   ],
   "source": [
    "import numpy as np\n",
    "\n",
    "def comp_yt_yp(y_test, y_predict):\n",
    "    \n",
    "    # create a blank 2x2 confusion matrix (all 0's)\n",
    "    conf_matrix  = np.zeros((2, 2))\n",
    "    \n",
    "    # indicies that will create all confusion matrix values\n",
    "    # TP (1,1), TN(0,0), FP (0,1), FN (1,0)\n",
    "    for row_index in [0, 1]:\n",
    "        for column_index in [0, 1]:\n",
    "            counter = 0\n",
    "            \n",
    "            # iterate through all elements in y_test, y_pred,\n",
    "            # which are all the values are either 0 or 1\n",
    "            for (i, j) in zip(y_test, y_predict):\n",
    "                if (i == m) & (j == n):\n",
    "                        counter += 1\n",
    "                        \n",
    "            # add the total number of elements for the confusion matrix value,\n",
    "            # then look at the next value in the loop\n",
    "            conf_matrix[m, n] = counter\n",
    "    return conf_matrix\n",
    "\n",
    "print(comp_yt_yp(y_test, y_pred))"
   ]
  },
  {
   "cell_type": "code",
   "execution_count": 76,
   "metadata": {},
   "outputs": [
    {
     "name": "stdout",
     "output_type": "stream",
     "text": [
      "118\n",
      "12\n",
      "15\n",
      "47\n"
     ]
    }
   ],
   "source": [
    "# Step 1: create a function that compares the y's\n",
    "# return how many 0's in y_test and y_pred\n",
    "# this is an element-wise comparison\n",
    "\n",
    "def compare_ys(y_test, y_pred, value_of_y_test, value_of_y_pred):\n",
    "    counter = 0\n",
    "    for (i,j) in zip(y_test, y_pred):    # element-wise comparison\n",
    "        if (i == value_of_y_test) and (j == value_of_y_pred):\n",
    "            counter += 1\n",
    "    return counter\n",
    "\n",
    "print(compare_ys(y_test, y_pred, 0, 0)) # TN\n",
    "print(compare_ys(y_test, y_pred, 0, 1)) # FN\n",
    "print(compare_ys(y_test, y_pred, 1, 1)) # TP\n",
    "print(compare_ys(y_test, y_pred, 1, 0)) # FP"
   ]
  },
  {
   "cell_type": "markdown",
   "metadata": {},
   "source": [
    "### Basic terminology\n",
    "\n",
    "True Positives (TP): we correctly predicted that they do have diabetes: 15\n",
    "\n",
    "True Negatives (TN): we correctly predicted that they don't have diabetes: 118\n",
    "\n",
    "False Positives (FP): we incorrectly predicted that they do have diabetes (a \"Type I error\"): 12\n",
    "\n",
    "False Negatives (FN): we incorrectly predicted that they don't have diabetes (a \"Type II error\"): 47\n",
    "\n",
    "<img src=\"Images/confusion_matrix.png\" width=\"500\" height=\"500\">"
   ]
  },
  {
   "cell_type": "markdown",
   "metadata": {},
   "source": [
    "* TP (1,1)\n",
    "* TN(0,0)\n",
    "* FP (0,1)\n",
    "* FN (1,0)\n",
    "* the size of the y_pred is the addition of the Predicted columns"
   ]
  },
  {
   "cell_type": "code",
   "execution_count": 78,
   "metadata": {},
   "outputs": [
    {
     "name": "stdout",
     "output_type": "stream",
     "text": [
      "[[118  12]\n",
      " [ 47  15]]\n"
     ]
    }
   ],
   "source": [
    "# easier way to compute using confusion matrix:\n",
    "\n",
    "from sklearn import metrics\n",
    "\n",
    "confusion = metrics.confusion_matrix(y_test, y_pred)\n",
    "print(confusion)"
   ]
  },
  {
   "cell_type": "markdown",
   "metadata": {},
   "source": [
    "## Activity: Apply these two methods to the dataset\n",
    "After logreg.fit(X_train, y_train), call the trained model using:\n",
    "* logreg.predict(X_test)\n",
    "* logreg.predict_prob(X_test)"
   ]
  },
  {
   "cell_type": "code",
   "execution_count": 86,
   "metadata": {},
   "outputs": [
    {
     "data": {
      "text/plain": [
       "array([0, 1])"
      ]
     },
     "execution_count": 86,
     "metadata": {},
     "output_type": "execute_result"
    }
   ],
   "source": [
    "logreg.classes_"
   ]
  },
  {
   "cell_type": "code",
   "execution_count": 84,
   "metadata": {},
   "outputs": [
    {
     "data": {
      "text/plain": [
       "array([[63.24757092, 36.75242908],\n",
       "       [71.64365619, 28.35634381],\n",
       "       [71.10411411, 28.89588589],\n",
       "       [58.58938004, 41.41061996],\n",
       "       [84.10397342, 15.89602658],\n",
       "       [82.93484366, 17.06515634],\n",
       "       [50.11097426, 49.88902574],\n",
       "       [48.65845916, 51.34154084],\n",
       "       [72.32138753, 27.67861247],\n",
       "       [32.81056232, 67.18943768],\n",
       "       [64.24444286, 35.75555714],\n",
       "       [25.912035  , 74.087965  ],\n",
       "       [63.94976511, 36.05023489],\n",
       "       [76.98763682, 23.01236318],\n",
       "       [57.345769  , 42.654231  ],\n",
       "       [80.89648472, 19.10351528],\n",
       "       [54.23639908, 45.76360092],\n",
       "       [88.09858965, 11.90141035],\n",
       "       [56.07104651, 43.92895349],\n",
       "       [63.03884878, 36.96115122],\n",
       "       [55.81201142, 44.18798858],\n",
       "       [62.38833784, 37.61166216],\n",
       "       [80.18397849, 19.81602151],\n",
       "       [58.32269592, 41.67730408],\n",
       "       [84.45171903, 15.54828097],\n",
       "       [74.68329032, 25.31670968],\n",
       "       [90.25692295,  9.74307705],\n",
       "       [30.36628834, 69.63371166],\n",
       "       [84.64169098, 15.35830902],\n",
       "       [78.02164001, 21.97835999],\n",
       "       [56.90516802, 43.09483198],\n",
       "       [65.78394214, 34.21605786],\n",
       "       [77.60388573, 22.39611427],\n",
       "       [61.92645742, 38.07354258],\n",
       "       [86.65786632, 13.34213368],\n",
       "       [61.20978445, 38.79021555],\n",
       "       [52.95029676, 47.04970324],\n",
       "       [83.79525727, 16.20474273],\n",
       "       [70.45182388, 29.54817612],\n",
       "       [69.0818388 , 30.9181612 ],\n",
       "       [72.70029548, 27.29970452],\n",
       "       [61.18341737, 38.81658263],\n",
       "       [72.64655651, 27.35344349],\n",
       "       [71.11895882, 28.88104118],\n",
       "       [36.52808602, 63.47191398],\n",
       "       [97.63474928,  2.36525072],\n",
       "       [84.17935205, 15.82064795],\n",
       "       [76.98162542, 23.01837458],\n",
       "       [65.15407045, 34.84592955],\n",
       "       [72.41995909, 27.58004091],\n",
       "       [66.7358962 , 33.2641038 ],\n",
       "       [75.11940408, 24.88059592],\n",
       "       [25.51048773, 74.48951227],\n",
       "       [60.99853559, 39.00146441],\n",
       "       [58.37445537, 41.62554463],\n",
       "       [86.42431343, 13.57568657],\n",
       "       [81.10462392, 18.89537608],\n",
       "       [35.22231767, 64.77768233],\n",
       "       [81.07786949, 18.92213051],\n",
       "       [94.31409608,  5.68590392],\n",
       "       [36.00845256, 63.99154744],\n",
       "       [53.36361811, 46.63638189],\n",
       "       [87.49027976, 12.50972024],\n",
       "       [73.04239803, 26.95760197],\n",
       "       [75.08089639, 24.91910361],\n",
       "       [69.42960378, 30.57039622],\n",
       "       [53.62377616, 46.37622384],\n",
       "       [79.03690547, 20.96309453],\n",
       "       [57.15217145, 42.84782855],\n",
       "       [59.2377364 , 40.7622636 ],\n",
       "       [79.83090366, 20.16909634],\n",
       "       [72.97293367, 27.02706633],\n",
       "       [73.74414404, 26.25585596],\n",
       "       [42.76173747, 57.23826253],\n",
       "       [54.53295938, 45.46704062],\n",
       "       [72.28384815, 27.71615185],\n",
       "       [41.99871923, 58.00128077],\n",
       "       [58.40051207, 41.59948793],\n",
       "       [72.72389895, 27.27610105],\n",
       "       [65.90077678, 34.09922322],\n",
       "       [45.37342192, 54.62657808],\n",
       "       [62.06927683, 37.93072317],\n",
       "       [70.07795047, 29.92204953],\n",
       "       [89.9408311 , 10.0591689 ],\n",
       "       [67.12739752, 32.87260248],\n",
       "       [54.89863713, 45.10136287],\n",
       "       [83.96302067, 16.03697933],\n",
       "       [51.0302503 , 48.9697497 ],\n",
       "       [36.76949165, 63.23050835],\n",
       "       [59.26159557, 40.73840443],\n",
       "       [80.20560308, 19.79439692],\n",
       "       [80.30197864, 19.69802136],\n",
       "       [75.53679168, 24.46320832],\n",
       "       [88.85281533, 11.14718467],\n",
       "       [58.41403029, 41.58596971],\n",
       "       [78.43814384, 21.56185616],\n",
       "       [45.87547077, 54.12452923],\n",
       "       [51.19639843, 48.80360157],\n",
       "       [35.34723273, 64.65276727],\n",
       "       [66.05934204, 33.94065796],\n",
       "       [45.73657274, 54.26342726],\n",
       "       [83.78617615, 16.21382385],\n",
       "       [62.21259025, 37.78740975],\n",
       "       [88.68871298, 11.31128702],\n",
       "       [65.2180134 , 34.7819866 ],\n",
       "       [65.95721627, 34.04278373],\n",
       "       [82.09015005, 17.90984995],\n",
       "       [78.67518775, 21.32481225],\n",
       "       [85.28905448, 14.71094552],\n",
       "       [76.98589815, 23.01410185],\n",
       "       [81.59540776, 18.40459224],\n",
       "       [47.77535055, 52.22464945],\n",
       "       [52.90063381, 47.09936619],\n",
       "       [71.11575194, 28.88424806],\n",
       "       [50.67492135, 49.32507865],\n",
       "       [58.25552708, 41.74447292],\n",
       "       [77.08499162, 22.91500838],\n",
       "       [72.97708926, 27.02291074],\n",
       "       [80.75607573, 19.24392427],\n",
       "       [25.01286963, 74.98713037],\n",
       "       [53.49990653, 46.50009347],\n",
       "       [33.54546034, 66.45453966],\n",
       "       [57.90140074, 42.09859926],\n",
       "       [46.43596648, 53.56403352],\n",
       "       [83.96529831, 16.03470169],\n",
       "       [85.64314024, 14.35685976],\n",
       "       [61.85757432, 38.14242568],\n",
       "       [66.17268569, 33.82731431],\n",
       "       [63.69935007, 36.30064993],\n",
       "       [87.15746862, 12.84253138],\n",
       "       [71.66630678, 28.33369322],\n",
       "       [95.99444182,  4.00555818],\n",
       "       [81.51886052, 18.48113948],\n",
       "       [33.28305255, 66.71694745],\n",
       "       [53.64712588, 46.35287412],\n",
       "       [51.28431755, 48.71568245],\n",
       "       [80.08920647, 19.91079353],\n",
       "       [54.13834935, 45.86165065],\n",
       "       [76.78327945, 23.21672055],\n",
       "       [81.63073274, 18.36926726],\n",
       "       [73.60800642, 26.39199358],\n",
       "       [62.50703129, 37.49296871],\n",
       "       [87.08349381, 12.91650619],\n",
       "       [58.58608707, 41.41391293],\n",
       "       [57.53914171, 42.46085829],\n",
       "       [86.16780938, 13.83219062],\n",
       "       [79.2183057 , 20.7816943 ],\n",
       "       [70.52230088, 29.47769912],\n",
       "       [84.17490097, 15.82509903],\n",
       "       [63.98376586, 36.01623414],\n",
       "       [76.25855133, 23.74144867],\n",
       "       [56.6493107 , 43.3506893 ],\n",
       "       [79.38011939, 20.61988061],\n",
       "       [76.83766216, 23.16233784],\n",
       "       [38.88845927, 61.11154073],\n",
       "       [80.26899126, 19.73100874],\n",
       "       [19.92850192, 80.07149808],\n",
       "       [82.19150924, 17.80849076],\n",
       "       [63.51126457, 36.48873543],\n",
       "       [21.38135719, 78.61864281],\n",
       "       [55.91938554, 44.08061446],\n",
       "       [63.44034568, 36.55965432],\n",
       "       [88.23986241, 11.76013759],\n",
       "       [77.15667469, 22.84332531],\n",
       "       [52.13493062, 47.86506938],\n",
       "       [78.67947504, 21.32052496],\n",
       "       [48.50147942, 51.49852058],\n",
       "       [83.87750613, 16.12249387],\n",
       "       [76.25988084, 23.74011916],\n",
       "       [70.62560878, 29.37439122],\n",
       "       [83.3299523 , 16.6700477 ],\n",
       "       [51.28347359, 48.71652641],\n",
       "       [70.03010559, 29.96989441],\n",
       "       [55.34895741, 44.65104259],\n",
       "       [49.83009817, 50.16990183],\n",
       "       [70.75349411, 29.24650589],\n",
       "       [38.26377244, 61.73622756],\n",
       "       [58.40600481, 41.59399519],\n",
       "       [74.17905473, 25.82094527],\n",
       "       [82.58032007, 17.41967993],\n",
       "       [66.48045894, 33.51954106],\n",
       "       [30.39317545, 69.60682455],\n",
       "       [67.5456317 , 32.4543683 ],\n",
       "       [64.26957375, 35.73042625],\n",
       "       [76.63053002, 23.36946998],\n",
       "       [76.26147624, 23.73852376],\n",
       "       [61.59068234, 38.40931766],\n",
       "       [75.3085883 , 24.6914117 ],\n",
       "       [72.04544832, 27.95455168],\n",
       "       [81.49882553, 18.50117447],\n",
       "       [73.77637983, 26.22362017],\n",
       "       [72.14307362, 27.85692638]])"
      ]
     },
     "execution_count": 84,
     "metadata": {},
     "output_type": "execute_result"
    }
   ],
   "source": [
    "logreg.predict(X_test)\n",
    "\n",
    "logreg.predict_proba(X_test)*100"
   ]
  },
  {
   "cell_type": "markdown",
   "metadata": {},
   "source": [
    "### Subject 1:\n",
    "* [63.24757092, 36.75242908]\n",
    "* 63% doesn't have diabetes and is okay\n",
    "* 36% does have diabetes and is not okay\n"
   ]
  },
  {
   "cell_type": "code",
   "execution_count": 88,
   "metadata": {},
   "outputs": [
    {
     "name": "stdout",
     "output_type": "stream",
     "text": [
      "[0 0 0 0 0 0 0 1 0 1]\n"
     ]
    }
   ],
   "source": [
    "# the 8th and 10th subject have diabetes (1) the others do not (0)\n",
    "print(logreg.predict(X_test[0:10]))"
   ]
  },
  {
   "cell_type": "code",
   "execution_count": null,
   "metadata": {},
   "outputs": [],
   "source": []
  }
 ],
 "metadata": {
  "kernelspec": {
   "display_name": "Python 3",
   "language": "python",
   "name": "python3"
  },
  "language_info": {
   "codemirror_mode": {
    "name": "ipython",
    "version": 3
   },
   "file_extension": ".py",
   "mimetype": "text/x-python",
   "name": "python",
   "nbconvert_exporter": "python",
   "pygments_lexer": "ipython3",
   "version": "3.7.4"
  }
 },
 "nbformat": 4,
 "nbformat_minor": 2
}
