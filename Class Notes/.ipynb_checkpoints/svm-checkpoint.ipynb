{
 "cells": [
  {
   "attachments": {},
   "cell_type": "markdown",
   "metadata": {},
   "source": [
    "## Support Vector Machine (SVM)\n",
    "\n",
    "- SVM is a supervised machine learning model for classification tasks\n",
    "\n",
    "- For two dimension (when we have two features), assume the target has two classes, the SVM obtains the best line that seperates two groups \n",
    "\n",
    "<img src=\"https://www.analyticsvidhya.com/wp-content/uploads/2015/10/SVM_1.png\" width=\"300\" height=\"300\">\n",
    "\n",
    "<img src=\"https://gblobscdn.gitbook.com/assets%2F-LGHUhl6VYqrZm4Re77O%2F-LTKxy37hNQ68Ltk2sPK%2F-LTL5esSbAUvPj9BQPhK%2FScreen%20Shot%202018-12-09%20at%207.12.48%20PM.png?alt=media&token=b84adf4b-565f-4d0e-9041-ad3cc7f2c596\" width=\"300\" height=\"300\">"
   ]
  },
  {
   "cell_type": "markdown",
   "metadata": {},
   "source": [
    "####  Question: which one of these lines is the best seperable? Why?"
   ]
  },
  {
   "cell_type": "markdown",
   "metadata": {},
   "source": [
    "## What are Support Vectors in SVM?\n",
    "\n",
    "Support vectors are the datapoints that lie closest to the decision boundary\n",
    "\n",
    "<img src=\"https://datamites.com/blog/wp-content/uploads/2019/09/SVM-Support-Vectors-Maximize-Margin.jpg\">\n",
    "\n",
    "<img src=\"https://miro.medium.com/max/1400/0*8UYYj9DeujrUI4KJ.PNG\">"
   ]
  },
  {
   "cell_type": "markdown",
   "metadata": {},
   "source": [
    "## Activity: We have a medical data\n",
    "\n",
    "- Two features are given that are releted to brain chemistry:\n",
    "\n",
    "    -Serotonin \n",
    "    \n",
    "    -Dopamine\n",
    "    \n",
    "- The target shows the brain health, which indicates having or not having depression\n",
    "    - 1: the subject does not have depression\n",
    "    - -1: the subject does have depression"
   ]
  },
  {
   "cell_type": "code",
   "execution_count": 20,
   "metadata": {},
   "outputs": [],
   "source": [
    "import pandas as pd\n",
    "import seaborn as sns\n",
    "\n",
    "df=pd.read_csv('SVM_Dataset1.csv', index_col=0)"
   ]
  },
  {
   "cell_type": "code",
   "execution_count": 17,
   "metadata": {},
   "outputs": [
    {
     "data": {
      "text/html": [
       "<div>\n",
       "<style scoped>\n",
       "    .dataframe tbody tr th:only-of-type {\n",
       "        vertical-align: middle;\n",
       "    }\n",
       "\n",
       "    .dataframe tbody tr th {\n",
       "        vertical-align: top;\n",
       "    }\n",
       "\n",
       "    .dataframe thead th {\n",
       "        text-align: right;\n",
       "    }\n",
       "</style>\n",
       "<table border=\"1\" class=\"dataframe\">\n",
       "  <thead>\n",
       "    <tr style=\"text-align: right;\">\n",
       "      <th></th>\n",
       "      <th>X1</th>\n",
       "      <th>X2</th>\n",
       "      <th>y</th>\n",
       "    </tr>\n",
       "  </thead>\n",
       "  <tbody>\n",
       "    <tr>\n",
       "      <td>0</td>\n",
       "      <td>2.947814</td>\n",
       "      <td>6.626878</td>\n",
       "      <td>1</td>\n",
       "    </tr>\n",
       "    <tr>\n",
       "      <td>1</td>\n",
       "      <td>2.530388</td>\n",
       "      <td>7.785050</td>\n",
       "      <td>1</td>\n",
       "    </tr>\n",
       "    <tr>\n",
       "      <td>2</td>\n",
       "      <td>3.566991</td>\n",
       "      <td>5.651046</td>\n",
       "      <td>1</td>\n",
       "    </tr>\n",
       "    <tr>\n",
       "      <td>3</td>\n",
       "      <td>3.156983</td>\n",
       "      <td>5.467077</td>\n",
       "      <td>1</td>\n",
       "    </tr>\n",
       "    <tr>\n",
       "      <td>4</td>\n",
       "      <td>2.582346</td>\n",
       "      <td>4.457777</td>\n",
       "      <td>-1</td>\n",
       "    </tr>\n",
       "  </tbody>\n",
       "</table>\n",
       "</div>"
      ],
      "text/plain": [
       "         X1        X2  y\n",
       "0  2.947814  6.626878  1\n",
       "1  2.530388  7.785050  1\n",
       "2  3.566991  5.651046  1\n",
       "3  3.156983  5.467077  1\n",
       "4  2.582346  4.457777 -1"
      ]
     },
     "execution_count": 17,
     "metadata": {},
     "output_type": "execute_result"
    }
   ],
   "source": [
    "df.head()"
   ]
  },
  {
   "cell_type": "markdown",
   "metadata": {},
   "source": [
    "## Activity: for given SVM_Dataset1.CSV:\n",
    "1. Map 1 as H(healthy) and -1 as NH(not healthy) ---> new label\n",
    "2. Assign color to H and NH (Blue and red)\n",
    "3. Create a scatter plot for data with color and new label (use plt.text)"
   ]
  },
  {
   "cell_type": "code",
   "execution_count": 24,
   "metadata": {},
   "outputs": [
    {
     "data": {
      "text/html": [
       "<div>\n",
       "<style scoped>\n",
       "    .dataframe tbody tr th:only-of-type {\n",
       "        vertical-align: middle;\n",
       "    }\n",
       "\n",
       "    .dataframe tbody tr th {\n",
       "        vertical-align: top;\n",
       "    }\n",
       "\n",
       "    .dataframe thead th {\n",
       "        text-align: right;\n",
       "    }\n",
       "</style>\n",
       "<table border=\"1\" class=\"dataframe\">\n",
       "  <thead>\n",
       "    <tr style=\"text-align: right;\">\n",
       "      <th></th>\n",
       "      <th>X1</th>\n",
       "      <th>X2</th>\n",
       "      <th>y</th>\n",
       "      <th>Healthy</th>\n",
       "    </tr>\n",
       "  </thead>\n",
       "  <tbody>\n",
       "    <tr>\n",
       "      <td>0</td>\n",
       "      <td>2.947814</td>\n",
       "      <td>6.626878</td>\n",
       "      <td>1</td>\n",
       "      <td>H</td>\n",
       "    </tr>\n",
       "    <tr>\n",
       "      <td>1</td>\n",
       "      <td>2.530388</td>\n",
       "      <td>7.785050</td>\n",
       "      <td>1</td>\n",
       "      <td>H</td>\n",
       "    </tr>\n",
       "    <tr>\n",
       "      <td>2</td>\n",
       "      <td>3.566991</td>\n",
       "      <td>5.651046</td>\n",
       "      <td>1</td>\n",
       "      <td>H</td>\n",
       "    </tr>\n",
       "    <tr>\n",
       "      <td>3</td>\n",
       "      <td>3.156983</td>\n",
       "      <td>5.467077</td>\n",
       "      <td>1</td>\n",
       "      <td>H</td>\n",
       "    </tr>\n",
       "    <tr>\n",
       "      <td>4</td>\n",
       "      <td>2.582346</td>\n",
       "      <td>4.457777</td>\n",
       "      <td>-1</td>\n",
       "      <td>NH</td>\n",
       "    </tr>\n",
       "    <tr>\n",
       "      <td>5</td>\n",
       "      <td>2.155826</td>\n",
       "      <td>6.222343</td>\n",
       "      <td>-1</td>\n",
       "      <td>NH</td>\n",
       "    </tr>\n",
       "    <tr>\n",
       "      <td>6</td>\n",
       "      <td>3.273418</td>\n",
       "      <td>3.520687</td>\n",
       "      <td>-1</td>\n",
       "      <td>NH</td>\n",
       "    </tr>\n",
       "  </tbody>\n",
       "</table>\n",
       "</div>"
      ],
      "text/plain": [
       "         X1        X2  y Healthy\n",
       "0  2.947814  6.626878  1       H\n",
       "1  2.530388  7.785050  1       H\n",
       "2  3.566991  5.651046  1       H\n",
       "3  3.156983  5.467077  1       H\n",
       "4  2.582346  4.457777 -1      NH\n",
       "5  2.155826  6.222343 -1      NH\n",
       "6  3.273418  3.520687 -1      NH"
      ]
     },
     "execution_count": 24,
     "metadata": {},
     "output_type": "execute_result"
    }
   ],
   "source": [
    "df['Healthy'] = df['y'].map( {1: 'H', -1: 'NH'})\n",
    "df"
   ]
  },
  {
   "cell_type": "code",
   "execution_count": 25,
   "metadata": {},
   "outputs": [
    {
     "data": {
      "text/plain": [
       "<matplotlib.axes._subplots.AxesSubplot at 0x1a1b9e5850>"
      ]
     },
     "execution_count": 25,
     "metadata": {},
     "output_type": "execute_result"
    },
    {
     "data": {
      "image/png": "[encoded data removed]",
      "text/plain": [
       "<Figure size 432x288 with 1 Axes>"
      ]
     },
     "metadata": {
      "needs_background": "light"
     },
     "output_type": "display_data"
    }
   ],
   "source": [
    "sns.scatterplot(x = df['X1'], y = df['X2'], hue = df['Healthy'])"
   ]
  },
  {
   "cell_type": "markdown",
   "metadata": {},
   "source": [
    "## Instructor's Answer:"
   ]
  },
  {
   "cell_type": "code",
   "execution_count": 26,
   "metadata": {},
   "outputs": [
    {
     "data": {
      "text/plain": [
       "array([[2.947814, 6.626878],\n",
       "       [2.530388, 7.78505 ],\n",
       "       [3.566991, 5.651046],\n",
       "       [3.156983, 5.467077],\n",
       "       [2.582346, 4.457777],\n",
       "       [2.155826, 6.222343],\n",
       "       [3.273418, 3.520687]])"
      ]
     },
     "execution_count": 26,
     "metadata": {},
     "output_type": "execute_result"
    }
   ],
   "source": [
    "# First build the X_train and Y_train arrays\n",
    "\n",
    "import numpy as np\n",
    "X1=df['X1']\n",
    "X2=df['X2']\n",
    "X_train=np.array(list(zip(X1,X2)))\n",
    "X_train"
   ]
  },
  {
   "cell_type": "code",
   "execution_count": 36,
   "metadata": {},
   "outputs": [
    {
     "name": "stdout",
     "output_type": "stream",
     "text": [
      "[ 1  1  1  1 -1 -1 -1]\n"
     ]
    }
   ],
   "source": [
    "Y_train=df['y'].values\n",
    "\n",
    "print(y_train)"
   ]
  },
  {
   "cell_type": "code",
   "execution_count": 28,
   "metadata": {},
   "outputs": [
    {
     "data": {
      "text/plain": [
       "['b', 'b', 'b', 'b', 'r', 'r', 'r']"
      ]
     },
     "execution_count": 28,
     "metadata": {},
     "output_type": "execute_result"
    }
   ],
   "source": [
    "# Assign color and label to each target class\n",
    "\n",
    "color_ls = []\n",
    "for k in y_train:\n",
    "    if k == 1:\n",
    "        color_ls.append('b')\n",
    "    else:\n",
    "        color_ls.append('r')\n",
    "color_ls\n",
    "        "
   ]
  },
  {
   "cell_type": "code",
   "execution_count": 29,
   "metadata": {},
   "outputs": [
    {
     "data": {
      "text/plain": [
       "['H', 'H', 'H', 'H', 'NH', 'NH', 'NH']"
      ]
     },
     "execution_count": 29,
     "metadata": {},
     "output_type": "execute_result"
    }
   ],
   "source": [
    "label = []\n",
    "for k in y_train:\n",
    "    if k == 1:\n",
    "        label.append('H')\n",
    "    else:\n",
    "        label.append('NH')\n",
    "label"
   ]
  },
  {
   "cell_type": "code",
   "execution_count": 30,
   "metadata": {},
   "outputs": [
    {
     "data": {
      "image/png": "[encoded data removed]",
      "text/plain": [
       "<Figure size 432x288 with 1 Axes>"
      ]
     },
     "metadata": {
      "needs_background": "light"
     },
     "output_type": "display_data"
    }
   ],
   "source": [
    "# scatterplot of data and labels\n",
    "\n",
    "import matplotlib.pyplot as plt\n",
    "\n",
    "for k, (i,j) in enumerate(X_train):\n",
    "    plt.scatter(i, j, c = color_ls[k])\n",
    "    plt.text(i+0.02, j+0.02, label[k])"
   ]
  },
  {
   "cell_type": "markdown",
   "metadata": {},
   "source": [
    "## Activity: Obtain the best line that separate these two groups"
   ]
  },
  {
   "cell_type": "code",
   "execution_count": 37,
   "metadata": {},
   "outputs": [
    {
     "data": {
      "text/plain": [
       "SVC(C=10, cache_size=200, class_weight=None, coef0=0.0,\n",
       "    decision_function_shape='ovr', degree=3, gamma='auto_deprecated',\n",
       "    kernel='linear', max_iter=-1, probability=False, random_state=None,\n",
       "    shrinking=True, tol=0.001, verbose=False)"
      ]
     },
     "execution_count": 37,
     "metadata": {},
     "output_type": "execute_result"
    }
   ],
   "source": [
    "from sklearn import svm\n",
    "\n",
    "# svm_classifier = svm.SVC(kernel='poly',C=1, degree=2)\n",
    "\n",
    "# we want to use a linear classification\n",
    "svm_classifier = svm.SVC(kernel='linear', C=10)\n",
    "# find the best \n",
    "svm_classifier.fit(X_train, y_train)"
   ]
  },
  {
   "cell_type": "code",
   "execution_count": 38,
   "metadata": {},
   "outputs": [],
   "source": [
    "# helper function to help plot the data\n",
    "# through dotten lines (margins)\n",
    "\n",
    "def plot_decision_boundary(clf, X, y):\n",
    "    x1_min, x1_max = X[:, 0].min() - 1, X[:, 0].max() + 1\n",
    "    x2_min, x2_max = X[:, 1].min() - 1, X[:, 1].max() + 1\n",
    "    xx1, xx2 = np.meshgrid(np.arange(x1_min, x1_max),np.arange(x2_min, x2_max))\n",
    "    Z = clf.decision_function(np.array([xx1.ravel(), xx2.ravel()]).T).reshape(xx1.shape)\n",
    "    plt.contour(xx1, xx2, Z, colors='b', levels=[-1, 0, 1], alpha=0.4, linestyles=['--', '-', '--'])\n",
    "    plt.xlim(xx1.min(), xx1.max())\n",
    "    plt.ylim(xx2.min(), xx2.max())"
   ]
  },
  {
   "cell_type": "code",
   "execution_count": 39,
   "metadata": {},
   "outputs": [
    {
     "data": {
      "image/png": "[encoded data removed]",
      "text/plain": [
       "<Figure size 432x288 with 1 Axes>"
      ]
     },
     "metadata": {
      "needs_background": "light"
     },
     "output_type": "display_data"
    }
   ],
   "source": [
    "# pass in the trained model and the data points\n",
    "# and plot the best fit line + margins\n",
    "\n",
    "plot_decision_boundary(svm_classifier, X_train, Y_train)\n",
    "\n",
    "# plot data points + color/labels\n",
    "for k, (i,j) in enumerate(X_train):\n",
    "    plt.scatter(i, j, c = color_ls[k])\n",
    "    plt.text(i+0.02, j+0.02, label[k])"
   ]
  },
  {
   "cell_type": "code",
   "execution_count": 40,
   "metadata": {},
   "outputs": [
    {
     "data": {
      "text/plain": [
       "array([2, 1], dtype=int32)"
      ]
     },
     "execution_count": 40,
     "metadata": {},
     "output_type": "execute_result"
    }
   ],
   "source": [
    "# number of support vectors for each class:\n",
    "\n",
    "svm_classifier.n_support_"
   ]
  },
  {
   "cell_type": "code",
   "execution_count": 41,
   "metadata": {},
   "outputs": [
    {
     "data": {
      "text/plain": [
       "array([[2.155826, 6.222343],\n",
       "       [3.273418, 3.520687],\n",
       "       [3.156983, 5.467077]])"
      ]
     },
     "execution_count": 41,
     "metadata": {},
     "output_type": "execute_result"
    }
   ],
   "source": [
    "# What are those support vectors:\n",
    "\n",
    "svm_classifier.support_vectors_"
   ]
  },
  {
   "cell_type": "code",
   "execution_count": 42,
   "metadata": {},
   "outputs": [
    {
     "name": "stdout",
     "output_type": "stream",
     "text": [
      "[[2.90336685 1.20121959]]\n",
      "[-14.73321143]\n"
     ]
    }
   ],
   "source": [
    "# Obtain the slope(weight) and intercept for the best fit line equation:\n",
    "\n",
    "# a and b \n",
    "weight = svm_classifier.coef_\n",
    "\n",
    "# c\n",
    "intercept = svm_classifier.intercept_\n",
    "print(weight)\n",
    "print(intercept)"
   ]
  },
  {
   "cell_type": "markdown",
   "metadata": {},
   "source": [
    "### a = 2.90336685, b = 1.20121959, c = -14.73321143"
   ]
  },
  {
   "cell_type": "markdown",
   "metadata": {},
   "source": [
    "## Activity: Check that the points (3,5) and (2, 7.5) are very close to the line\n",
    "* use a, b, c that we just calculated"
   ]
  },
  {
   "cell_type": "code",
   "execution_count": 45,
   "metadata": {},
   "outputs": [
    {
     "name": "stdout",
     "output_type": "stream",
     "text": [
      "-0.017012931258699737\n",
      "0.08266919494858627\n"
     ]
    }
   ],
   "source": [
    "print(weight[0][0]*3+weight[0][1]*5+intercept[0])\n",
    "print(weight[0][0]*2 +weight[0][1]*7.5+intercept[0])"
   ]
  },
  {
   "cell_type": "markdown",
   "metadata": {},
   "source": [
    "## Activity: Am I healthy?\n",
    "* I went to a medical lab and my dopamine levels are 6 and seratonin levels are 3"
   ]
  },
  {
   "cell_type": "code",
   "execution_count": 47,
   "metadata": {},
   "outputs": [
    {
     "name": "stdout",
     "output_type": "stream",
     "text": [
      "Healthy\n"
     ]
    }
   ],
   "source": [
    "if svm_classifier.predict([[3,6]]) == 1:\n",
    "    print('Healthy')\n",
    "else:\n",
    "    print('Not healthy')"
   ]
  },
  {
   "cell_type": "code",
   "execution_count": 48,
   "metadata": {},
   "outputs": [],
   "source": [
    "df2 = pd.read_csv('SVM_Dataset2.csv')"
   ]
  },
  {
   "cell_type": "code",
   "execution_count": 49,
   "metadata": {},
   "outputs": [
    {
     "data": {
      "text/html": [
       "<div>\n",
       "<style scoped>\n",
       "    .dataframe tbody tr th:only-of-type {\n",
       "        vertical-align: middle;\n",
       "    }\n",
       "\n",
       "    .dataframe tbody tr th {\n",
       "        vertical-align: top;\n",
       "    }\n",
       "\n",
       "    .dataframe thead th {\n",
       "        text-align: right;\n",
       "    }\n",
       "</style>\n",
       "<table border=\"1\" class=\"dataframe\">\n",
       "  <thead>\n",
       "    <tr style=\"text-align: right;\">\n",
       "      <th></th>\n",
       "      <th>x1</th>\n",
       "      <th>x2</th>\n",
       "      <th>y</th>\n",
       "    </tr>\n",
       "  </thead>\n",
       "  <tbody>\n",
       "    <tr>\n",
       "      <td>0</td>\n",
       "      <td>7.0</td>\n",
       "      <td>20</td>\n",
       "      <td>-1</td>\n",
       "    </tr>\n",
       "    <tr>\n",
       "      <td>1</td>\n",
       "      <td>8.0</td>\n",
       "      <td>12</td>\n",
       "      <td>-1</td>\n",
       "    </tr>\n",
       "    <tr>\n",
       "      <td>2</td>\n",
       "      <td>9.0</td>\n",
       "      <td>19</td>\n",
       "      <td>-1</td>\n",
       "    </tr>\n",
       "    <tr>\n",
       "      <td>3</td>\n",
       "      <td>10.0</td>\n",
       "      <td>17</td>\n",
       "      <td>-1</td>\n",
       "    </tr>\n",
       "    <tr>\n",
       "      <td>4</td>\n",
       "      <td>11.0</td>\n",
       "      <td>15</td>\n",
       "      <td>-1</td>\n",
       "    </tr>\n",
       "  </tbody>\n",
       "</table>\n",
       "</div>"
      ],
      "text/plain": [
       "     x1  x2  y\n",
       "0   7.0  20 -1\n",
       "1   8.0  12 -1\n",
       "2   9.0  19 -1\n",
       "3  10.0  17 -1\n",
       "4  11.0  15 -1"
      ]
     },
     "execution_count": 49,
     "metadata": {},
     "output_type": "execute_result"
    }
   ],
   "source": [
    "df2.head()"
   ]
  },
  {
   "cell_type": "code",
   "execution_count": 55,
   "metadata": {
    "scrolled": true
   },
   "outputs": [
    {
     "data": {
      "text/plain": [
       "<matplotlib.axes._subplots.AxesSubplot at 0x1a1d15f790>"
      ]
     },
     "execution_count": 55,
     "metadata": {},
     "output_type": "execute_result"
    },
    {
     "data": {
      "image/png": "[encoded data removed]",
      "text/plain": [
       "<Figure size 432x288 with 1 Axes>"
      ]
     },
     "metadata": {
      "needs_background": "light"
     },
     "output_type": "display_data"
    }
   ],
   "source": [
    "sns.scatterplot(x = df2['x1'], y = df2['x2'], hue = df2['y'])"
   ]
  },
  {
   "cell_type": "code",
   "execution_count": 59,
   "metadata": {
    "scrolled": true
   },
   "outputs": [
    {
     "data": {
      "text/plain": [
       "array([[ 8., 12.],\n",
       "       [14., 12.],\n",
       "       [ 4., 15.],\n",
       "       [13., 10.]])"
      ]
     },
     "execution_count": 59,
     "metadata": {},
     "output_type": "execute_result"
    },
    {
     "data": {
      "image/png": "[encoded data removed]",
      "text/plain": [
       "<Figure size 432x288 with 1 Axes>"
      ]
     },
     "metadata": {
      "needs_background": "light"
     },
     "output_type": "display_data"
    }
   ],
   "source": [
    "# Alternate way to plot\n",
    "# First build the X_train and Y_train arrays\n",
    "\n",
    "import numpy as np\n",
    "import pandas as pd\n",
    "from sklearn import svm\n",
    "import matplotlib.pyplot as plt\n",
    "\n",
    "\n",
    "X1=df2['x1']\n",
    "X2=df2['x2']\n",
    "\n",
    "X_train=np.array(list(zip(X1,X2)))\n",
    "y_train = df2['y'].values\n",
    "\n",
    "\n",
    "svm_classifier = svm.SVC(kernel='linear',C=10)\n",
    "\n",
    "# svm_classifier = svm.SVC(kernel='rbf', gamma=0.1, C=10)\n",
    "svm_classifier.fit(X_train, y_train)\n",
    "\n",
    "color_ls = []\n",
    "for k in y_train:\n",
    "    if k == 1:\n",
    "        color_ls.append('b')\n",
    "    else:\n",
    "        color_ls.append('r')\n",
    "color_ls\n",
    "\n",
    "label = []\n",
    "for k in y_train:\n",
    "    if k == 1:\n",
    "        label.append('H')\n",
    "    else:\n",
    "        label.append('NH')\n",
    "label\n",
    "\n",
    "def plot_decision_boundary(clf, X, y):\n",
    "    x1_min, x1_max = X[:, 0].min() - 1, X[:, 0].max() + 1\n",
    "    x2_min, x2_max = X[:, 1].min() - 1, X[:, 1].max() + 1\n",
    "    xx1, xx2 = np.meshgrid(np.arange(x1_min, x1_max),np.arange(x2_min, x2_max))\n",
    "    Z = clf.decision_function(np.array([xx1.ravel(), xx2.ravel()]).T).reshape(xx1.shape)\n",
    "    plt.contourf(xx1, xx2, Z, colors='k', levels=[-1, 0, 1], alpha=0.4, linestyles=['--', '-', '--'])\n",
    "    plt.xlim(xx1.min(), xx1.max())\n",
    "    plt.ylim(xx2.min(), xx2.max())\n",
    "    \n",
    "\n",
    "plot_decision_boundary(svm_classifier, X_train, y_train)\n",
    "\n",
    "for k, (i,j) in enumerate(X_train):\n",
    "    plt.scatter(i, j, c = color_ls[k])\n",
    "    plt.text(i+0.02, j+0.02, label[k])\n",
    "    \n",
    "svm_classifier.support_vectors_"
   ]
  },
  {
   "cell_type": "markdown",
   "metadata": {},
   "source": [
    "## Apply different SVM kernels, (linear, polynomial or RBF) to obtain the best classifier for SVM_Dataset2.csv"
   ]
  },
  {
   "cell_type": "code",
   "execution_count": 60,
   "metadata": {},
   "outputs": [
    {
     "name": "stderr",
     "output_type": "stream",
     "text": [
      "/opt/anaconda3/lib/python3.7/site-packages/sklearn/svm/base.py:193: FutureWarning: The default value of gamma will change from 'auto' to 'scale' in version 0.22 to account better for unscaled features. Set gamma explicitly to 'auto' or 'scale' to avoid this warning.\n",
      "  \"avoid this warning.\", FutureWarning)\n"
     ]
    },
    {
     "data": {
      "text/plain": [
       "array([[ 8. , 12. ],\n",
       "       [ 4. , 15. ],\n",
       "       [ 5.5, 12. ],\n",
       "       [13. , 10. ]])"
      ]
     },
     "execution_count": 60,
     "metadata": {},
     "output_type": "execute_result"
    },
    {
     "data": {
      "image/png": "[encoded data removed]",
      "text/plain": [
       "<Figure size 432x288 with 1 Axes>"
      ]
     },
     "metadata": {
      "needs_background": "light"
     },
     "output_type": "display_data"
    }
   ],
   "source": [
    "import numpy as np\n",
    "import pandas as pd\n",
    "from sklearn import svm\n",
    "import matplotlib.pyplot as plt\n",
    "\n",
    "\n",
    "\n",
    "X1=df2['x1']\n",
    "X2=df2['x2']\n",
    "\n",
    "X_train=np.array(list(zip(X1,X2)))\n",
    "y_train=df2['y'].values\n",
    "\n",
    "# svm_classifier = svm.SVC(kernel='linear', C=10)\n",
    "svm_classifier = svm.SVC(kernel='poly', C=10)\n",
    "# svm_classifier = svm.SVC(kernel='rbf', gamma=0.1, C=100)\n",
    "svm_classifier.fit(X_train, y_train)\n",
    "\n",
    "color_ls = []\n",
    "for k in y_train:\n",
    "    if k == 1:\n",
    "        color_ls.append('b')\n",
    "    else:\n",
    "        color_ls.append('r')\n",
    "color_ls\n",
    "\n",
    "label = []\n",
    "for k in y_train:\n",
    "    if k == 1:\n",
    "        label.append('H')\n",
    "    else:\n",
    "        label.append('NH')\n",
    "label\n",
    "\n",
    "def plot_decision_boundary(clf, X, y):\n",
    "    x1_min, x1_max = X[:, 0].min() - 1, X[:, 0].max() + 1\n",
    "    x2_min, x2_max = X[:, 1].min() - 1, X[:, 1].max() + 1\n",
    "    xx1, xx2 = np.meshgrid(np.arange(x1_min, x1_max),np.arange(x2_min, x2_max))\n",
    "    Z = clf.decision_function(np.array([xx1.ravel(), xx2.ravel()]).T).reshape(xx1.shape)\n",
    "    plt.contourf(xx1, xx2, Z, colors='k', levels=[-1, 0, 1], alpha=0.4, linestyles=['--', '-', '--'])\n",
    "    plt.xlim(xx1.min(), xx1.max())\n",
    "    plt.ylim(xx2.min(), xx2.max())\n",
    "    \n",
    "\n",
    "plot_decision_boundary(svm_classifier, X_train, y_train)\n",
    "\n",
    "for k, (i,j) in enumerate(X_train):\n",
    "    plt.scatter(i, j, c = color_ls[k])\n",
    "    plt.text(i+0.02, j+0.02, label[k])\n",
    "    \n",
    "svm_classifier.support_vectors_"
   ]
  },
  {
   "cell_type": "markdown",
   "metadata": {},
   "source": [
    "## Activity: SVM training, obtain its support vectors, visualize the decision boundary and check SVM performance\n",
    "\n",
    "Task: Follow the steps in\n",
    "\n",
    "https://people.revoledu.com/kardi/tutorial/Python/SVM+in+Python.html\n",
    "\n",
    "1- Create the dataset\n",
    "\n",
    "2- Define the SVM model as the classifier \n",
    "\n",
    "3- Fit the SVM with training dataset\n",
    "\n",
    "4- Obtain its support vectors \n",
    "\n",
    "5- Obtain the score of the trained SVM model"
   ]
  },
  {
   "cell_type": "markdown",
   "metadata": {},
   "source": [
    "## Handling data that is not linearly separable\n",
    "\n",
    "Based on the dataset, it is possible that can not find a line that separates the two classes\n",
    "\n",
    "<img src=\"data:image/png;base64,iVBORw0KGgoAAAANSUhEUgAAAfwAAAFyCAYAAAAQ6Gi7AAAABHNCSVQICAgIfAhkiAAAAAlwSFlz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%0AgP8PXN6lWjrUpMoAAAAASUVORK5CYII=\" width=\"500\" height=\"500\">"
   ]
  },
  {
   "cell_type": "markdown",
   "metadata": {},
   "source": [
    "## What if even polynomial can not separate the two groups?\n",
    "\n",
    "<img src=\"https://miro.medium.com/max/1208/1*391msY5f-3pRvnrqLyFmDw.png\" width=\"500\" height=\"500\">"
   ]
  },
  {
   "cell_type": "markdown",
   "metadata": {},
   "source": [
    "## Solution: Use RBF as the Kernel"
   ]
  },
  {
   "cell_type": "markdown",
   "metadata": {},
   "source": [
    "## Kernels in SVM and their parameters:\n",
    "\n",
    "Type of kernels:\n",
    "\n",
    "1- Linear\n",
    "\n",
    "2- Polynomial\n",
    "\n",
    "3- Gaussian (RBF)\n",
    "\n",
    "There are two parameters for these: gamma (for RBF only) and C (for all of them)\n",
    "\n",
    "Read these: \n",
    "    \n",
    "https://people.revoledu.com/kardi/tutorial/Python/SVM+in+Python.html\n",
    "    \n",
    "https://chrisalbon.com/machine_learning/support_vector_machines/svc_parameters_using_rbf_kernel/"
   ]
  },
  {
   "cell_type": "markdown",
   "metadata": {},
   "source": [
    "## Activity: what if the classes be unbalanced\n",
    "\n",
    "Follow the steps here:\n",
    "http://scikit-learn.org/stable/auto_examples/svm/plot_separating_hyperplane_unbalanced.html\n",
    "\n",
    "Compare the results with and without considering class balances in SVM"
   ]
  },
  {
   "cell_type": "markdown",
   "metadata": {},
   "source": [
    "### Activity:\n",
    "1. Create x and y (copy and paste)\n",
    "2. Instantiate two SVM Models\n",
    "    *  1) without class weight\n",
    "    *  2) with class weight\n",
    "3. fit two models with x and y\n",
    "4. Obtain the error rate for blue and red classes for two models "
   ]
  },
  {
   "cell_type": "code",
   "execution_count": 69,
   "metadata": {},
   "outputs": [],
   "source": [
    "import numpy as np\n",
    "import matplotlib.pyplot as plt\n",
    "from sklearn import svm\n",
    "from sklearn.datasets import make_blobs\n",
    "\n",
    "# we create two clusters of random points\n",
    "n_samples_1 = 1000\n",
    "n_samples_2 = 100\n",
    "centers = [[0.0, 0.0], [2.0, 2.0]]\n",
    "clusters_std = [1.5, 0.5]\n",
    "X, y = make_blobs(n_samples=[n_samples_1, n_samples_2],\n",
    "                  centers=centers,\n",
    "                  cluster_std=clusters_std,\n",
    "                  random_state=0, shuffle=False)"
   ]
  },
  {
   "cell_type": "code",
   "execution_count": 70,
   "metadata": {},
   "outputs": [
    {
     "data": {
      "text/plain": [
       "SVC(C=1.0, cache_size=200, class_weight=None, coef0=0.0,\n",
       "    decision_function_shape='ovr', degree=3, gamma='auto_deprecated',\n",
       "    kernel='linear', max_iter=-1, probability=False, random_state=None,\n",
       "    shrinking=True, tol=0.001, verbose=False)"
      ]
     },
     "execution_count": 70,
     "metadata": {},
     "output_type": "execute_result"
    }
   ],
   "source": [
    "# fit the model and get the separating hyperplane\n",
    "clf = svm.SVC(kernel='linear', C=1.0)\n",
    "clf.fit(X, y)"
   ]
  },
  {
   "cell_type": "code",
   "execution_count": 71,
   "metadata": {},
   "outputs": [
    {
     "data": {
      "text/plain": [
       "SVC(C=1.0, cache_size=200, class_weight={1: 10}, coef0=0.0,\n",
       "    decision_function_shape='ovr', degree=3, gamma='auto_deprecated',\n",
       "    kernel='linear', max_iter=-1, probability=False, random_state=None,\n",
       "    shrinking=True, tol=0.001, verbose=False)"
      ]
     },
     "execution_count": 71,
     "metadata": {},
     "output_type": "execute_result"
    }
   ],
   "source": [
    "# fit the model and get the separating hyperplane using weighted classes\n",
    "wclf = svm.SVC(kernel='linear', class_weight={1: 10})\n",
    "wclf.fit(X, y)"
   ]
  },
  {
   "cell_type": "code",
   "execution_count": 72,
   "metadata": {},
   "outputs": [
    {
     "ename": "NameError",
     "evalue": "name 'X_test' is not defined",
     "output_type": "error",
     "traceback": [
      "\u001b[0;31m---------------------------------------------------------------------------\u001b[0m",
      "\u001b[0;31mNameError\u001b[0m                                 Traceback (most recent call last)",
      "\u001b[0;32m<ipython-input-72-6b4c34a9a269>\u001b[0m in \u001b[0;36m<module>\u001b[0;34m\u001b[0m\n\u001b[1;32m      1\u001b[0m \u001b[0;31m# X_train, X_test, y_train, y_test = train_test_split(X, y, test_size = 0.33)\u001b[0m\u001b[0;34m\u001b[0m\u001b[0;34m\u001b[0m\u001b[0;34m\u001b[0m\u001b[0m\n\u001b[1;32m      2\u001b[0m \u001b[0;31m# error rate\u001b[0m\u001b[0;34m\u001b[0m\u001b[0;34m\u001b[0m\u001b[0;34m\u001b[0m\u001b[0m\n\u001b[0;32m----> 3\u001b[0;31m \u001b[0my_pred\u001b[0m \u001b[0;34m=\u001b[0m \u001b[0mclf\u001b[0m\u001b[0;34m.\u001b[0m\u001b[0mpredict\u001b[0m\u001b[0;34m(\u001b[0m\u001b[0mX_test\u001b[0m\u001b[0;34m)\u001b[0m\u001b[0;34m\u001b[0m\u001b[0;34m\u001b[0m\u001b[0m\n\u001b[0m\u001b[1;32m      4\u001b[0m \u001b[0;34m\u001b[0m\u001b[0m\n\u001b[1;32m      5\u001b[0m \u001b[0;32mfrom\u001b[0m \u001b[0msklearn\u001b[0m\u001b[0;34m.\u001b[0m\u001b[0mmetrics\u001b[0m \u001b[0;32mimport\u001b[0m \u001b[0mr2_score\u001b[0m\u001b[0;34m\u001b[0m\u001b[0;34m\u001b[0m\u001b[0m\n",
      "\u001b[0;31mNameError\u001b[0m: name 'X_test' is not defined"
     ]
    }
   ],
   "source": [
    "# X_train, X_test, y_train, y_test = train_test_split(X, y, test_size = 0.33)\n",
    "# error rate\n",
    "y_pred = clf.predict(X_test)\n",
    "\n",
    "from sklearn.metrics import r2_score\n",
    "r2_score(y_test, y_pred)"
   ]
  },
  {
   "cell_type": "code",
   "execution_count": null,
   "metadata": {},
   "outputs": [],
   "source": []
  }
 ],
 "metadata": {
  "kernelspec": {
   "display_name": "Python 3",
   "language": "python",
   "name": "python3"
  },
  "language_info": {
   "codemirror_mode": {
    "name": "ipython",
    "version": 3
   },
   "file_extension": ".py",
   "mimetype": "text/x-python",
   "name": "python",
   "nbconvert_exporter": "python",
   "pygments_lexer": "ipython3",
   "version": "3.7.4"
  }
 },
 "nbformat": 4,
 "nbformat_minor": 2
}
