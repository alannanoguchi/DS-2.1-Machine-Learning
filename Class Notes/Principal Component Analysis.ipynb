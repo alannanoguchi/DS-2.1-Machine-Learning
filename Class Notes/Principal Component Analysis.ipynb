{
 "cells": [
  {
   "cell_type": "markdown",
   "metadata": {},
   "source": [
    "# Principal Component Analysis (PCA)\n",
    "* PCA is a well-known algorith for Dimensionality Reduction\n",
    "* PCA:\n",
    "    - reduces the number of feautres while keeping the feature information\n",
    "    - PCA is a mathematical technique to reduce redundancy in the data\n",
    "    - removes correlations among features\n",
    "    - emphasizes variation of strong features, making the data easier to visualize"
   ]
  },
  {
   "cell_type": "markdown",
   "metadata": {},
   "source": [
    "Review Matrix multiplication:\n",
    "    * Matrix  A = ([2, 0], [1,5]) and vector v = np.array([3,4])\n",
    "    * np.dot(A,v)"
   ]
  },
  {
   "cell_type": "code",
   "execution_count": 5,
   "metadata": {},
   "outputs": [
    {
     "data": {
      "text/plain": [
       "array([ 6, 23])"
      ]
     },
     "execution_count": 5,
     "metadata": {},
     "output_type": "execute_result"
    }
   ],
   "source": [
    "import numpy as np\n",
    "\n",
    "A = ([2, 0], [1,5])\n",
    "v = np.array([3,4])\n",
    "\n",
    "np.dot(A,v)   "
   ]
  },
  {
   "cell_type": "code",
   "execution_count": 4,
   "metadata": {},
   "outputs": [
    {
     "data": {
      "text/plain": [
       "array([10, 20])"
      ]
     },
     "execution_count": 4,
     "metadata": {},
     "output_type": "execute_result"
    }
   ],
   "source": [
    "np.dot(v,A)"
   ]
  },
  {
   "cell_type": "markdown",
   "metadata": {},
   "source": [
    "EigenValue and Eigenvector of Matrix\n",
    "\n",
    "A matrix's eigenvalues and eigenvectors are what we will use for the scalar value(a) and vector(v) respectively\n",
    "\n",
    "* Eigenvecotr(v) i a vector whose direction remains unchanged when a linear tranformation is applied to it. They represent the rotation matrix.\n",
    "* Eigenvalues(a) represents the scalar value that is used such that when multiplied by v, gives the same value as Av\n",
    "\n",
    "For a given matrix A, we want to obtain a vector v and a scalar a value such that:\n",
    "\n",
    "Av = av"
   ]
  },
  {
   "cell_type": "markdown",
   "metadata": {},
   "source": [
    "### Write a python function to obtain vector(v) and scalar(a) for a given matrix A\n",
    "hints:\n",
    "1. Before we find the vector and scalar, we need the eigenvalye and eigenvector of A. Give the same matrix A, we used above, see how numpys linalg.eig method could help you solve this\n",
    "2. To check your answer, mulitply A by of its vectors, adn then multiply a by the same vector and see if you get the same outcome"
   ]
  },
  {
   "cell_type": "code",
   "execution_count": 9,
   "metadata": {},
   "outputs": [
    {
     "name": "stdout",
     "output_type": "stream",
     "text": [
      "[5. 2.]\n",
      "[[ 0.          0.9486833 ]\n",
      " [ 1.         -0.31622777]]\n"
     ]
    }
   ],
   "source": [
    "eig_value, eig_vector = np.linalg.eig(A)\n",
    "\n",
    "print(eig_value)\n",
    "print(eig_vector)"
   ]
  },
  {
   "cell_type": "markdown",
   "metadata": {},
   "source": [
    "## Check that Av = av"
   ]
  },
  {
   "cell_type": "code",
   "execution_count": 14,
   "metadata": {},
   "outputs": [
    {
     "data": {
      "text/plain": [
       "array([[ 0.        ,  1.8973666 ],\n",
       "       [ 5.        , -0.63245553]])"
      ]
     },
     "execution_count": 14,
     "metadata": {},
     "output_type": "execute_result"
    }
   ],
   "source": [
    "# muplitply A with its first eigen-vector\n",
    "np.dot(A, eig_vector[::1])"
   ]
  },
  {
   "cell_type": "code",
   "execution_count": 12,
   "metadata": {},
   "outputs": [
    {
     "ename": "ValueError",
     "evalue": "shapes (2,2) and (1,2) not aligned: 2 (dim 1) != 1 (dim 0)",
     "output_type": "error",
     "traceback": [
      "\u001b[0;31m---------------------------------------------------------------------------\u001b[0m",
      "\u001b[0;31mValueError\u001b[0m                                Traceback (most recent call last)",
      "\u001b[0;32m<ipython-input-12-67cbeca580cf>\u001b[0m in \u001b[0;36m<module>\u001b[0;34m\u001b[0m\n\u001b[1;32m      1\u001b[0m \u001b[0;31m# mupltiply A with its second eigen-vector\u001b[0m\u001b[0;34m\u001b[0m\u001b[0;34m\u001b[0m\u001b[0;34m\u001b[0m\u001b[0m\n\u001b[0;32m----> 2\u001b[0;31m \u001b[0mnp\u001b[0m\u001b[0;34m.\u001b[0m\u001b[0mdot\u001b[0m\u001b[0;34m(\u001b[0m\u001b[0mA\u001b[0m\u001b[0;34m,\u001b[0m \u001b[0meig_vector\u001b[0m\u001b[0;34m[\u001b[0m\u001b[0;34m:\u001b[0m\u001b[0;34m:\u001b[0m\u001b[0;36m2\u001b[0m\u001b[0;34m]\u001b[0m\u001b[0;34m)\u001b[0m\u001b[0;34m\u001b[0m\u001b[0;34m\u001b[0m\u001b[0m\n\u001b[0m",
      "\u001b[0;32m<__array_function__ internals>\u001b[0m in \u001b[0;36mdot\u001b[0;34m(*args, **kwargs)\u001b[0m\n",
      "\u001b[0;31mValueError\u001b[0m: shapes (2,2) and (1,2) not aligned: 2 (dim 1) != 1 (dim 0)"
     ]
    }
   ],
   "source": [
    "# mupltiply A with its second eigen-vector\n",
    "np.dot(A, eig_vector[::2])"
   ]
  },
  {
   "cell_type": "code",
   "execution_count": null,
   "metadata": {},
   "outputs": [],
   "source": []
  },
  {
   "cell_type": "code",
   "execution_count": 11,
   "metadata": {},
   "outputs": [
    {
     "data": {
      "text/plain": [
       "array([ 1.8973666 , -0.63245553])"
      ]
     },
     "execution_count": 11,
     "metadata": {},
     "output_type": "execute_result"
    }
   ],
   "source": [
    "# multiply the other eigen-value of A with its associaed eigen-vector\n",
    "eig_value[1]*eig_vector[:, 1]"
   ]
  },
  {
   "cell_type": "markdown",
   "metadata": {},
   "source": [
    "# Question: Which country is different from the others?\n",
    "\n",
    "https://setosa.io/ev/principal-component-analysis/"
   ]
  },
  {
   "cell_type": "code",
   "execution_count": 30,
   "metadata": {},
   "outputs": [
    {
     "name": "stdout",
     "output_type": "stream",
     "text": [
      "[[-144.99315218   -2.53299944]\n",
      " [ 477.39163882  -58.90186182]\n",
      " [ -91.869339    286.08178613]\n",
      " [-240.52914764 -224.64692488]]\n"
     ]
    }
   ],
   "source": [
    "import numpy as np \n",
    "import pandas as pd\n",
    "from sklearn.decomposition import PCA\n",
    "from sklearn import preprocessing\n",
    "import matplotlib.pyplot as plt\n",
    "\n",
    "\n",
    "# use pandas to read csv in the excel spreadsheet\n",
    "df = pd.read_excel('pca_uk.xlsx')\n",
    "\n",
    "# build a matrix for the feature values, not including the text labels\n",
    "X = np.array([df[i].values for i in df.columns if i != 'Features'])\n",
    "\n",
    "# print(X)\n",
    "\n",
    "# Calculate the PCA\n",
    "pca = PCA(n_components=2)\n",
    "\n",
    "# Find the principle components of 17 features\n",
    "X_r = pca.fit_transform(X)\n",
    "\n",
    "print(X_r)"
   ]
  },
  {
   "cell_type": "code",
   "execution_count": 34,
   "metadata": {
    "scrolled": true
   },
   "outputs": [
    {
     "data": {
      "image/png": "[encoded data removed]",
      "text/plain": [
       "<Figure size 432x288 with 1 Axes>"
      ]
     },
     "metadata": {
      "needs_background": "light"
     },
     "output_type": "display_data"
    }
   ],
   "source": [
    "# Let's visualize the principle component\n",
    "\n",
    "for feature, (plot_x, plot_y) in enumerate(zip(X_r[:, 0], X_r[:,1])):\n",
    "    plt.scatter(plot_x, plot_y)\n",
    "    plt.text(plot_x+0.3, plot_y+0.3, df.columns[:-1][feature])\n",
    "\n",
    "    \n",
    "plt.show()"
   ]
  },
  {
   "cell_type": "markdown",
   "metadata": {},
   "source": [
    "How much of the information in the original dataset is preserved in the principle components?\n",
    "* Hint: use pca.explained_variance_ratio_"
   ]
  },
  {
   "cell_type": "code",
   "execution_count": 38,
   "metadata": {},
   "outputs": [
    {
     "name": "stdout",
     "output_type": "stream",
     "text": [
      "[[-144.99315218   -2.53299944]\n",
      " [ 477.39163882  -58.90186182]\n",
      " [ -91.869339    286.08178613]\n",
      " [-240.52914764 -224.64692488]]\n",
      "[105073.34576714  45261.62487597]\n",
      "[0.67444346 0.29052475]\n",
      "[0.67444346 0.96496821]\n"
     ]
    }
   ],
   "source": [
    "# PCA computation by sklearn\n",
    "\n",
    "pca = PCA(n_components = 2)\n",
    "X_r = pca.fit_transform(X)\n",
    "\n",
    "print(X_r)\n",
    "print(pca.explained_variance_)\n",
    "print(pca.explained_variance_ratio_)\n",
    "print(pca.explained_variance_ratio_.cumsum())   # we find that 96% of the information is preserved"
   ]
  },
  {
   "cell_type": "markdown",
   "metadata": {},
   "source": [
    "# How to calculate the correlation of the principle components:"
   ]
  },
  {
   "cell_type": "code",
   "execution_count": 43,
   "metadata": {},
   "outputs": [
    {
     "name": "stdout",
     "output_type": "stream",
     "text": [
      "Correlation of PCA Components:\n",
      "(-2.7755575615628914e-17, 1.0)\n"
     ]
    }
   ],
   "source": [
    "import scipy.stats\n",
    "\n",
    "print(\"Correlation of PCA Components:\")\n",
    "print(scipy.stats.pearsonr(X_r[:, 0], X_r[:, 1]))"
   ]
  },
  {
   "cell_type": "markdown",
   "metadata": {},
   "source": [
    "### Activity(Reminder): Reverse the elements of a list"
   ]
  },
  {
   "cell_type": "code",
   "execution_count": 51,
   "metadata": {},
   "outputs": [
    {
     "name": "stdout",
     "output_type": "stream",
     "text": [
      "[3, 2, 1]\n"
     ]
    }
   ],
   "source": [
    "list = [1, 2, 3]\n",
    "\n",
    "print(list[::-1])"
   ]
  },
  {
   "cell_type": "code",
   "execution_count": 49,
   "metadata": {},
   "outputs": [
    {
     "data": {
      "text/plain": [
       "[3, 2, 1]"
      ]
     },
     "execution_count": 49,
     "metadata": {},
     "output_type": "execute_result"
    }
   ],
   "source": [
    "def reverse_f(ls):\n",
    "    N = len(ls)\n",
    "    reverse_ls = []\n",
    "    \n",
    "    for i in range(N):\n",
    "        reverse_ls.append(ls[N - (i + 1)])\n",
    "    return reverse_ls\n",
    "\n",
    "reverse_f([1, 2, 3])"
   ]
  },
  {
   "cell_type": "markdown",
   "metadata": {},
   "source": [
    "## Activity: PCA Steps\n",
    "\n",
    "Follow the steps here and write a function that computes the principle component for iris dataset \n",
    "\n",
    "https://sebastianraschka.com/Articles/2014_pca_step_by_step.html\n",
    "\n",
    "Steps: \n",
    "\n",
    "1- Subtract column mean from feature matrix\n",
    "\n",
    "2- Calculate the covariance of centered matrix\n",
    "\n",
    "3- Calculate the eigenvalue and eigenvector of covariance matrix\n",
    "\n",
    "4- Return the first K (two for example) column of matrix multiplication of centerned matrix with eigenvector matrix\n",
    "\n",
    "\n",
    "Compare the result of custom function with PCA in sklearn\n",
    "\n",
    "Calculate the correlation of the first two principle component \n",
    "\n",
    "How much of the dataset information is preserved in the first two components?\n",
    "\n",
    "Hint: use `pca.explained_variance_ratio_`"
   ]
  },
  {
   "cell_type": "markdown",
   "metadata": {},
   "source": [
    "1- Use the following matrix: X = np.array([[1, 1, 1], [1, 2, 1], [1, 3, 2], [1, 4, 3]])\n",
    "\n",
    "2- Subtract the column mean from the feature matrix -> this new matrix will be our centered matrix\n",
    "\n",
    "3- Calculate the covariance of the centered matrix (check out numpy's resources to see if there's a function that can do this for you: np.cov())\n",
    "\n",
    "4- calculate the eigenvalue and eigenvector of the covariance matrix. Remember how we did this in the previous activity. \n",
    "\n",
    "5- Sort the eigenvalues so that they are in decreasing order, and then find the top N (for example, 2) eigenvectors\n",
    "\n",
    "6- Dot multiply the centered matrix with the top N eigenvectors of the covariance matrix\n",
    "\n",
    "7- Compare the result with the function with PCA in sklearn"
   ]
  },
  {
   "cell_type": "code",
   "execution_count": 75,
   "metadata": {},
   "outputs": [
    {
     "name": "stdout",
     "output_type": "stream",
     "text": [
      "[[1 1 1]\n",
      " [1 2 1]\n",
      " [1 3 2]\n",
      " [1 4 3]]\n"
     ]
    },
    {
     "data": {
      "text/plain": [
       "array([[ 0.        ,  0.        ],\n",
       "       [-2.03405201,  0.03900378],\n",
       "       [-1.48274273, -0.05350605]])"
      ]
     },
     "execution_count": 75,
     "metadata": {},
     "output_type": "execute_result"
    }
   ],
   "source": [
    "from sklearn.decomposition import PCA\n",
    "import scipy\n",
    "import numpy as np\n",
    "\n",
    "\n",
    "X = np.array([[1, 1, 1], [1, 2, 1], [1, 3, 2], [1, 4, 3]])\n",
    "print(X)\n",
    "\n",
    "# PCA Computation by Function\n",
    "def PCA_calculation(data, n_comp=2):\n",
    "    \n",
    "    x_bar = np.mean(data, axis=0)\n",
    "    \n",
    "    # 2- Subtract the column mean from the feature matrix -> this new matrix will be our centered matrix\n",
    "    centered = data - x_bar\n",
    "    \n",
    "    # 3- Calculate the covariance of the centered matrix\n",
    "    covariance = np.cov(centered.T)     # .T = transpose -> the rows of the original data are now the columns\n",
    "    \n",
    "    # 4- calculate the eigenvalue and eigenvector of the covariance matrix\n",
    "    eig_value, eig_vector = np.linalg.eig(covariance)\n",
    "    \n",
    "    # 5- Sort the eigenvalues so that they are in decreasing order, and then find the top N (for example, 2) eigenvectors\n",
    "    idx = np.argsort(eig_value)[::-1]\n",
    "    idx_n_comp = idx[:n_comp]\n",
    "    \n",
    "    # eigenvector according to top n_comp largest\n",
    "    eig_vector = eig_vector[:, idx_n_comp]\n",
    "    \n",
    "    # 6- Dot multiply the centered matrix with the top N eigenvectors of the covariance matrix\n",
    "    pca = np.dot(covariance, eig_vector)\n",
    "    return pca\n",
    "\n",
    "\n",
    "PCA_calculation(X, 2)"
   ]
  },
  {
   "cell_type": "code",
   "execution_count": 76,
   "metadata": {},
   "outputs": [
    {
     "name": "stdout",
     "output_type": "stream",
     "text": [
      "[[-1.65392786 -0.2775295 ]\n",
      " [-0.84584087  0.31153366]\n",
      " [ 0.55130929  0.09250983]\n",
      " [ 1.94845944 -0.126514  ]]\n",
      "[2.5171201  0.06621324]\n",
      "[0.97436907 0.02563093]\n",
      "[0.97436907 1.        ]\n",
      "Correlation of PCA Component:\n",
      "(3.0531133177191805e-16, 0.9999999999999997)\n"
     ]
    }
   ],
   "source": [
    "# PCA Computation by Sklearn\n",
    "\n",
    "X = np.array([[1, 1, 1], [1, 2, 1], [1, 3, 2], [1, 4, 3]])\n",
    "\n",
    "pca = PCA(n_components=2)\n",
    "X_r = pca.fit_transform(X)\n",
    "print(X_r)\n",
    "\n",
    "print(pca.explained_variance_)\n",
    "print(pca.explained_variance_ratio_)\n",
    "print(pca.explained_variance_ratio_.cumsum())\n",
    "\n",
    "print('Correlation of PCA Component:')\n",
    "print(scipy.stats.pearsonr(X_r[:, 0], X_r[:, 1]))"
   ]
  },
  {
   "cell_type": "markdown",
   "metadata": {},
   "source": [
    "### Activity: Apply Principle to Boston Housing Features and then train the linear regression model\n",
    "\n",
    "* Basically, we remove correlation among features with PCA\n",
    "\n",
    "* Steps for doing PCA with Linear Regression for Boston Housing:\n",
    "\n",
    "    1- split dataset: create X_train, y_train, X_test, and y_test\n",
    "    \n",
    "    2- Apply PCA on X_train and obtain the required number of principle components\n",
    "    \n",
    "    3-  `pca = PCA(n_components=2)`\n",
    "    \n",
    "        - `X_train_reduced = pca.fit_transform(X_train)`\n",
    "        \n",
    "    4- Apply data normalization for `X_train_reduced` --> name it as `X_train_reduced_scaled`\n",
    "    \n",
    "    5- Fit the model `lr.fit(X_train_reduced_scaled)`\n",
    "    \n",
    "    6- Pass `X_test_reduced = pca.transform(X_test)` --> then obtain `X_test_reduced_scaled`\n",
    "    \n",
    "    7- Pass `X_test_reduced_scaled` into `lr.predict(X_test_reduced_scaled)`\n",
    "    \n",
    "https://ostwalprasad.github.io/machine-learning/PCA-using-python.html"
   ]
  },
  {
   "cell_type": "code",
   "execution_count": 80,
   "metadata": {},
   "outputs": [
    {
     "name": "stdout",
     "output_type": "stream",
     "text": [
      "[0.80457219 0.96727776 0.98868609]\n"
     ]
    }
   ],
   "source": [
    "# Boston Housing Data\n",
    "from sklearn.datasets import load_boston\n",
    "import pandas as pd\n",
    "import matplotlib.pyplot as plt\n",
    "import seaborn as sns\n",
    "import numpy as np\n",
    "from sklearn.model_selection import train_test_split\n",
    "from sklearn.linear_model import LinearRegression\n",
    "from sklearn.metrics import mean_squared_error, r2_score\n",
    "\n",
    "\n",
    "# load the data\n",
    "boston = load_boston()\n",
    "\n",
    "bos = pd.DataFrame(boston.data)\n",
    "bos.columns = boston.feature_names\n",
    "bos['PRICE'] = boston.target\n",
    "\n",
    "# print(bos.head())\n",
    "\n",
    "print(pca.explained_variance_ratio_.cumsum())"
   ]
  },
  {
   "cell_type": "code",
   "execution_count": 95,
   "metadata": {},
   "outputs": [],
   "source": [
    "col_features = ['CRIM', 'ZN', 'INDUS', 'CHAS', 'NOX', 'RM', 'AGE', 'DIS', 'RAD', 'TAX', 'PTRATIO', 'B', 'LSTAT']\n",
    "X = bos[col_features]\n",
    "y = bos.PRICE\n",
    "\n",
    "\n",
    "# 1- split dataset: create X_train, y_train, X_test, and y_test\n",
    "X_train, X_test, y_train, y_test = train_test_split(X, y, test_size=0.25, random_state=0) \n",
    "\n",
    "\n",
    "# 2- Apply PCA on X_train and obtain the required number of principle components\n",
    "pca = PCA(n_components = 2)\n",
    "X_r = pca.fit_transform(X_train)\n",
    "\n",
    "X_train_reduced = pca.fit_transform(X_train)"
   ]
  },
  {
   "cell_type": "code",
   "execution_count": 96,
   "metadata": {},
   "outputs": [],
   "source": [
    "bos_reg = LinearRegression()\n",
    "\n",
    "bos_reg.fit(X_r, y_train)\n",
    "\n",
    "# 4- Apply data normalization for X_train_reduced --> name it as X_train_reduced_scaled\n",
    "X_train_reduced_scaled = (X_train_reduced)"
   ]
  },
  {
   "cell_type": "code",
   "execution_count": null,
   "metadata": {},
   "outputs": [],
   "source": []
  }
 ],
 "metadata": {
  "kernelspec": {
   "display_name": "Python 3",
   "language": "python",
   "name": "python3"
  },
  "language_info": {
   "codemirror_mode": {
    "name": "ipython",
    "version": 3
   },
   "file_extension": ".py",
   "mimetype": "text/x-python",
   "name": "python",
   "nbconvert_exporter": "python",
   "pygments_lexer": "ipython3",
   "version": "3.7.4"
  }
 },
 "nbformat": 4,
 "nbformat_minor": 2
}
