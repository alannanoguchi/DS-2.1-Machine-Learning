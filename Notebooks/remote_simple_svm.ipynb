{
 "cells": [
  {
   "cell_type": "markdown",
   "metadata": {},
   "source": [
    "## Learning Objectives \n",
    "\n",
    "By the end of this class, you should be able to...\n",
    "\n",
    "- Introduce a classifier, that seperates different classes we have in our dataset, with a maximum margin known as a Support Vector Machine (SVM)\n",
    "\n",
    "- Modify the SVM for datasets that are not linearly separable\n",
    "\n",
    "- Adjust the SVM for an unbalanced dataset"
   ]
  },
  {
   "cell_type": "markdown",
   "metadata": {},
   "source": [
    "## Support Vector Machine (SVM)\n",
    "\n",
    "- SVM is a supervised machine learning model for classification tasks. It's really good at doing both classification and regression simultaneously. \n",
    "\n",
    "- If you have a lot of data that needs to be classified, an SVM can help you achieve that\n",
    "\n",
    "- For two dimensions (when we have two features), assume the target has two classes. The SVM will obtain the best line that seperates the data into two groups \n",
    "\n",
    "<img src=\"Images/svm_1.png\" width=\"300\" height=\"300\">\n",
    "\n",
    "<img src=\"Images/best_margin.png\" width=\"300\" height=\"300\">"
   ]
  },
  {
   "cell_type": "markdown",
   "metadata": {},
   "source": [
    "##  Question: which one of the above lines is the best choice for separating the data? Why?"
   ]
  },
  {
   "cell_type": "markdown",
   "metadata": {},
   "source": [
    "## What are Support Vectors in SVM?\n",
    "\n",
    "**Support vectors** are the datapoints that lie closest to the decision boundary (best line, seen in red below)\n",
    "\n",
    "<img src=\"Images/svm_2.png\" width=\"300\" height=\"300\">"
   ]
  },
  {
   "cell_type": "markdown",
   "metadata": {},
   "source": [
    "## Brain Health\n",
    "\n",
    "We have medical data on brain health through the following [Brain Health Dataset](./Datasets/SVM_Dataset1.csv)\n",
    "\n",
    "- Two features (X1 and X2 columns) are given that are releted to brain chemistry:\n",
    "\n",
    "    - Serotonin \n",
    "    \n",
    "    - Dopamine\n",
    "    \n",
    "- The target (y column) shows brain health by indicating having (-1) or not having (1) depression.\n",
    "\n",
    "    - 1 means subject does not have depression\n",
    "    \n",
    "    - -1 means subject does have depression"
   ]
  },
  {
   "cell_type": "code",
   "execution_count": 22,
   "metadata": {},
   "outputs": [],
   "source": [
    "import pandas as pd\n",
    "\n",
    "df=pd.read_csv('SVM_Dataset1.csv', index_col=0)"
   ]
  },
  {
   "cell_type": "code",
   "execution_count": 23,
   "metadata": {},
   "outputs": [
    {
     "data": {
      "text/html": [
       "<div>\n",
       "<style scoped>\n",
       "    .dataframe tbody tr th:only-of-type {\n",
       "        vertical-align: middle;\n",
       "    }\n",
       "\n",
       "    .dataframe tbody tr th {\n",
       "        vertical-align: top;\n",
       "    }\n",
       "\n",
       "    .dataframe thead th {\n",
       "        text-align: right;\n",
       "    }\n",
       "</style>\n",
       "<table border=\"1\" class=\"dataframe\">\n",
       "  <thead>\n",
       "    <tr style=\"text-align: right;\">\n",
       "      <th></th>\n",
       "      <th>X1</th>\n",
       "      <th>X2</th>\n",
       "      <th>y</th>\n",
       "    </tr>\n",
       "  </thead>\n",
       "  <tbody>\n",
       "    <tr>\n",
       "      <th>0</th>\n",
       "      <td>2.947814</td>\n",
       "      <td>6.626878</td>\n",
       "      <td>1</td>\n",
       "    </tr>\n",
       "    <tr>\n",
       "      <th>1</th>\n",
       "      <td>2.530388</td>\n",
       "      <td>7.785050</td>\n",
       "      <td>1</td>\n",
       "    </tr>\n",
       "    <tr>\n",
       "      <th>2</th>\n",
       "      <td>3.566991</td>\n",
       "      <td>5.651046</td>\n",
       "      <td>1</td>\n",
       "    </tr>\n",
       "    <tr>\n",
       "      <th>3</th>\n",
       "      <td>3.156983</td>\n",
       "      <td>5.467077</td>\n",
       "      <td>1</td>\n",
       "    </tr>\n",
       "    <tr>\n",
       "      <th>4</th>\n",
       "      <td>2.582346</td>\n",
       "      <td>4.457777</td>\n",
       "      <td>-1</td>\n",
       "    </tr>\n",
       "    <tr>\n",
       "      <th>5</th>\n",
       "      <td>2.155826</td>\n",
       "      <td>6.222343</td>\n",
       "      <td>-1</td>\n",
       "    </tr>\n",
       "    <tr>\n",
       "      <th>6</th>\n",
       "      <td>3.273418</td>\n",
       "      <td>3.520687</td>\n",
       "      <td>-1</td>\n",
       "    </tr>\n",
       "  </tbody>\n",
       "</table>\n",
       "</div>"
      ],
      "text/plain": [
       "         X1        X2  y\n",
       "0  2.947814  6.626878  1\n",
       "1  2.530388  7.785050  1\n",
       "2  3.566991  5.651046  1\n",
       "3  3.156983  5.467077  1\n",
       "4  2.582346  4.457777 -1\n",
       "5  2.155826  6.222343 -1\n",
       "6  3.273418  3.520687 -1"
      ]
     },
     "execution_count": 23,
     "metadata": {},
     "output_type": "execute_result"
    }
   ],
   "source": [
    "print(df)"
   ]
  },
  {
   "cell_type": "markdown",
   "metadata": {},
   "source": [
    "### Activity: Lets build our X_train and Y_train arrays\n",
    "\n",
    "**Complete this activity groups of 3:**\n",
    "\n",
    "**Hint:** We'll need to use numpy here, as well as the [zip function](https://www.geeksforgeeks.org/create-pandas-dataframe-from-lists-using-zip/)"
   ]
  },
  {
   "cell_type": "code",
   "execution_count": 24,
   "metadata": {},
   "outputs": [
    {
     "data": {
      "text/plain": [
       "array([[2.947814, 6.626878],\n",
       "       [2.530388, 7.78505 ],\n",
       "       [3.566991, 5.651046],\n",
       "       [3.156983, 5.467077],\n",
       "       [2.582346, 4.457777],\n",
       "       [2.155826, 6.222343],\n",
       "       [3.273418, 3.520687]])"
      ]
     },
     "execution_count": 24,
     "metadata": {},
     "output_type": "execute_result"
    }
   ],
   "source": [
    "import numpy as np\n",
    "X1=df['X1']\n",
    "X2=df['X2']\n",
    "X_train=np.array(list(zip(X1,X2)))\n",
    "\n",
    "print(X_train)"
   ]
  },
  {
   "cell_type": "code",
   "execution_count": 25,
   "metadata": {},
   "outputs": [
    {
     "name": "stdout",
     "output_type": "stream",
     "text": [
      "[ 1  1  1  1 -1 -1 -1]\n"
     ]
    }
   ],
   "source": [
    "y_train=df['y'].values\n",
    "\n",
    "print(y_train)"
   ]
  },
  {
   "cell_type": "markdown",
   "metadata": {},
   "source": [
    "### Activity: Assign color and label to each target class\n",
    "\n",
    "**Complete this activity groups of 3:**\n",
    "\n",
    "**Hint:** To do this, build two lists whose color/label values match with the values of the `y_train` array at the corresponding indices."
   ]
  },
  {
   "cell_type": "code",
   "execution_count": 26,
   "metadata": {},
   "outputs": [
    {
     "data": {
      "text/plain": [
       "['b', 'b', 'b', 'b', 'r', 'r', 'r']"
      ]
     },
     "execution_count": 26,
     "metadata": {},
     "output_type": "execute_result"
    }
   ],
   "source": [
    "color_ls = []\n",
    "# if y == 1, then the value at the same index in color_ls will be 'b'\n",
    "# otherwise, it will be 'r'\n",
    "for k in y_train:\n",
    "    if k == 1:\n",
    "        color_ls.append('b')\n",
    "    else:\n",
    "        color_ls.append('r')\n",
    "\n",
    "print(color_ls)\n",
    "        "
   ]
  },
  {
   "cell_type": "code",
   "execution_count": 27,
   "metadata": {},
   "outputs": [
    {
     "data": {
      "text/plain": [
       "['H', 'H', 'H', 'H', 'NH', 'NH', 'NH']"
      ]
     },
     "execution_count": 27,
     "metadata": {},
     "output_type": "execute_result"
    }
   ],
   "source": [
    "label = []\n",
    "# if y == 1, then the value at the same index in label will be 'H'\n",
    "# otherwise, it will be 'NH'\n",
    "for k in y_train:\n",
    "    if k == 1:\n",
    "        label.append('H')\n",
    "    else:\n",
    "        label.append('NH')\n",
    "\n",
    "print(label)"
   ]
  },
  {
   "cell_type": "markdown",
   "metadata": {},
   "source": [
    "### Activity: Create a scatter plot of data with labels\n",
    "\n",
    "**Complete this activity groups of 3:**\n",
    "\n",
    "**Hints:**\n",
    "\n",
    "- There's some functions in [matplotlib.pyplot](https://matplotlib.org/3.2.1/api/_as_gen/matplotlib.pyplot.html) that will help us here.\n",
    "- How can the [enumerate function](https://www.geeksforgeeks.org/enumerate-in-python/) help us here?"
   ]
  },
  {
   "cell_type": "code",
   "execution_count": 28,
   "metadata": {},
   "outputs": [
    {
     "data": {
      "image/png": "[encoded data removed]",
      "text/plain": [
       "<Figure size 432x288 with 1 Axes>"
      ]
     },
     "metadata": {},
     "output_type": "display_data"
    }
   ],
   "source": [
    "import matplotlib.pyplot as plt\n",
    "\n",
    "# k is our index, (i,j) are our Serotonin and Dopamine pairings.\n",
    "# For example, here are the values on the first iteration of the loop:\n",
    "# k == 0, (i, j) == (2.947814, 6.626878)\n",
    "for k, (i,j) in enumerate(X_train):\n",
    "    # add the datapoint to a scatter plot,\n",
    "    # using the k'th color in colors_ls\n",
    "    plt.scatter(i, j, c = color_ls[k])\n",
    "    # 0.02 to the right and above the point,\n",
    "    # add the k'th text label in label\n",
    "    plt.text(i+0.02, j+0.02, label[k])"
   ]
  },
  {
   "cell_type": "markdown",
   "metadata": {},
   "source": [
    "## How to obtain the best line using sklearn\n",
    "\n",
    "**Code-along with Milad**\n",
    "\n",
    "sklearn has an [SVM module](https://scikit-learn.org/stable/modules/svm.html#svm) you can import that will help you find the best fit line. Look into how the `SVC` and `fit` functions can help you"
   ]
  },
  {
   "cell_type": "code",
   "execution_count": 29,
   "metadata": {},
   "outputs": [
    {
     "data": {
      "text/plain": [
       "SVC(C=10, cache_size=200, class_weight=None, coef0=0.0,\n",
       "  decision_function_shape='ovr', degree=3, gamma='auto', kernel='linear',\n",
       "  max_iter=-1, probability=False, random_state=None, shrinking=True,\n",
       "  tol=0.001, verbose=False)"
      ]
     },
     "execution_count": 29,
     "metadata": {},
     "output_type": "execute_result"
    }
   ],
   "source": [
    "from sklearn import svm\n",
    "\n",
    "# svm_classifier = svm.SVC(kernel='poly',C=1, degree=2)\n",
    "\n",
    "# We want to use a linear classification\n",
    "svm_classifier = svm.SVC(kernel='linear', C=10)\n",
    "# find the best fit line\n",
    "svm_classifier.fit(X_train, y_train)"
   ]
  },
  {
   "cell_type": "code",
   "execution_count": 30,
   "metadata": {},
   "outputs": [],
   "source": [
    "# Helper function to plot the best fit line,\n",
    "# as well as marking the closest data points to the line,\n",
    "# through dotted lines (margins)\n",
    "def plot_decision_boundary(clf, X, y):\n",
    "    x1_min, x1_max = X[:, 0].min() - 1, X[:, 0].max() + 1\n",
    "    x2_min, x2_max = X[:, 1].min() - 1, X[:, 1].max() + 1\n",
    "    xx1, xx2 = np.meshgrid(np.arange(x1_min, x1_max),np.arange(x2_min, x2_max))\n",
    "    Z = clf.decision_function(np.array([xx1.ravel(), xx2.ravel()]).T).reshape(xx1.shape)\n",
    "    plt.contour(xx1, xx2, Z, colors='b', levels=[-1, 0, 1], alpha=0.4, linestyles=['--', '-', '--'])\n",
    "    plt.xlim(xx1.min(), xx1.max())\n",
    "    plt.ylim(xx2.min(), xx2.max())\n",
    "    "
   ]
  },
  {
   "cell_type": "code",
   "execution_count": 31,
   "metadata": {},
   "outputs": [
    {
     "data": {
      "image/png": "[encoded data removed]",
      "text/plain": [
       "<Figure size 432x288 with 1 Axes>"
      ]
     },
     "metadata": {},
     "output_type": "display_data"
    }
   ],
   "source": [
    "# pass in the trained model and data points,\n",
    "# and plot the best fit line + margins\n",
    "plot_decision_boundary(svm_classifier, X_train, y_train)\n",
    "\n",
    "# plot data points + color/labels\n",
    "for k, (i,j) in enumerate(X_train):\n",
    "    plt.scatter(i, j, c = color_ls[k])\n",
    "    plt.text(i+0.02, j+0.02, label[k])"
   ]
  },
  {
   "cell_type": "code",
   "execution_count": 32,
   "metadata": {},
   "outputs": [
    {
     "data": {
      "text/plain": [
       "array([2, 1], dtype=int32)"
      ]
     },
     "execution_count": 32,
     "metadata": {},
     "output_type": "execute_result"
    }
   ],
   "source": [
    "# Number of Support Vectors for each class:\n",
    "\n",
    "svm_classifier.n_support_"
   ]
  },
  {
   "cell_type": "code",
   "execution_count": 33,
   "metadata": {},
   "outputs": [
    {
     "data": {
      "text/plain": [
       "array([[2.155826, 6.222343],\n",
       "       [3.273418, 3.520687],\n",
       "       [3.156983, 5.467077]])"
      ]
     },
     "execution_count": 33,
     "metadata": {},
     "output_type": "execute_result"
    }
   ],
   "source": [
    "# What are those Support Vectors:\n",
    "\n",
    "svm_classifier.support_vectors_"
   ]
  },
  {
   "cell_type": "code",
   "execution_count": 34,
   "metadata": {},
   "outputs": [
    {
     "name": "stdout",
     "output_type": "stream",
     "text": [
      "[[2.90336685 1.20121959]]\n",
      "[-14.73321143]\n"
     ]
    }
   ],
   "source": [
    "# Obtain the slope (weight) and intercept for the best fit line equation: \n",
    "\n",
    "# a + b\n",
    "weight=svm_classifier.coef_\n",
    "# c\n",
    "intercept=svm_classifier.intercept_\n",
    "print(weight)\n",
    "print(intercept)"
   ]
  },
  {
   "cell_type": "markdown",
   "metadata": {},
   "source": [
    "## From the above weight and intecept results, we can say the best line is:\n",
    "\n",
    "$ax_1+bx_2+c =0$, where $a = 2.90336685$, $b = 1.20121959$ and $c = -14.73321143$"
   ]
  },
  {
   "cell_type": "markdown",
   "metadata": {},
   "source": [
    "## Activity: Check that the points (3, 5) and (2, 7.5) are very close to the best line:\n",
    "\n",
    "- Use `a`, `b`, and `c` that we just calculated"
   ]
  },
  {
   "cell_type": "code",
   "execution_count": 44,
   "metadata": {},
   "outputs": [
    {
     "name": "stdout",
     "output_type": "stream",
     "text": [
      "-0.017012931258699737\n",
      "0.08266919494858627\n"
     ]
    }
   ],
   "source": [
    "print(weight[0][0]*3+weight[0][1]*5+intercept[0])\n",
    "print(weight[0][0]*2+weight[0][1]*7.5+intercept[0])"
   ]
  },
  {
   "cell_type": "markdown",
   "metadata": {},
   "source": [
    "## Activity: Am I healthy?\n",
    "\n",
    "- I went to a medical lab and they measured my Serotonin and Dopamine which was 3 and 6, respectively.\n",
    "- Can we use the SVM classifier to see if I am deppressed?"
   ]
  },
  {
   "cell_type": "code",
   "execution_count": 174,
   "metadata": {},
   "outputs": [
    {
     "data": {
      "text/plain": [
       "array([1])"
      ]
     },
     "execution_count": 174,
     "metadata": {},
     "output_type": "execute_result"
    }
   ],
   "source": [
    "svm_classifier.predict([[3,6]])"
   ]
  },
  {
   "cell_type": "markdown",
   "metadata": {},
   "source": [
    "Good, I am not depressed :)"
   ]
  },
  {
   "cell_type": "markdown",
   "metadata": {},
   "source": [
    "## SVM Training For Non-Linearly Separable Data\n",
    "\n",
    "Based on the [SVM_Dataset2 dataset](./Datasets/SVM_Dataset2.csv), it is possible that we can not find a _line_ that separates the two classes.\n",
    "\n",
    "\n",
    "<img src=\"Images/svm_5.png\" width=\"500\" height=\"500\">\n",
    "\n",
    "## Solution: Use Polynomial as the Kernel\n",
    "\n",
    "<img src=\"Images/svm_3.png\" width=\"500\" height=\"500\">"
   ]
  },
  {
   "cell_type": "markdown",
   "metadata": {},
   "source": [
    "## What if even polynomial can not separate the two groups?\n",
    "\n",
    "\n",
    "<img src=\"Images/why_rbf_kernel.png\" width=\"500\" height=\"500\">"
   ]
  },
  {
   "cell_type": "markdown",
   "metadata": {},
   "source": [
    "## Solution: Use Radial Basis Function (RBF) as the Kernel\n",
    "\n",
    "<img src=\"Images/svm_6.png\" width=\"500\" height=\"500\">"
   ]
  },
  {
   "cell_type": "markdown",
   "metadata": {},
   "source": [
    "## Kernels in SVM and their parameters:\n",
    "\n",
    "Type of kernels:\n",
    "\n",
    "1. Linear\n",
    "1. Polynomial\n",
    "1. RBF (Gaussian)\n",
    "\n",
    "There are two parameters for each of these:\n",
    "\n",
    "- Gamma (for RBF only). This is the \"spread\" of the decision region (kernel)\n",
    "- C (for all of them). This is the threshold for misclassifying data.\n",
    "\n",
    "Read [this article on SVM parameters](https://chrisalbon.com/machine_learning/support_vector_machines/svc_parameters_using_rbf_kernel/) for more information! (Optional)"
   ]
  },
  {
   "cell_type": "markdown",
   "metadata": {},
   "source": [
    "## What if the classes are unbalanced?\n",
    "\n",
    "Let's go through this example together to learn about assigning **class weights** for SVMs:\n",
    "http://scikit-learn.org/stable/auto_examples/svm/plot_separating_hyperplane_unbalanced.html\n",
    "\n",
    "\n",
    "## Activity: Obtain which line (black or red) from the previous example will have the lowest error\n",
    "\n",
    "**Complete this activity in groups of 3**\n",
    "\n",
    "**Hints:**\n",
    "\n",
    "Follow these steps:\n",
    "1. Train two SVM models: one with class weights, and one without\n",
    "1. Pass the dataset into your SVM models\n",
    "1. Compare the model predictions with known classes\n",
    "1. Report which one has the lowest mistakes (error rate)\n",
    "\n",
    "**Use the following code to get started (includes the dataset to use:)**"
   ]
  },
  {
   "cell_type": "code",
   "execution_count": null,
   "metadata": {},
   "outputs": [],
   "source": [
    "import numpy as np\n",
    "import matplotlib.pyplot as plt\n",
    "from sklearn import svm\n",
    "from sklearn.datasets import make_blobs\n",
    "\n",
    "# we create two clusters of random points\n",
    "n_samples_1 = 1000\n",
    "n_samples_2 = 100\n",
    "centers = [[0.0, 0.0], [2.0, 2.0]]\n",
    "clusters_std = [1.5, 0.5]\n",
    "X, y = make_blobs(n_samples=[n_samples_1, n_samples_2],\n",
    "                  centers=centers,\n",
    "                  cluster_std=clusters_std,\n",
    "                  random_state=0, shuffle=False)"
   ]
  },
  {
   "cell_type": "markdown",
   "metadata": {},
   "source": [
    "## Resource: All the code we used for SVM_Dataset1:"
   ]
  },
  {
   "cell_type": "code",
   "execution_count": 17,
   "metadata": {},
   "outputs": [
    {
     "data": {
      "text/plain": [
       "array([[2.155826, 6.222343],\n",
       "       [3.273418, 3.520687],\n",
       "       [3.156983, 5.467077]])"
      ]
     },
     "execution_count": 17,
     "metadata": {},
     "output_type": "execute_result"
    },
    {
     "data": {
      "image/png": "[encoded data removed]",
      "text/plain": [
       "<Figure size 432x288 with 1 Axes>"
      ]
     },
     "metadata": {},
     "output_type": "display_data"
    }
   ],
   "source": [
    "import numpy as np\n",
    "import pandas as pd\n",
    "from sklearn import svm\n",
    "import matplotlib.pyplot as plt\n",
    "\n",
    "df=pd.read_csv('SVM_Dataset1.csv', index_col=0)\n",
    "\n",
    "\n",
    "X1=df['X1']\n",
    "X2=df['X2']\n",
    "\n",
    "X_train=np.array(list(zip(X1,X2)))\n",
    "y_train=df['y'].values\n",
    "\n",
    "\n",
    "svm_classifier = svm.SVC(kernel='linear',C=10)\n",
    "\n",
    "# svm_classifier = svm.SVC(kernel='rbf', gamma=0.1, C=10)\n",
    "svm_classifier.fit(X_train, y_train)\n",
    "\n",
    "color_ls = []\n",
    "for k in y_train:\n",
    "    if k == 1:\n",
    "        color_ls.append('b')\n",
    "    else:\n",
    "        color_ls.append('r')\n",
    "color_ls\n",
    "\n",
    "label = []\n",
    "for k in y_train:\n",
    "    if k == 1:\n",
    "        label.append('H')\n",
    "    else:\n",
    "        label.append('NH')\n",
    "label\n",
    "\n",
    "def plot_decision_boundary(clf, X, y):\n",
    "    x1_min, x1_max = X[:, 0].min() - 1, X[:, 0].max() + 1\n",
    "    x2_min, x2_max = X[:, 1].min() - 1, X[:, 1].max() + 1\n",
    "    xx1, xx2 = np.meshgrid(np.arange(x1_min, x1_max),np.arange(x2_min, x2_max))\n",
    "    Z = clf.decision_function(np.array([xx1.ravel(), xx2.ravel()]).T).reshape(xx1.shape)\n",
    "    plt.contourf(xx1, xx2, Z, colors='k', levels=[-1, 0, 1], alpha=0.4, linestyles=['--', '-', '--'])\n",
    "    plt.xlim(xx1.min(), xx1.max())\n",
    "    plt.ylim(xx2.min(), xx2.max())\n",
    "    \n",
    "\n",
    "plot_decision_boundary(svm_classifier, X_train, y_train)\n",
    "\n",
    "for k, (i,j) in enumerate(X_train):\n",
    "    plt.scatter(i, j, c = color_ls[k])\n",
    "    plt.text(i+0.02, j+0.02, label[k])\n",
    "    \n",
    "svm_classifier.support_vectors_"
   ]
  },
  {
   "cell_type": "markdown",
   "metadata": {},
   "source": [
    "## Resource: Code for SVM_Dataset 2:"
   ]
  },
  {
   "cell_type": "code",
   "execution_count": 21,
   "metadata": {},
   "outputs": [
    {
     "data": {
      "text/plain": [
       "array([[ 8. , 12. ],\n",
       "       [ 4. , 15. ],\n",
       "       [ 5.5, 12. ],\n",
       "       [13. , 10. ]])"
      ]
     },
     "execution_count": 21,
     "metadata": {},
     "output_type": "execute_result"
    },
    {
     "data": {
      "image/png": "[encoded data removed]",
      "text/plain": [
       "<Figure size 432x288 with 1 Axes>"
      ]
     },
     "metadata": {},
     "output_type": "display_data"
    }
   ],
   "source": [
    "# Apply different SVM kernels, (linear, polynomial or RBF) to obtain the best classifier for SVM_Dataset2.csv\n",
    "\n",
    "import numpy as np\n",
    "import pandas as pd\n",
    "from sklearn import svm\n",
    "import matplotlib.pyplot as plt\n",
    "\n",
    "df=pd.read_csv('SVM_Dataset2.csv')\n",
    "\n",
    "\n",
    "X1=df['x1']\n",
    "X2=df['x2']\n",
    "\n",
    "X_train=np.array(list(zip(X1,X2)))\n",
    "y_train=df['y'].values\n",
    "\n",
    "# svm_classifier = svm.SVC(kernel='linear', C=10)\n",
    "#svm_classifier = svm.SVC(kernel='poly', C=10)\n",
    "svm_classifier = svm.SVC(kernel='poly',C=1, degree=2)\n",
    "# svm_classifier = svm.SVC(kernel='rbf', gamma=0.1, C=100)\n",
    "svm_classifier.fit(X_train, y_train)\n",
    "\n",
    "color_ls = []\n",
    "for k in y_train:\n",
    "    if k == 1:\n",
    "        color_ls.append('b')\n",
    "    else:\n",
    "        color_ls.append('r')\n",
    "color_ls\n",
    "\n",
    "label = []\n",
    "for k in y_train:\n",
    "    if k == 1:\n",
    "        label.append('H')\n",
    "    else:\n",
    "        label.append('NH')\n",
    "label\n",
    "\n",
    "def plot_decision_boundary(clf, X, y):\n",
    "    x1_min, x1_max = X[:, 0].min() - 1, X[:, 0].max() + 1\n",
    "    x2_min, x2_max = X[:, 1].min() - 1, X[:, 1].max() + 1\n",
    "    xx1, xx2 = np.meshgrid(np.arange(x1_min, x1_max),np.arange(x2_min, x2_max))\n",
    "    Z = clf.decision_function(np.array([xx1.ravel(), xx2.ravel()]).T).reshape(xx1.shape)\n",
    "    plt.contourf(xx1, xx2, Z, colors='k', levels=[-1, 0, 1], alpha=0.4, linestyles=['--', '-', '--'])\n",
    "    plt.xlim(xx1.min(), xx1.max())\n",
    "    plt.ylim(xx2.min(), xx2.max())\n",
    "    \n",
    "\n",
    "plot_decision_boundary(svm_classifier, X_train, y_train)\n",
    "\n",
    "for k, (i,j) in enumerate(X_train):\n",
    "    plt.scatter(i, j, c = color_ls[k])\n",
    "    plt.text(i+0.02, j+0.02, label[k])\n",
    "    \n",
    "svm_classifier.support_vectors_"
   ]
  },
  {
   "cell_type": "markdown",
   "metadata": {},
   "source": [
    "## Tutorial/Article Resources\n",
    "- [SVM Tutorial](https://people.revoledu.com/kardi/tutorial/Python/SVM+in+Python.html)\n",
    "    - Here are the steps you will follow in the tutorial:\n",
    "        - Create the dataset\n",
    "        - Define the SVM model as the classifier \n",
    "        - Fit the SVM with training dataset\n",
    "        - Obtain its support vectors \n",
    "        - Obtain the score of the trained SVM model\n",
    "- [Article on SVM parameters](https://chrisalbon.com/machine_learning/support_vector_machines/svc_parameters_using_rbf_kernel/)"
   ]
  },
  {
   "cell_type": "code",
   "execution_count": null,
   "metadata": {},
   "outputs": [],
   "source": []
  }
 ],
 "metadata": {
  "kernelspec": {
   "display_name": "Python 3",
   "language": "python",
   "name": "python3"
  },
  "language_info": {
   "codemirror_mode": {
    "name": "ipython",
    "version": 3
   },
   "file_extension": ".py",
   "mimetype": "text/x-python",
   "name": "python",
   "nbconvert_exporter": "python",
   "pygments_lexer": "ipython3",
   "version": "3.7.5"
  }
 },
 "nbformat": 4,
 "nbformat_minor": 2
}
