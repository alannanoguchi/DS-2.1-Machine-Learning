{
 "cells": [
  {
   "cell_type": "markdown",
   "metadata": {
    "slideshow": {
     "slide_type": "slide"
    }
   },
   "source": [
    "# Purpose:\n",
    "\n",
    "* For this project, I examined data on a person's height, weight and gender. \n",
    "* I am using this data to create a predictive model to classify a person into a category based on their Body Mass Index (BMI).\n",
    "\n",
    "### Index Types:\n",
    "    - 0 - Extremely Weak \n",
    "    - 1 - Weak \n",
    "    - 2 - Normal \n",
    "    - 3 - Overweight \n",
    "    - 4 - Obesity \n",
    "    - 5 - Extreme Obesity\n",
    "    \n",
    "   \n",
    "Index Types from the Dataset are compared to those defined by the World Health Organization (WHO)\n",
    "Table 1. Nutritional status\n",
    "\n",
    "### BMI\tNutritional status: \n",
    "\n",
    "**Underweight:** Below 18.5   \n",
    "\n",
    "**Normal weight:** 18.5–24.9   \n",
    "\n",
    "**Pre-obesity:** 25.0–29.9   \n",
    "\n",
    "**Obesity class I:** 30.0–34.9   \n",
    "\n",
    "**Obesity class II:** 35.0–39.9   \n",
    "\n",
    "**Obesity class III:** Above 40   \n",
    "\n",
    "\n",
    "### NOTE:\n",
    "* It is unclear from the data source which index type correlates to which type according to WHO. \n",
    "\n",
    "Source: http://www.euro.who.int/en/health-topics/disease-prevention/nutrition/a-healthy-lifestyle/body-mass-index-bmi\n",
    "\n",
    "### How to Calculate BMI:\n",
    "\n",
    "<img src=\"https://wikimedia.org/api/rest_v1/media/math/render/svg/ce191830a28c6f957ca8b1644bc2ac6b34b8545b\" />\n",
    "    \n",
    "For more information about BMI: https://en.wikipedia.org/wiki/Body_mass_index"
   ]
  },
  {
   "cell_type": "markdown",
   "metadata": {
    "slideshow": {
     "slide_type": "slide"
    }
   },
   "source": [
    "# Part 1: Data Analysis"
   ]
  },
  {
   "cell_type": "code",
   "execution_count": 4,
   "metadata": {
    "slideshow": {
     "slide_type": "subslide"
    }
   },
   "outputs": [
    {
     "data": {
      "text/html": [
       "<div>\n",
       "<style scoped>\n",
       "    .dataframe tbody tr th:only-of-type {\n",
       "        vertical-align: middle;\n",
       "    }\n",
       "\n",
       "    .dataframe tbody tr th {\n",
       "        vertical-align: top;\n",
       "    }\n",
       "\n",
       "    .dataframe thead th {\n",
       "        text-align: right;\n",
       "    }\n",
       "</style>\n",
       "<table border=\"1\" class=\"dataframe\">\n",
       "  <thead>\n",
       "    <tr style=\"text-align: right;\">\n",
       "      <th></th>\n",
       "      <th>Gender</th>\n",
       "      <th>Height</th>\n",
       "      <th>Weight</th>\n",
       "      <th>Index</th>\n",
       "    </tr>\n",
       "  </thead>\n",
       "  <tbody>\n",
       "    <tr>\n",
       "      <td>0</td>\n",
       "      <td>Male</td>\n",
       "      <td>174</td>\n",
       "      <td>96</td>\n",
       "      <td>4</td>\n",
       "    </tr>\n",
       "    <tr>\n",
       "      <td>1</td>\n",
       "      <td>Male</td>\n",
       "      <td>189</td>\n",
       "      <td>87</td>\n",
       "      <td>2</td>\n",
       "    </tr>\n",
       "    <tr>\n",
       "      <td>2</td>\n",
       "      <td>Female</td>\n",
       "      <td>185</td>\n",
       "      <td>110</td>\n",
       "      <td>4</td>\n",
       "    </tr>\n",
       "    <tr>\n",
       "      <td>3</td>\n",
       "      <td>Female</td>\n",
       "      <td>195</td>\n",
       "      <td>104</td>\n",
       "      <td>3</td>\n",
       "    </tr>\n",
       "    <tr>\n",
       "      <td>4</td>\n",
       "      <td>Male</td>\n",
       "      <td>149</td>\n",
       "      <td>61</td>\n",
       "      <td>3</td>\n",
       "    </tr>\n",
       "  </tbody>\n",
       "</table>\n",
       "</div>"
      ],
      "text/plain": [
       "   Gender  Height  Weight  Index\n",
       "0    Male     174      96      4\n",
       "1    Male     189      87      2\n",
       "2  Female     185     110      4\n",
       "3  Female     195     104      3\n",
       "4    Male     149      61      3"
      ]
     },
     "execution_count": 4,
     "metadata": {},
     "output_type": "execute_result"
    }
   ],
   "source": [
    "import pandas as pd\n",
    "\n",
    "df = pd.read_csv('final_dataset/Gender_Height_Weight.csv')\n",
    "df.head()"
   ]
  },
  {
   "cell_type": "code",
   "execution_count": 7,
   "metadata": {
    "slideshow": {
     "slide_type": "subslide"
    }
   },
   "outputs": [
    {
     "data": {
      "text/html": [
       "<div>\n",
       "<style scoped>\n",
       "    .dataframe tbody tr th:only-of-type {\n",
       "        vertical-align: middle;\n",
       "    }\n",
       "\n",
       "    .dataframe tbody tr th {\n",
       "        vertical-align: top;\n",
       "    }\n",
       "\n",
       "    .dataframe thead th {\n",
       "        text-align: right;\n",
       "    }\n",
       "</style>\n",
       "<table border=\"1\" class=\"dataframe\">\n",
       "  <thead>\n",
       "    <tr style=\"text-align: right;\">\n",
       "      <th></th>\n",
       "      <th>Gender</th>\n",
       "      <th>Height</th>\n",
       "      <th>Weight</th>\n",
       "      <th>Index</th>\n",
       "      <th>Category</th>\n",
       "    </tr>\n",
       "  </thead>\n",
       "  <tbody>\n",
       "    <tr>\n",
       "      <td>0</td>\n",
       "      <td>Male</td>\n",
       "      <td>174</td>\n",
       "      <td>96</td>\n",
       "      <td>4</td>\n",
       "      <td>Obesity</td>\n",
       "    </tr>\n",
       "    <tr>\n",
       "      <td>1</td>\n",
       "      <td>Male</td>\n",
       "      <td>189</td>\n",
       "      <td>87</td>\n",
       "      <td>2</td>\n",
       "      <td>Normal</td>\n",
       "    </tr>\n",
       "    <tr>\n",
       "      <td>2</td>\n",
       "      <td>Female</td>\n",
       "      <td>185</td>\n",
       "      <td>110</td>\n",
       "      <td>4</td>\n",
       "      <td>Obesity</td>\n",
       "    </tr>\n",
       "    <tr>\n",
       "      <td>3</td>\n",
       "      <td>Female</td>\n",
       "      <td>195</td>\n",
       "      <td>104</td>\n",
       "      <td>3</td>\n",
       "      <td>Overweight</td>\n",
       "    </tr>\n",
       "    <tr>\n",
       "      <td>4</td>\n",
       "      <td>Male</td>\n",
       "      <td>149</td>\n",
       "      <td>61</td>\n",
       "      <td>3</td>\n",
       "      <td>Overweight</td>\n",
       "    </tr>\n",
       "  </tbody>\n",
       "</table>\n",
       "</div>"
      ],
      "text/plain": [
       "   Gender  Height  Weight  Index    Category\n",
       "0    Male     174      96      4     Obesity\n",
       "1    Male     189      87      2      Normal\n",
       "2  Female     185     110      4     Obesity\n",
       "3  Female     195     104      3  Overweight\n",
       "4    Male     149      61      3  Overweight"
      ]
     },
     "execution_count": 7,
     "metadata": {},
     "output_type": "execute_result"
    }
   ],
   "source": [
    "# Convert the data from index column into category type\n",
    "\n",
    "def convert_index_to_category(df):\n",
    "    if df['Index'] == 0:\n",
    "        return 'Extremely Weak'\n",
    "    elif df['Index'] == 1:\n",
    "        return 'Weak'\n",
    "    elif df['Index'] == 2:\n",
    "        return 'Normal'\n",
    "    elif df['Index'] == 3:\n",
    "        return 'Overweight'\n",
    "    elif df['Index']== 4:\n",
    "        return 'Obesity'\n",
    "    elif df['Index'] == 5:\n",
    "        return 'Extreme Obesity'\n",
    "    \n",
    "df['Category'] = df.apply(convert_index_to_category, axis=1)  # Add a new column \n",
    "df.head()"
   ]
  },
  {
   "cell_type": "code",
   "execution_count": 7,
   "metadata": {
    "scrolled": true,
    "slideshow": {
     "slide_type": "subslide"
    }
   },
   "outputs": [
    {
     "data": {
      "text/html": [
       "<div>\n",
       "<style scoped>\n",
       "    .dataframe tbody tr th:only-of-type {\n",
       "        vertical-align: middle;\n",
       "    }\n",
       "\n",
       "    .dataframe tbody tr th {\n",
       "        vertical-align: top;\n",
       "    }\n",
       "\n",
       "    .dataframe thead th {\n",
       "        text-align: right;\n",
       "    }\n",
       "</style>\n",
       "<table border=\"1\" class=\"dataframe\">\n",
       "  <thead>\n",
       "    <tr style=\"text-align: right;\">\n",
       "      <th></th>\n",
       "      <th>Gender</th>\n",
       "      <th>Height (cm)</th>\n",
       "      <th>Weight (kg)</th>\n",
       "      <th>Index</th>\n",
       "      <th>Category</th>\n",
       "    </tr>\n",
       "  </thead>\n",
       "  <tbody>\n",
       "    <tr>\n",
       "      <td>0</td>\n",
       "      <td>Male</td>\n",
       "      <td>174</td>\n",
       "      <td>96</td>\n",
       "      <td>4</td>\n",
       "      <td>Obesity</td>\n",
       "    </tr>\n",
       "    <tr>\n",
       "      <td>1</td>\n",
       "      <td>Male</td>\n",
       "      <td>189</td>\n",
       "      <td>87</td>\n",
       "      <td>2</td>\n",
       "      <td>Normal</td>\n",
       "    </tr>\n",
       "    <tr>\n",
       "      <td>2</td>\n",
       "      <td>Female</td>\n",
       "      <td>185</td>\n",
       "      <td>110</td>\n",
       "      <td>4</td>\n",
       "      <td>Obesity</td>\n",
       "    </tr>\n",
       "    <tr>\n",
       "      <td>3</td>\n",
       "      <td>Female</td>\n",
       "      <td>195</td>\n",
       "      <td>104</td>\n",
       "      <td>3</td>\n",
       "      <td>Overweight</td>\n",
       "    </tr>\n",
       "    <tr>\n",
       "      <td>4</td>\n",
       "      <td>Male</td>\n",
       "      <td>149</td>\n",
       "      <td>61</td>\n",
       "      <td>3</td>\n",
       "      <td>Overweight</td>\n",
       "    </tr>\n",
       "    <tr>\n",
       "      <td>...</td>\n",
       "      <td>...</td>\n",
       "      <td>...</td>\n",
       "      <td>...</td>\n",
       "      <td>...</td>\n",
       "      <td>...</td>\n",
       "    </tr>\n",
       "    <tr>\n",
       "      <td>495</td>\n",
       "      <td>Female</td>\n",
       "      <td>150</td>\n",
       "      <td>153</td>\n",
       "      <td>5</td>\n",
       "      <td>Extreme Obesity</td>\n",
       "    </tr>\n",
       "    <tr>\n",
       "      <td>496</td>\n",
       "      <td>Female</td>\n",
       "      <td>184</td>\n",
       "      <td>121</td>\n",
       "      <td>4</td>\n",
       "      <td>Obesity</td>\n",
       "    </tr>\n",
       "    <tr>\n",
       "      <td>497</td>\n",
       "      <td>Female</td>\n",
       "      <td>141</td>\n",
       "      <td>136</td>\n",
       "      <td>5</td>\n",
       "      <td>Extreme Obesity</td>\n",
       "    </tr>\n",
       "    <tr>\n",
       "      <td>498</td>\n",
       "      <td>Male</td>\n",
       "      <td>150</td>\n",
       "      <td>95</td>\n",
       "      <td>5</td>\n",
       "      <td>Extreme Obesity</td>\n",
       "    </tr>\n",
       "    <tr>\n",
       "      <td>499</td>\n",
       "      <td>Male</td>\n",
       "      <td>173</td>\n",
       "      <td>131</td>\n",
       "      <td>5</td>\n",
       "      <td>Extreme Obesity</td>\n",
       "    </tr>\n",
       "  </tbody>\n",
       "</table>\n",
       "<p>500 rows × 5 columns</p>\n",
       "</div>"
      ],
      "text/plain": [
       "     Gender  Height (cm)   Weight (kg)  Index         Category\n",
       "0      Male          174            96      4          Obesity\n",
       "1      Male          189            87      2           Normal\n",
       "2    Female          185           110      4          Obesity\n",
       "3    Female          195           104      3       Overweight\n",
       "4      Male          149            61      3       Overweight\n",
       "..      ...          ...           ...    ...              ...\n",
       "495  Female          150           153      5  Extreme Obesity\n",
       "496  Female          184           121      4          Obesity\n",
       "497  Female          141           136      5  Extreme Obesity\n",
       "498    Male          150            95      5  Extreme Obesity\n",
       "499    Male          173           131      5  Extreme Obesity\n",
       "\n",
       "[500 rows x 5 columns]"
      ]
     },
     "execution_count": 7,
     "metadata": {},
     "output_type": "execute_result"
    }
   ],
   "source": [
    "# Rename Columns\n",
    "\n",
    "df.rename(columns = {'Height' : 'Height (cm)', 'Weight' : ' Weight (kg)'})"
   ]
  },
  {
   "cell_type": "markdown",
   "metadata": {
    "slideshow": {
     "slide_type": "subslide"
    }
   },
   "source": [
    "# Let's see a visual of the values in each Category"
   ]
  },
  {
   "cell_type": "code",
   "execution_count": 22,
   "metadata": {
    "scrolled": true,
    "slideshow": {
     "slide_type": "subslide"
    }
   },
   "outputs": [
    {
     "data": {
      "text/plain": [
       "<matplotlib.axes._subplots.AxesSubplot at 0x1a258e8ed0>"
      ]
     },
     "execution_count": 22,
     "metadata": {},
     "output_type": "execute_result"
    },
    {
     "data": {
      "image/png": "[encoded data removed]",
      "text/plain": [
       "<Figure size 432x288 with 1 Axes>"
      ]
     },
     "metadata": {
      "needs_background": "light"
     },
     "output_type": "display_data"
    }
   ],
   "source": [
    "df['Category'].value_counts().plot(kind='bar')"
   ]
  },
  {
   "cell_type": "markdown",
   "metadata": {
    "slideshow": {
     "slide_type": "subslide"
    }
   },
   "source": [
    "# Here are the numbers:"
   ]
  },
  {
   "cell_type": "code",
   "execution_count": 15,
   "metadata": {
    "scrolled": false,
    "slideshow": {
     "slide_type": "subslide"
    }
   },
   "outputs": [
    {
     "data": {
      "text/plain": [
       "Extreme Obesity    198\n",
       "Obesity            130\n",
       "Normal              69\n",
       "Overweight          68\n",
       "Weak                22\n",
       "Extremely Weak      13\n",
       "Name: Category, dtype: int64"
      ]
     },
     "execution_count": 15,
     "metadata": {},
     "output_type": "execute_result"
    }
   ],
   "source": [
    "df['Category'].value_counts()"
   ]
  },
  {
   "cell_type": "markdown",
   "metadata": {
    "slideshow": {
     "slide_type": "subslide"
    }
   },
   "source": [
    "# Plot of the heights, weights, and categories"
   ]
  },
  {
   "cell_type": "code",
   "execution_count": 18,
   "metadata": {
    "scrolled": true,
    "slideshow": {
     "slide_type": "subslide"
    }
   },
   "outputs": [
    {
     "data": {
      "text/plain": [
       "Text(0.5, 0.98, 'Height (cm) vs Weight (kg)')"
      ]
     },
     "execution_count": 18,
     "metadata": {},
     "output_type": "execute_result"
    },
    {
     "data": {
      "image/png": "[encoded data removed]",
      "text/plain": [
       "<Figure size 695.125x576 with 1 Axes>"
      ]
     },
     "metadata": {
      "needs_background": "light"
     },
     "output_type": "display_data"
    }
   ],
   "source": [
    "# Show plot of the different categories\n",
    "\n",
    "import seaborn as sns\n",
    "import matplotlib as plt\n",
    "\n",
    "\n",
    "sns.lmplot( x='Height', y='Weight', data=df, \n",
    "           fit_reg=False, \n",
    "           hue='Category', \n",
    "           legend=True, \n",
    "           palette='husl',\n",
    "           size = 8, \n",
    "           aspect = 1,\n",
    "          ).fig.suptitle(\"Height (cm) vs Weight (kg)\")\n",
    "  "
   ]
  },
  {
   "cell_type": "code",
   "execution_count": 8,
   "metadata": {
    "slideshow": {
     "slide_type": "subslide"
    }
   },
   "outputs": [
    {
     "data": {
      "text/html": [
       "<div>\n",
       "<style scoped>\n",
       "    .dataframe tbody tr th:only-of-type {\n",
       "        vertical-align: middle;\n",
       "    }\n",
       "\n",
       "    .dataframe tbody tr th {\n",
       "        vertical-align: top;\n",
       "    }\n",
       "\n",
       "    .dataframe thead th {\n",
       "        text-align: right;\n",
       "    }\n",
       "</style>\n",
       "<table border=\"1\" class=\"dataframe\">\n",
       "  <thead>\n",
       "    <tr style=\"text-align: right;\">\n",
       "      <th></th>\n",
       "      <th>Gender</th>\n",
       "      <th>Height</th>\n",
       "      <th>Weight</th>\n",
       "      <th>Index</th>\n",
       "      <th>Category</th>\n",
       "      <th>Gender Number</th>\n",
       "    </tr>\n",
       "  </thead>\n",
       "  <tbody>\n",
       "    <tr>\n",
       "      <td>0</td>\n",
       "      <td>Male</td>\n",
       "      <td>174</td>\n",
       "      <td>96</td>\n",
       "      <td>4</td>\n",
       "      <td>Obesity</td>\n",
       "      <td>1</td>\n",
       "    </tr>\n",
       "    <tr>\n",
       "      <td>1</td>\n",
       "      <td>Male</td>\n",
       "      <td>189</td>\n",
       "      <td>87</td>\n",
       "      <td>2</td>\n",
       "      <td>Normal</td>\n",
       "      <td>1</td>\n",
       "    </tr>\n",
       "    <tr>\n",
       "      <td>2</td>\n",
       "      <td>Female</td>\n",
       "      <td>185</td>\n",
       "      <td>110</td>\n",
       "      <td>4</td>\n",
       "      <td>Obesity</td>\n",
       "      <td>0</td>\n",
       "    </tr>\n",
       "    <tr>\n",
       "      <td>3</td>\n",
       "      <td>Female</td>\n",
       "      <td>195</td>\n",
       "      <td>104</td>\n",
       "      <td>3</td>\n",
       "      <td>Overweight</td>\n",
       "      <td>0</td>\n",
       "    </tr>\n",
       "    <tr>\n",
       "      <td>4</td>\n",
       "      <td>Male</td>\n",
       "      <td>149</td>\n",
       "      <td>61</td>\n",
       "      <td>3</td>\n",
       "      <td>Overweight</td>\n",
       "      <td>1</td>\n",
       "    </tr>\n",
       "  </tbody>\n",
       "</table>\n",
       "</div>"
      ],
      "text/plain": [
       "   Gender  Height  Weight  Index    Category  Gender Number\n",
       "0    Male     174      96      4     Obesity              1\n",
       "1    Male     189      87      2      Normal              1\n",
       "2  Female     185     110      4     Obesity              0\n",
       "3  Female     195     104      3  Overweight              0\n",
       "4    Male     149      61      3  Overweight              1"
      ]
     },
     "execution_count": 8,
     "metadata": {},
     "output_type": "execute_result"
    }
   ],
   "source": [
    "# Change and create a column for the value of male to 1 and female to 0\n",
    "\n",
    "def convert_gender_to_num(x):\n",
    "    if x['Gender'] == 'Male':\n",
    "        return 1\n",
    "    elif x['Gender'] == 'Female':\n",
    "        return 0\n",
    "df['Gender Number'] = df.apply(convert_gender_to_num, axis=1)\n",
    "df.head()"
   ]
  },
  {
   "cell_type": "markdown",
   "metadata": {
    "slideshow": {
     "slide_type": "slide"
    }
   },
   "source": [
    "# Part 2: Machine Learning \n",
    "\n",
    "* Using Logistic Regression"
   ]
  },
  {
   "cell_type": "markdown",
   "metadata": {
    "slideshow": {
     "slide_type": "subslide"
    }
   },
   "source": [
    "# Change 'Index' into 2 Classifications:\n",
    "\n",
    "1) healthy = 2 ---> 1\n",
    "\n",
    "2) unhealthy = 0, 1, 3, 4, 5 ---> 0\n",
    "\n",
    "* Create a function that converts the numbers into the 0(healthy) or 1(unhealthy)"
   ]
  },
  {
   "cell_type": "code",
   "execution_count": 9,
   "metadata": {
    "scrolled": true,
    "slideshow": {
     "slide_type": "subslide"
    }
   },
   "outputs": [
    {
     "data": {
      "text/html": [
       "<div>\n",
       "<style scoped>\n",
       "    .dataframe tbody tr th:only-of-type {\n",
       "        vertical-align: middle;\n",
       "    }\n",
       "\n",
       "    .dataframe tbody tr th {\n",
       "        vertical-align: top;\n",
       "    }\n",
       "\n",
       "    .dataframe thead th {\n",
       "        text-align: right;\n",
       "    }\n",
       "</style>\n",
       "<table border=\"1\" class=\"dataframe\">\n",
       "  <thead>\n",
       "    <tr style=\"text-align: right;\">\n",
       "      <th></th>\n",
       "      <th>Gender</th>\n",
       "      <th>Height</th>\n",
       "      <th>Weight</th>\n",
       "      <th>Index</th>\n",
       "      <th>Category</th>\n",
       "      <th>Gender Number</th>\n",
       "      <th>Labels</th>\n",
       "    </tr>\n",
       "  </thead>\n",
       "  <tbody>\n",
       "    <tr>\n",
       "      <td>0</td>\n",
       "      <td>Male</td>\n",
       "      <td>174</td>\n",
       "      <td>96</td>\n",
       "      <td>4</td>\n",
       "      <td>Obesity</td>\n",
       "      <td>1</td>\n",
       "      <td>0</td>\n",
       "    </tr>\n",
       "    <tr>\n",
       "      <td>1</td>\n",
       "      <td>Male</td>\n",
       "      <td>189</td>\n",
       "      <td>87</td>\n",
       "      <td>2</td>\n",
       "      <td>Normal</td>\n",
       "      <td>1</td>\n",
       "      <td>1</td>\n",
       "    </tr>\n",
       "    <tr>\n",
       "      <td>2</td>\n",
       "      <td>Female</td>\n",
       "      <td>185</td>\n",
       "      <td>110</td>\n",
       "      <td>4</td>\n",
       "      <td>Obesity</td>\n",
       "      <td>0</td>\n",
       "      <td>0</td>\n",
       "    </tr>\n",
       "    <tr>\n",
       "      <td>3</td>\n",
       "      <td>Female</td>\n",
       "      <td>195</td>\n",
       "      <td>104</td>\n",
       "      <td>3</td>\n",
       "      <td>Overweight</td>\n",
       "      <td>0</td>\n",
       "      <td>0</td>\n",
       "    </tr>\n",
       "    <tr>\n",
       "      <td>4</td>\n",
       "      <td>Male</td>\n",
       "      <td>149</td>\n",
       "      <td>61</td>\n",
       "      <td>3</td>\n",
       "      <td>Overweight</td>\n",
       "      <td>1</td>\n",
       "      <td>0</td>\n",
       "    </tr>\n",
       "  </tbody>\n",
       "</table>\n",
       "</div>"
      ],
      "text/plain": [
       "   Gender  Height  Weight  Index    Category  Gender Number  Labels\n",
       "0    Male     174      96      4     Obesity              1       0\n",
       "1    Male     189      87      2      Normal              1       1\n",
       "2  Female     185     110      4     Obesity              0       0\n",
       "3  Female     195     104      3  Overweight              0       0\n",
       "4    Male     149      61      3  Overweight              1       0"
      ]
     },
     "execution_count": 9,
     "metadata": {},
     "output_type": "execute_result"
    }
   ],
   "source": [
    "def convert_index_to_label(df):\n",
    "    if df['Index'] == 0:\n",
    "        return 0\n",
    "    elif df['Index'] == 1:\n",
    "        return 0\n",
    "    elif df['Index'] == 2:    # 2 is normal and this is healthy\n",
    "        return 1\n",
    "    elif df['Index'] == 3:\n",
    "        return 0\n",
    "    elif df['Index']== 4:\n",
    "        return 0\n",
    "    elif df['Index'] == 5:\n",
    "        return 0\n",
    "    \n",
    "df['Labels'] = df.apply(convert_index_to_label, axis=1)  # Add a new column called Labels\n",
    "df.head()"
   ]
  },
  {
   "cell_type": "markdown",
   "metadata": {
    "slideshow": {
     "slide_type": "subslide"
    }
   },
   "source": [
    "# Split the data into train and test "
   ]
  },
  {
   "cell_type": "code",
   "execution_count": 10,
   "metadata": {
    "slideshow": {
     "slide_type": "subslide"
    }
   },
   "outputs": [
    {
     "data": {
      "text/plain": [
       "0    113\n",
       "1     12\n",
       "Name: Labels, dtype: int64"
      ]
     },
     "execution_count": 10,
     "metadata": {},
     "output_type": "execute_result"
    }
   ],
   "source": [
    "from sklearn.model_selection import train_test_split\n",
    "\n",
    "feature_cols = ['Gender Number', 'Height', 'Weight']\n",
    "\n",
    "X = df[feature_cols]\n",
    "\n",
    "y = df['Labels']\n",
    "\n",
    "X_train, X_test, y_train, y_test = train_test_split(X, y, test_size=0.25, random_state=0)\n",
    "\n",
    "y_test.value_counts()"
   ]
  },
  {
   "cell_type": "markdown",
   "metadata": {
    "slideshow": {
     "slide_type": "subslide"
    }
   },
   "source": [
    "# Normalize the data by scaling it"
   ]
  },
  {
   "cell_type": "code",
   "execution_count": 11,
   "metadata": {},
   "outputs": [],
   "source": [
    "from sklearn.preprocessing import StandardScaler\n",
    "\n",
    "scaler = StandardScaler()\n",
    "\n",
    "X_train = scaler.fit_transform(X_train)  # \n",
    "X_test = scaler.transform(X_test)"
   ]
  },
  {
   "cell_type": "code",
   "execution_count": 12,
   "metadata": {
    "slideshow": {
     "slide_type": "subslide"
    }
   },
   "outputs": [
    {
     "name": "stderr",
     "output_type": "stream",
     "text": [
      "/opt/anaconda3/lib/python3.7/site-packages/sklearn/linear_model/logistic.py:432: FutureWarning: Default solver will be changed to 'lbfgs' in 0.22. Specify a solver to silence this warning.\n",
      "  FutureWarning)\n"
     ]
    },
    {
     "data": {
      "text/plain": [
       "LogisticRegression(C=1.0, class_weight=None, dual=False, fit_intercept=True,\n",
       "                   intercept_scaling=1, l1_ratio=None, max_iter=100,\n",
       "                   multi_class='warn', n_jobs=None, penalty='l2',\n",
       "                   random_state=None, solver='warn', tol=0.0001, verbose=0,\n",
       "                   warm_start=False)"
      ]
     },
     "execution_count": 12,
     "metadata": {},
     "output_type": "execute_result"
    }
   ],
   "source": [
    "# Build the classifier model\n",
    "\n",
    "from sklearn.linear_model import LogisticRegression\n",
    "\n",
    "logreg = LogisticRegression()\n",
    "\n",
    "# fit model\n",
    "logreg.fit(X_train, y_train)"
   ]
  },
  {
   "cell_type": "code",
   "execution_count": 13,
   "metadata": {
    "slideshow": {
     "slide_type": "subslide"
    }
   },
   "outputs": [
    {
     "data": {
      "text/plain": [
       "81.33333333333333"
      ]
     },
     "execution_count": 13,
     "metadata": {},
     "output_type": "execute_result"
    }
   ],
   "source": [
    "# Score the model on the train data\n",
    "\n",
    "logreg.score(X_train, y_train)*100"
   ]
  },
  {
   "cell_type": "code",
   "execution_count": 14,
   "metadata": {
    "slideshow": {
     "slide_type": "subslide"
    }
   },
   "outputs": [
    {
     "name": "stdout",
     "output_type": "stream",
     "text": [
      "86.4\n",
      "[[ 0.17611151 -0.35930161  1.82390761]]\n"
     ]
    }
   ],
   "source": [
    "# Score the model on the test data\n",
    "print(logreg.score(X_test, y_test)*100)\n",
    "\n",
    "# in class we came across this issue where the numbers were negative so I multiplied by -1\n",
    "print(logreg.coef_*-1)"
   ]
  },
  {
   "cell_type": "markdown",
   "metadata": {
    "slideshow": {
     "slide_type": "subslide"
    }
   },
   "source": [
    "# We see that the third feature, which is weight, plays a large role in determining someones BMI\n",
    "### This makes sense because BMI is a measure of someone's thickness or thinness\n",
    "(The more heavy someone is, the thicker their body is)"
   ]
  },
  {
   "cell_type": "markdown",
   "metadata": {
    "slideshow": {
     "slide_type": "subslide"
    }
   },
   "source": [
    "# Create Predictions with this Model"
   ]
  },
  {
   "cell_type": "code",
   "execution_count": 96,
   "metadata": {
    "slideshow": {
     "slide_type": "subslide"
    }
   },
   "outputs": [],
   "source": [
    "Person1 = np.array([1.0, 62.0, 54.0])   # Female, 62cm tall, 54kg\n",
    "Person2 = np.array([1.0, 62.0, 59.0])   # Female, 62cm tall, 59kg\n",
    "Person3 = np.array([0.0, 66.0, 59.0])   # Male, 66cm tall, 59kg"
   ]
  },
  {
   "cell_type": "code",
   "execution_count": 97,
   "metadata": {
    "slideshow": {
     "slide_type": "subslide"
    }
   },
   "outputs": [],
   "source": [
    "test_subjects = np.array([Person1, Person2, Person3])"
   ]
  },
  {
   "cell_type": "code",
   "execution_count": 102,
   "metadata": {
    "slideshow": {
     "slide_type": "subslide"
    }
   },
   "outputs": [
    {
     "data": {
      "text/plain": [
       "array([0, 0, 1])"
      ]
     },
     "execution_count": 102,
     "metadata": {},
     "output_type": "execute_result"
    }
   ],
   "source": [
    "# Scale the subjects on their features\n",
    "\n",
    "test_subjects = scaler.transform(test_subjects)\n",
    "logreg.predict(test_subjects)"
   ]
  },
  {
   "cell_type": "markdown",
   "metadata": {
    "slideshow": {
     "slide_type": "subslide"
    }
   },
   "source": [
    "# The model shows us that 1 person is healthy and 2 are unhealthy\n",
    "\n",
    "## Remember: I categorized the 'Normal' Index as Healthy, and everything else as Unhealthy"
   ]
  },
  {
   "cell_type": "code",
   "execution_count": 105,
   "metadata": {
    "slideshow": {
     "slide_type": "subslide"
    }
   },
   "outputs": [
    {
     "name": "stdout",
     "output_type": "stream",
     "text": [
      "[0 0 0 0 0 0 0 0 0 0 0 0 1 0 0 0 0 0 0 0 0 0 0 0 0 0 0 0 0 0 0 0 0 0 0 1 0\n",
      " 0 0 0 0 0 0 0 0 0 0 0 0 0 0 0 0 0 0 0 0 0 1 0 0 0 0 1 0 0 0 0 0 0 0 0 0 0\n",
      " 0 0 0 0 0 0 0 0 0 0 0 0 0 0 0 0 0 0 0 1 0 1 0 0 1 0 0 0 0 0 0 0 0 0 0 0 0\n",
      " 0 0 0 0 0 0 0 0 0 0 0 0 0 0]\n"
     ]
    }
   ],
   "source": [
    "y_pred = logreg.predict(X_test)\n",
    "\n",
    "print(y_pred)"
   ]
  },
  {
   "cell_type": "markdown",
   "metadata": {
    "slideshow": {
     "slide_type": "slide"
    }
   },
   "source": [
    "# Create a confusion matrix to see the performance of the classifer"
   ]
  },
  {
   "cell_type": "code",
   "execution_count": 106,
   "metadata": {
    "slideshow": {
     "slide_type": "subslide"
    }
   },
   "outputs": [
    {
     "name": "stdout",
     "output_type": "stream",
     "text": [
      "[[107   6]\n",
      " [ 11   1]]\n"
     ]
    }
   ],
   "source": [
    "from sklearn import metrics\n",
    "\n",
    "confusion = metrics.confusion_matrix(y_test, y_pred)\n",
    "print(confusion)\n",
    "\n",
    "TP = confusion[1, 1]\n",
    "TN = confusion[0, 0]\n",
    "FP = confusion[0, 1]\n",
    "FN = confusion[1, 0]"
   ]
  },
  {
   "cell_type": "markdown",
   "metadata": {
    "slideshow": {
     "slide_type": "subslide"
    }
   },
   "source": [
    "# Results:\n",
    "\n",
    "* True Negative = 107\n",
    "* False Positive = 6\n",
    "* False Negative = 11\n",
    "* True Positive = 1"
   ]
  },
  {
   "cell_type": "code",
   "execution_count": 107,
   "metadata": {
    "slideshow": {
     "slide_type": "subslide"
    }
   },
   "outputs": [
    {
     "data": {
      "text/plain": [
       "array([0, 0, 0, 0, 0, 0, 0, 0, 0, 0, 0, 0, 1, 0, 0, 0, 0, 0, 0, 0, 0, 0,\n",
       "       0, 0, 0, 0, 0, 0, 0, 0, 0, 0, 0, 0, 0, 1, 0, 0, 0, 0, 0, 0, 0, 0,\n",
       "       0, 0, 0, 0, 0, 0, 0, 0, 0, 0, 0, 0, 0, 0, 1, 0, 0, 0, 0, 1, 0, 0,\n",
       "       0, 0, 0, 0, 0, 0, 0, 0, 0, 0, 0, 0, 0, 0, 0, 0, 0, 0, 0, 0, 0, 0,\n",
       "       0, 0, 0, 0, 0, 1, 0, 1, 0, 0, 1, 0, 0, 0, 0, 0, 0, 0, 0, 0, 0, 0,\n",
       "       0, 0, 0, 0, 0, 0, 0, 0, 0, 0, 0, 0, 0, 0, 0])"
      ]
     },
     "execution_count": 107,
     "metadata": {},
     "output_type": "execute_result"
    }
   ],
   "source": [
    "# .predict returns a list of 0 and 1 values for a given sample\n",
    "\n",
    "y_pred = logreg.predict(X_test)\n",
    "y_pred"
   ]
  },
  {
   "cell_type": "code",
   "execution_count": 108,
   "metadata": {
    "slideshow": {
     "slide_type": "subslide"
    }
   },
   "outputs": [
    {
     "data": {
      "text/plain": [
       "array([[0.99371273, 0.00628727],\n",
       "       [0.99270588, 0.00729412],\n",
       "       [0.9546211 , 0.0453789 ],\n",
       "       [0.99362539, 0.00637461],\n",
       "       [0.99146319, 0.00853681],\n",
       "       [0.95164384, 0.04835616],\n",
       "       [0.8922769 , 0.1077231 ],\n",
       "       [0.99197255, 0.00802745],\n",
       "       [0.93113878, 0.06886122],\n",
       "       [0.98899686, 0.01100314],\n",
       "       [0.61517792, 0.38482208],\n",
       "       [0.77890014, 0.22109986],\n",
       "       [0.4816276 , 0.5183724 ],\n",
       "       [0.95382245, 0.04617755],\n",
       "       [0.99011777, 0.00988223],\n",
       "       [0.88034292, 0.11965708],\n",
       "       [0.97351752, 0.02648248],\n",
       "       [0.87190397, 0.12809603],\n",
       "       [0.95928959, 0.04071041],\n",
       "       [0.8826178 , 0.1173822 ],\n",
       "       [0.87270424, 0.12729576],\n",
       "       [0.82455003, 0.17544997],\n",
       "       [0.82488506, 0.17511494],\n",
       "       [0.90951722, 0.09048278],\n",
       "       [0.70922531, 0.29077469],\n",
       "       [0.55215268, 0.44784732],\n",
       "       [0.99519191, 0.00480809],\n",
       "       [0.96689181, 0.03310819],\n",
       "       [0.80925432, 0.19074568],\n",
       "       [0.73009619, 0.26990381],\n",
       "       [0.78564236, 0.21435764],\n",
       "       [0.97304205, 0.02695795],\n",
       "       [0.994636  , 0.005364  ],\n",
       "       [0.94872989, 0.05127011],\n",
       "       [0.9000718 , 0.0999282 ],\n",
       "       [0.2308498 , 0.7691502 ],\n",
       "       [0.99412399, 0.00587601],\n",
       "       [0.83331426, 0.16668574],\n",
       "       [0.99466184, 0.00533816],\n",
       "       [0.54108112, 0.45891888],\n",
       "       [0.95946105, 0.04053895],\n",
       "       [0.95479096, 0.04520904],\n",
       "       [0.95884408, 0.04115592],\n",
       "       [0.98798063, 0.01201937],\n",
       "       [0.94785566, 0.05214434],\n",
       "       [0.80532625, 0.19467375],\n",
       "       [0.99294656, 0.00705344],\n",
       "       [0.53002758, 0.46997242],\n",
       "       [0.98814183, 0.01185817],\n",
       "       [0.99711523, 0.00288477],\n",
       "       [0.98657153, 0.01342847],\n",
       "       [0.98535813, 0.01464187],\n",
       "       [0.80467263, 0.19532737],\n",
       "       [0.88588762, 0.11411238],\n",
       "       [0.99570828, 0.00429172],\n",
       "       [0.85639956, 0.14360044],\n",
       "       [0.80832214, 0.19167786],\n",
       "       [0.96702484, 0.03297516],\n",
       "       [0.39965577, 0.60034423],\n",
       "       [0.89256689, 0.10743311],\n",
       "       [0.96490996, 0.03509004],\n",
       "       [0.94267253, 0.05732747],\n",
       "       [0.81473107, 0.18526893],\n",
       "       [0.42472323, 0.57527677],\n",
       "       [0.9399357 , 0.0600643 ],\n",
       "       [0.80145184, 0.19854816],\n",
       "       [0.72147966, 0.27852034],\n",
       "       [0.92089169, 0.07910831],\n",
       "       [0.9581165 , 0.0418835 ],\n",
       "       [0.99048235, 0.00951765],\n",
       "       [0.99388816, 0.00611184],\n",
       "       [0.99485733, 0.00514267],\n",
       "       [0.71478135, 0.28521865],\n",
       "       [0.93450372, 0.06549628],\n",
       "       [0.95017369, 0.04982631],\n",
       "       [0.99721535, 0.00278465],\n",
       "       [0.89803463, 0.10196537],\n",
       "       [0.99373002, 0.00626998],\n",
       "       [0.99538832, 0.00461168],\n",
       "       [0.99733116, 0.00266884],\n",
       "       [0.98373958, 0.01626042],\n",
       "       [0.81782054, 0.18217946],\n",
       "       [0.9823111 , 0.0176889 ],\n",
       "       [0.96484739, 0.03515261],\n",
       "       [0.99668831, 0.00331169],\n",
       "       [0.75538193, 0.24461807],\n",
       "       [0.99699078, 0.00300922],\n",
       "       [0.9974563 , 0.0025437 ],\n",
       "       [0.9892188 , 0.0107812 ],\n",
       "       [0.94738401, 0.05261599],\n",
       "       [0.75751608, 0.24248392],\n",
       "       [0.6505498 , 0.3494502 ],\n",
       "       [0.84629566, 0.15370434],\n",
       "       [0.46235849, 0.53764151],\n",
       "       [0.89754477, 0.10245523],\n",
       "       [0.4988073 , 0.5011927 ],\n",
       "       [0.88834392, 0.11165608],\n",
       "       [0.95546586, 0.04453414],\n",
       "       [0.3046047 , 0.6953953 ],\n",
       "       [0.86762925, 0.13237075],\n",
       "       [0.9970804 , 0.0029196 ],\n",
       "       [0.99477377, 0.00522623],\n",
       "       [0.96586142, 0.03413858],\n",
       "       [0.75082109, 0.24917891],\n",
       "       [0.93237599, 0.06762401],\n",
       "       [0.99527206, 0.00472794],\n",
       "       [0.76304206, 0.23695794],\n",
       "       [0.99025497, 0.00974503],\n",
       "       [0.8782062 , 0.1217938 ],\n",
       "       [0.89877321, 0.10122679],\n",
       "       [0.95329905, 0.04670095],\n",
       "       [0.97164778, 0.02835222],\n",
       "       [0.92318813, 0.07681187],\n",
       "       [0.87190397, 0.12809603],\n",
       "       [0.99369687, 0.00630313],\n",
       "       [0.92310702, 0.07689298],\n",
       "       [0.99405057, 0.00594943],\n",
       "       [0.98044243, 0.01955757],\n",
       "       [0.85283471, 0.14716529],\n",
       "       [0.98682688, 0.01317312],\n",
       "       [0.70288368, 0.29711632],\n",
       "       [0.99784801, 0.00215199],\n",
       "       [0.99489746, 0.00510254],\n",
       "       [0.88928294, 0.11071706],\n",
       "       [0.99566552, 0.00433448]])"
      ]
     },
     "execution_count": 108,
     "metadata": {},
     "output_type": "execute_result"
    }
   ],
   "source": [
    "# A list of lists where each element in the list is a probability estimate: \n",
    "# the probability of the element being 0 or 1\n",
    "\n",
    "logreg.predict_proba(X_test)"
   ]
  },
  {
   "cell_type": "code",
   "execution_count": 109,
   "metadata": {
    "slideshow": {
     "slide_type": "subslide"
    }
   },
   "outputs": [
    {
     "data": {
      "text/plain": [
       "86.4"
      ]
     },
     "execution_count": 109,
     "metadata": {},
     "output_type": "execute_result"
    }
   ],
   "source": [
    "from sklearn.metrics import accuracy_score\n",
    "\n",
    "accuracy = accuracy_score(y_test, y_pred)\n",
    "accuracy * 100"
   ]
  },
  {
   "cell_type": "markdown",
   "metadata": {
    "slideshow": {
     "slide_type": "slide"
    }
   },
   "source": [
    "# Conclusions:\n",
    "* Accuracy = 86.4\n",
    "* Used features: gender, height, and weight to make predictions\n",
    "* 2 Categories for the Predictions: healthy and unhealthy"
   ]
  },
  {
   "cell_type": "code",
   "execution_count": null,
   "metadata": {},
   "outputs": [],
   "source": []
  }
 ],
 "metadata": {
  "celltoolbar": "Slideshow",
  "kernelspec": {
   "display_name": "Python 3",
   "language": "python",
   "name": "python3"
  },
  "language_info": {
   "codemirror_mode": {
    "name": "ipython",
    "version": 3
   },
   "file_extension": ".py",
   "mimetype": "text/x-python",
   "name": "python",
   "nbconvert_exporter": "python",
   "pygments_lexer": "ipython3",
   "version": "3.7.4"
  }
 },
 "nbformat": 4,
 "nbformat_minor": 2
}
