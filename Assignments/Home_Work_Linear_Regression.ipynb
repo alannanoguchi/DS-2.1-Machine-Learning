{
 "cells": [
  {
   "cell_type": "markdown",
   "metadata": {},
   "source": [
    "## Homework Linear Regression\n",
    "\n",
    "- The dataset you are working is Boston Housing Price\n",
    "\n",
    "- The Boston_Housing_Prices dataset is a famous dataset usually used for learning or benchmarking regression techniques. This dataset contains 14 variables, one of which (MEDV, median value of home) we'll use as the target. \n",
    "\n",
    "- For this assignment, your task is to:\n",
    "\n",
    "1- Read in the dataset using sklearn's load_boston() function (found in sklearn.datasets) \n",
    "\n",
    "2- Perform some basic exploratory data analysis to get a feel for the data. Graph some stuff! \n",
    "\n",
    "3- Create a correlation heatmap to check to see how highly correlated our predictor variables (features) are (Remember, if our predictors are highly correlated, this is bad.)\n",
    "\n",
    "4- Train the model based on the train set. Use 75 percent of the data for train part. Use 25 percent of the data for test part.\n",
    "\n",
    "Hint: `from sklearn.model_selection import train_test_split`\n",
    "\n",
    "Hint: `X_train, X_test, y_train, y_test = train_test_split(X, y, test_size=0.25, random_state=0)`\n",
    "\n",
    "5 -Make predictions on your test set (X_test) and see how well it compares to the actual targets (y_test) from the test set.\n",
    "\n",
    "6- Compute, Mean-Square-Error (MSE) and R Squared score of your Model \n",
    "\n",
    "Hint: `from sklearn.metrics import r2_score`\n",
    "\n",
    "Hint: `from sklearn.metrics import mean_squared_error`"
   ]
  },
  {
   "cell_type": "markdown",
   "metadata": {},
   "source": [
    "### Reference for Columns:\n",
    "* CRIM: Per capita crime rate by town\n",
    "* ZN: Proportion of residential land zoned for lots over 25,000 sq. ft\n",
    "* INDUS: Proportion of non-retail business acres per town\n",
    "* CHAS: Charles River dummy variable (= 1 if tract bounds river; 0 otherwise)\n",
    "* NOX: Nitric oxide concentration (parts per 10 million)\n",
    "* RM: Average number of rooms per dwelling\n",
    "* AGE: Proportion of owner-occupied units built prior to 1940\n",
    "* DIS: Weighted distances to five Boston employment centers\n",
    "* RAD: Index of accessibility to radial highways\n",
    "* TAX: Full-value property tax rate per 10,000(dollars)\n",
    "* PTRATIO: Pupil-teacher ratio by town\n",
    "* B: 1000(Bk — 0.63)², where Bk is the proportion of [people of African American descent] by town\n",
    "* LSTAT: Percentage of lower status of the population\n",
    "* MEDV: Median value of owner-occupied homes in 1000s (dollars)"
   ]
  },
  {
   "cell_type": "markdown",
   "metadata": {},
   "source": [
    "# 1) Read in the dataset using sklearn's load_boston() function (found in sklearn.datasets) "
   ]
  },
  {
   "cell_type": "code",
   "execution_count": 170,
   "metadata": {},
   "outputs": [
    {
     "name": "stdout",
     "output_type": "stream",
     "text": [
      "[[6.3200e-03 1.8000e+01 2.3100e+00 ... 1.5300e+01 3.9690e+02 4.9800e+00]\n",
      " [2.7310e-02 0.0000e+00 7.0700e+00 ... 1.7800e+01 3.9690e+02 9.1400e+00]\n",
      " [2.7290e-02 0.0000e+00 7.0700e+00 ... 1.7800e+01 3.9283e+02 4.0300e+00]\n",
      " ...\n",
      " [6.0760e-02 0.0000e+00 1.1930e+01 ... 2.1000e+01 3.9690e+02 5.6400e+00]\n",
      " [1.0959e-01 0.0000e+00 1.1930e+01 ... 2.1000e+01 3.9345e+02 6.4800e+00]\n",
      " [4.7410e-02 0.0000e+00 1.1930e+01 ... 2.1000e+01 3.9690e+02 7.8800e+00]]\n",
      "(506, 13)\n",
      "      CRIM    ZN  INDUS  CHAS    NOX     RM   AGE     DIS  RAD    TAX  \\\n",
      "0  0.00632  18.0   2.31   0.0  0.538  6.575  65.2  4.0900  1.0  296.0   \n",
      "1  0.02731   0.0   7.07   0.0  0.469  6.421  78.9  4.9671  2.0  242.0   \n",
      "2  0.02729   0.0   7.07   0.0  0.469  7.185  61.1  4.9671  2.0  242.0   \n",
      "3  0.03237   0.0   2.18   0.0  0.458  6.998  45.8  6.0622  3.0  222.0   \n",
      "4  0.06905   0.0   2.18   0.0  0.458  7.147  54.2  6.0622  3.0  222.0   \n",
      "\n",
      "   PTRATIO       B  LSTAT  PRICE  \n",
      "0     15.3  396.90   4.98   24.0  \n",
      "1     17.8  396.90   9.14   21.6  \n",
      "2     17.8  392.83   4.03   34.7  \n",
      "3     18.7  394.63   2.94   33.4  \n",
      "4     18.7  396.90   5.33   36.2  \n"
     ]
    }
   ],
   "source": [
    "# import the load_boston() function from sklearn.datasets\n",
    "from sklearn.datasets import load_boston\n",
    "import pandas as pd\n",
    "import matplotlib.pyplot as plt\n",
    "import seaborn as sns\n",
    "import numpy as np\n",
    "\n",
    "# load the data\n",
    "boston = load_boston()\n",
    "\n",
    "print(boston.data)\n",
    "print(boston.data.shape)\n",
    "\n",
    "bos = pd.DataFrame(boston.data)\n",
    "bos.columns = boston.feature_names\n",
    "bos['PRICE'] = boston.target\n",
    "\n",
    "print(bos.head())"
   ]
  },
  {
   "cell_type": "code",
   "execution_count": 171,
   "metadata": {},
   "outputs": [
    {
     "data": {
      "text/plain": [
       "CRIM       0\n",
       "ZN         0\n",
       "INDUS      0\n",
       "CHAS       0\n",
       "NOX        0\n",
       "RM         0\n",
       "AGE        0\n",
       "DIS        0\n",
       "RAD        0\n",
       "TAX        0\n",
       "PTRATIO    0\n",
       "B          0\n",
       "LSTAT      0\n",
       "PRICE      0\n",
       "dtype: int64"
      ]
     },
     "execution_count": 171,
     "metadata": {},
     "output_type": "execute_result"
    }
   ],
   "source": [
    "# check for null values\n",
    "# if there are null values, remove them with .dropna()\n",
    "bos.isnull().sum()"
   ]
  },
  {
   "cell_type": "markdown",
   "metadata": {},
   "source": [
    "# 2) Perform some basic exploratory data analysis to get a feel for the data. Graph some stuff! "
   ]
  },
  {
   "cell_type": "code",
   "execution_count": 116,
   "metadata": {},
   "outputs": [
    {
     "data": {
      "text/plain": [
       "count    506.000000\n",
       "mean      22.532806\n",
       "std        9.197104\n",
       "min        5.000000\n",
       "25%       17.025000\n",
       "50%       21.200000\n",
       "75%       25.000000\n",
       "max       50.000000\n",
       "Name: PRICE, dtype: float64"
      ]
     },
     "execution_count": 116,
     "metadata": {},
     "output_type": "execute_result"
    }
   ],
   "source": [
    "bos['PRICE'].describe()"
   ]
  },
  {
   "cell_type": "code",
   "execution_count": 157,
   "metadata": {},
   "outputs": [
    {
     "data": {
      "image/png": "[encoded data removed]",
      "text/plain": [
       "<Figure size 432x288 with 1 Axes>"
      ]
     },
     "metadata": {
      "needs_background": "light"
     },
     "output_type": "display_data"
    }
   ],
   "source": [
    "bos['PRICE'].hist(bins=16)\n",
    "plt.xlabel(\"House Price ($1000)\")\n",
    "plt.ylabel(\"Number of Houses\")\n",
    "plt.show()"
   ]
  },
  {
   "cell_type": "code",
   "execution_count": 158,
   "metadata": {},
   "outputs": [
    {
     "data": {
      "image/png": "[encoded data removed]",
      "text/plain": [
       "<Figure size 432x288 with 1 Axes>"
      ]
     },
     "metadata": {
      "needs_background": "light"
     },
     "output_type": "display_data"
    }
   ],
   "source": [
    "plt.scatter(x = bos['PRICE'], y = bos['CRIM'])\n",
    "plt.xlabel(\"House Price ($1000)\")\n",
    "plt.ylabel(\"Per Capita Crime Rate\")\n",
    "plt.show()"
   ]
  },
  {
   "cell_type": "markdown",
   "metadata": {},
   "source": [
    "# 3) Create a correlation heatmap to check to see how highly correlated our predictor variables (features) are (Remember, if our predictors are highly correlated, this is bad.)\n",
    "* Note: use website for customizing heatmaps: https://seaborn.pydata.org/tutorial/color_palettes.html\n",
    "\n",
    "## The heatmap is cut off on the top and bottom, this is an issue we discovered in DS 1.1"
   ]
  },
  {
   "cell_type": "code",
   "execution_count": 167,
   "metadata": {},
   "outputs": [
    {
     "data": {
      "text/plain": [
       "<matplotlib.axes._subplots.AxesSubplot at 0x1a1e75de90>"
      ]
     },
     "execution_count": 167,
     "metadata": {},
     "output_type": "execute_result"
    },
    {
     "data": {
      "image/png": "[encoded data removed]",
      "text/plain": [
       "<Figure size 1152x648 with 2 Axes>"
      ]
     },
     "metadata": {
      "needs_background": "light"
     },
     "output_type": "display_data"
    }
   ],
   "source": [
    "# Set up the matplotlib figure\n",
    "f, ax = plt.subplots(figsize=(16, 9))\n",
    "\n",
    "# compute the correlation matrix\n",
    "corr = bos.corr()\n",
    "\n",
    "# sns.palplot(sns.cubehelix_palette(8))\n",
    "\n",
    "# Generate a custom diverging colormap\n",
    "cmap = sns.cubehelix_palette(8, as_cmap=True)\n",
    "\n",
    "\n",
    "# Draw the heatmap with title\n",
    "ax.set_title('Heatmap of Boston Housing Features', fontsize=20)\n",
    "sns.heatmap(corr, cmap=cmap, vmax=.3, center=0, square=True, linewidths=0.5, cbar_kws={\"shrink\": .5}, annot=True)"
   ]
  },
  {
   "cell_type": "markdown",
   "metadata": {},
   "source": [
    "# 4) Train the model based on the train set. \n",
    "* Use 75 percent of the data for train part. \n",
    "* Use 25 percent of the data for test part."
   ]
  },
  {
   "cell_type": "code",
   "execution_count": 120,
   "metadata": {},
   "outputs": [
    {
     "name": "stdout",
     "output_type": "stream",
     "text": [
      "Index(['CRIM', 'ZN', 'INDUS', 'CHAS', 'NOX', 'RM', 'AGE', 'DIS', 'RAD', 'TAX',\n",
      "       'PTRATIO', 'B', 'LSTAT', 'PRICE'],\n",
      "      dtype='object')\n"
     ]
    },
    {
     "data": {
      "text/plain": [
       "(506, 14)"
      ]
     },
     "execution_count": 120,
     "metadata": {},
     "output_type": "execute_result"
    }
   ],
   "source": [
    "print(bos.columns)\n",
    "bos.shape"
   ]
  },
  {
   "cell_type": "code",
   "execution_count": 165,
   "metadata": {},
   "outputs": [],
   "source": [
    "from sklearn.model_selection import train_test_split\n",
    "\n",
    "col_features = ['CRIM', 'ZN', 'INDUS', 'CHAS', 'NOX', 'RM', 'AGE', 'DIS', 'RAD', 'TAX', 'PTRATIO', 'B', 'LSTAT']\n",
    "X = bos[col_features]\n",
    "y = bos.PRICE\n",
    "\n",
    "# test_size = 0.25 which is what we want to test\n",
    "X_train, X_test, y_train, y_test = train_test_split(X, y, test_size=0.25, random_state=0) "
   ]
  },
  {
   "cell_type": "code",
   "execution_count": 162,
   "metadata": {},
   "outputs": [
    {
     "data": {
      "text/plain": [
       "379.5"
      ]
     },
     "execution_count": 162,
     "metadata": {},
     "output_type": "execute_result"
    }
   ],
   "source": [
    "# Use 75% of the data for the train part: 506*0.75\n",
    "bos.shape[0] * 0.75"
   ]
  },
  {
   "cell_type": "code",
   "execution_count": 163,
   "metadata": {},
   "outputs": [
    {
     "name": "stdout",
     "output_type": "stream",
     "text": [
      "         CRIM    ZN  INDUS  CHAS    NOX     RM   AGE     DIS   RAD    TAX  \\\n",
      "245   0.19133  22.0   5.86   0.0  0.431  5.605  70.2  7.9549   7.0  330.0   \n",
      "59    0.10328  25.0   5.13   0.0  0.453  5.927  47.2  6.9320   8.0  284.0   \n",
      "276   0.10469  40.0   6.41   1.0  0.447  7.267  49.0  4.7872   4.0  254.0   \n",
      "395   8.71675   0.0  18.10   0.0  0.693  6.471  98.8  1.7257  24.0  666.0   \n",
      "416  10.83420   0.0  18.10   0.0  0.679  6.782  90.8  1.8195  24.0  666.0   \n",
      "..        ...   ...    ...   ...    ...    ...   ...     ...   ...    ...   \n",
      "323   0.28392   0.0   7.38   0.0  0.493  5.708  74.3  4.7211   5.0  287.0   \n",
      "192   0.08664  45.0   3.44   0.0  0.437  7.178  26.3  6.4798   5.0  398.0   \n",
      "117   0.15098   0.0  10.01   0.0  0.547  6.021  82.6  2.7474   6.0  432.0   \n",
      "47    0.22927   0.0   6.91   0.0  0.448  6.030  85.5  5.6894   3.0  233.0   \n",
      "172   0.13914   0.0   4.05   0.0  0.510  5.572  88.5  2.5961   5.0  296.0   \n",
      "\n",
      "     PTRATIO       B  LSTAT  \n",
      "245     19.1  389.13  18.46  \n",
      "59      19.7  396.90   9.22  \n",
      "276     17.6  389.25   6.05  \n",
      "395     20.2  391.98  17.12  \n",
      "416     20.2   21.57  25.79  \n",
      "..       ...     ...    ...  \n",
      "323     19.6  391.13  11.74  \n",
      "192     15.2  390.49   2.87  \n",
      "117     17.8  394.51  10.30  \n",
      "47      17.9  392.74  18.80  \n",
      "172     16.6  396.90  14.69  \n",
      "\n",
      "[379 rows x 13 columns]\n"
     ]
    }
   ],
   "source": [
    "# X_train should have 379 rows\n",
    "print(X_train)"
   ]
  },
  {
   "cell_type": "code",
   "execution_count": 164,
   "metadata": {},
   "outputs": [
    {
     "data": {
      "text/plain": [
       "126.5"
      ]
     },
     "execution_count": 164,
     "metadata": {},
     "output_type": "execute_result"
    }
   ],
   "source": [
    "# Use 25% of the data for the test part\n",
    "bos.shape[0]*0.25"
   ]
  },
  {
   "cell_type": "code",
   "execution_count": 166,
   "metadata": {},
   "outputs": [
    {
     "name": "stdout",
     "output_type": "stream",
     "text": [
      "         CRIM    ZN  INDUS  CHAS    NOX     RM    AGE     DIS   RAD    TAX  \\\n",
      "329   0.06724   0.0   3.24   0.0  0.460  6.333   17.2  5.2146   4.0  430.0   \n",
      "371   9.23230   0.0  18.10   0.0  0.631  6.216  100.0  1.1691  24.0  666.0   \n",
      "219   0.11425   0.0  13.89   1.0  0.550  6.373   92.4  3.3633   5.0  276.0   \n",
      "403  24.80170   0.0  18.10   0.0  0.693  5.349   96.0  1.7028  24.0  666.0   \n",
      "78    0.05646   0.0  12.83   0.0  0.437  6.232   53.7  5.0141   5.0  398.0   \n",
      "..        ...   ...    ...   ...    ...    ...    ...     ...   ...    ...   \n",
      "49    0.21977   0.0   6.91   0.0  0.448  5.602   62.0  6.0877   3.0  233.0   \n",
      "498   0.23912   0.0   9.69   0.0  0.585  6.019   65.3  2.4091   6.0  391.0   \n",
      "309   0.34940   0.0   9.90   0.0  0.544  5.972   76.7  3.1025   4.0  304.0   \n",
      "124   0.09849   0.0  25.65   0.0  0.581  5.879   95.8  2.0063   2.0  188.0   \n",
      "306   0.07503  33.0   2.18   0.0  0.472  7.420   71.9  3.0992   7.0  222.0   \n",
      "\n",
      "     PTRATIO       B  LSTAT  \n",
      "329     16.9  375.21   7.34  \n",
      "371     20.2  366.15   9.53  \n",
      "219     16.4  393.74  10.50  \n",
      "403     20.2  396.90  19.77  \n",
      "78      18.7  386.40  12.34  \n",
      "..       ...     ...    ...  \n",
      "49      17.9  396.90  16.20  \n",
      "498     19.2  396.90  12.92  \n",
      "309     18.4  396.24   9.97  \n",
      "124     19.1  379.38  17.58  \n",
      "306     18.4  396.90   6.47  \n",
      "\n",
      "[127 rows x 13 columns]\n"
     ]
    }
   ],
   "source": [
    "# X_test should have 126 rows\n",
    "print(X_test)"
   ]
  },
  {
   "cell_type": "markdown",
   "metadata": {},
   "source": [
    "# 5) Make predictions on your test set (X_test) and see how well it compares to the actual targets (y_test) from the test set."
   ]
  },
  {
   "cell_type": "code",
   "execution_count": 20,
   "metadata": {
    "scrolled": true
   },
   "outputs": [
    {
     "data": {
      "text/plain": [
       "array([24.95233283, 23.61699724, 29.20588553, 11.96070515, 21.33362042,\n",
       "       19.46954895, 20.42228421, 21.52044058, 18.98954101, 19.950983  ,\n",
       "        4.92468244, 16.09694058, 16.93599574,  5.33508402, 39.84434398,\n",
       "       32.33549843, 22.32772572, 36.54017819, 31.03300611, 23.32172503,\n",
       "       24.92086498, 24.26106474, 20.71504422, 30.45072552, 22.45009234,\n",
       "        9.87470006, 17.70324412, 17.974775  , 35.69932012, 20.7940972 ,\n",
       "       18.10554174, 17.68317865, 19.71354713, 23.79693873, 29.06528958,\n",
       "       19.23738284, 10.97815878, 24.56199978, 17.32913052, 15.20340817,\n",
       "       26.09337458, 20.87706795, 22.26187518, 15.32582693, 22.85847963,\n",
       "       25.08887173, 19.74138819, 22.70744911,  9.66708558, 24.46175926,\n",
       "       20.72654169, 17.52545047, 24.45596997, 30.10668865, 13.31250981,\n",
       "       21.52052342, 20.65642932, 15.34285652, 13.7741129 , 22.07429287,\n",
       "       17.53293957, 21.60707766, 32.91050188, 31.32796114, 17.64346364,\n",
       "       32.69909854, 18.56579207, 19.32110821, 18.81256692, 23.04351442,\n",
       "       22.81649956, 23.99800754, 30.62733254, 28.8662207 , 25.78198145,\n",
       "        5.00689605, 36.83409088, 23.80490328, 27.36965299, 19.33057146,\n",
       "       28.51439846, 19.19147448, 18.81694283, 37.94245021, 39.3441055 ,\n",
       "       23.90759744, 24.95985846, 15.70262358, 25.92060968, 16.56968829,\n",
       "       15.76303806, 12.89190083, 24.4389405 , 30.9319885 , 22.36798609,\n",
       "       20.17628607,  0.22819711, 25.26459847, 15.35369364, 17.7983399 ,\n",
       "       25.44689554, 22.46612234, 32.57911019, 22.01436262, 27.37542798,\n",
       "       23.31348039,  6.29811532, 14.75925592, 22.44945223, 29.11172812,\n",
       "       32.97160856, 12.85457141, 19.79963356, 20.60017439, 12.06928939,\n",
       "       23.38532482,  4.75243811, 19.8342911 ,  9.17555571, 44.63299931,\n",
       "       30.63144603, 12.29971299, 17.53804831, 21.50222331, 23.63281301,\n",
       "       20.28259817, 35.17973368])"
      ]
     },
     "execution_count": 20,
     "metadata": {},
     "output_type": "execute_result"
    }
   ],
   "source": [
    "bos_reg.predict(X_test)"
   ]
  },
  {
   "cell_type": "markdown",
   "metadata": {},
   "source": [
    "# 6) Compute, Mean-Square-Error (MSE) and R Squared score of your Model "
   ]
  },
  {
   "cell_type": "code",
   "execution_count": 196,
   "metadata": {},
   "outputs": [
    {
     "data": {
      "text/plain": [
       "LinearRegression(copy_X=True, fit_intercept=True, n_jobs=None, normalize=False)"
      ]
     },
     "execution_count": 196,
     "metadata": {},
     "output_type": "execute_result"
    }
   ],
   "source": [
    "from sklearn.linear_model import LinearRegression\n",
    "\n",
    "# Instantiate the model(Linear Regression) and train it\n",
    "bos_reg = LinearRegression()\n",
    "bos_reg.fit(X_train, y_train)"
   ]
  },
  {
   "cell_type": "code",
   "execution_count": 197,
   "metadata": {},
   "outputs": [
    {
     "name": "stdout",
     "output_type": "stream",
     "text": [
      "[-1.17735289e-01  4.40174969e-02 -5.76814314e-03  2.39341594e+00\n",
      " -1.55894211e+01  3.76896770e+00 -7.03517828e-03 -1.43495641e+00\n",
      "  2.40081086e-01 -1.12972810e-02 -9.85546732e-01  8.44443453e-03\n",
      " -4.99116797e-01]\n"
     ]
    }
   ],
   "source": [
    "# coefficient\n",
    "print(bos_reg.coef_)"
   ]
  },
  {
   "cell_type": "code",
   "execution_count": 198,
   "metadata": {},
   "outputs": [
    {
     "name": "stdout",
     "output_type": "stream",
     "text": [
      "36.93325545711978\n"
     ]
    }
   ],
   "source": [
    "# y-intercept\n",
    "print(bos_reg.intercept_)"
   ]
  },
  {
   "cell_type": "code",
   "execution_count": 199,
   "metadata": {},
   "outputs": [
    {
     "data": {
      "text/plain": [
       "29.7822450923024"
      ]
     },
     "execution_count": 199,
     "metadata": {},
     "output_type": "execute_result"
    }
   ],
   "source": [
    "from sklearn.metrics import mean_squared_error\n",
    "\n",
    "y_pred = bos_reg.predict(X_test)\n",
    "\n",
    "mean_squared_error(y_test, y_pred)"
   ]
  },
  {
   "cell_type": "code",
   "execution_count": 22,
   "metadata": {},
   "outputs": [
    {
     "data": {
      "text/plain": [
       "0.6354638433202124"
      ]
     },
     "execution_count": 22,
     "metadata": {},
     "output_type": "execute_result"
    }
   ],
   "source": [
    "# r^2 is rated from -1 to 1, the closer to 1 the better\n",
    "from sklearn.metrics import r2_score\n",
    "\n",
    "y_pred = bos_reg.predict(X_test)\n",
    "\n",
    "r2_score(y_test, y_pred)"
   ]
  },
  {
   "cell_type": "markdown",
   "metadata": {},
   "source": [
    "## Apply data normalization (Scaling) to improve the prediction result\n",
    "\n",
    "- Use StandardScaler and then train your Linear Regression Model. Compare the R Square score with previous one you got\n",
    "\n",
    "- Use MinMaxScaler and then train your Linear Regression Model. Compare the R Square score with previous one you got\n",
    "\n",
    "- Watch this video: https://www.youtube.com/watch?v=YKP31T5LIXQ"
   ]
  },
  {
   "cell_type": "code",
   "execution_count": 210,
   "metadata": {},
   "outputs": [],
   "source": [
    "from sklearn.preprocessing import MinMaxScaler\n",
    "\n",
    "# correct way for data normalization:\n",
    "# min_max scaling puts the values in a range (0,1)\n",
    "\n",
    "min_max_scaler = MinMaxScaler()\n",
    "\n",
    "X_train_min_max = min_max_scaler.fit_transform(X_train) \n",
    "\n",
    "X_test_min_max = min_max_scaler.transform(X_test) # for x_test_scaled you must use .transform not .fit_transform"
   ]
  },
  {
   "cell_type": "code",
   "execution_count": 211,
   "metadata": {},
   "outputs": [
    {
     "name": "stdout",
     "output_type": "stream",
     "text": [
      "[[0.00207947 0.22       0.19794721 ... 0.69148936 0.98040748 0.47460993]\n",
      " [0.00108981 0.25       0.17118768 ... 0.75531915 1.         0.21248227]\n",
      " [0.00110566 0.4        0.2181085  ... 0.53191489 0.98071007 0.12255319]\n",
      " ...\n",
      " [0.00162594 0.         0.35007331 ... 0.55319149 0.99397347 0.24312057]\n",
      " [0.0025059  0.         0.23643695 ... 0.56382979 0.98951031 0.48425532]\n",
      " [0.00149286 0.         0.13159824 ... 0.42553191 1.         0.36765957]]\n"
     ]
    }
   ],
   "source": [
    "print(X_train_min_max)"
   ]
  },
  {
   "cell_type": "code",
   "execution_count": 212,
   "metadata": {
    "scrolled": true
   },
   "outputs": [
    {
     "name": "stdout",
     "output_type": "stream",
     "text": [
      "[[6.84726112e-04 0.00000000e+00 1.01906158e-01 ... 4.57446809e-01\n",
      "  9.45307378e-01 1.59148936e-01]\n",
      " [1.03697791e-01 0.00000000e+00 6.46627566e-01 ... 8.08510638e-01\n",
      "  9.22462051e-01 2.21276596e-01]\n",
      " [1.21310718e-03 0.00000000e+00 4.92302053e-01 ... 4.04255319e-01\n",
      "  9.92031873e-01 2.48794326e-01]\n",
      " ...\n",
      " [3.85613648e-03 0.00000000e+00 3.46041056e-01 ... 6.17021277e-01\n",
      "  9.98335771e-01 2.33758865e-01]\n",
      " [1.03596858e-03 0.00000000e+00 9.23387097e-01 ... 6.91489362e-01\n",
      "  9.55822280e-01 4.49645390e-01]\n",
      " [7.72283834e-04 3.30000000e-01 6.30498534e-02 ... 6.17021277e-01\n",
      "  1.00000000e+00 1.34468085e-01]]\n"
     ]
    }
   ],
   "source": [
    "print(X_test_min_max)"
   ]
  },
  {
   "cell_type": "markdown",
   "metadata": {},
   "source": [
    "### Use MinMaxScaler and then train your Linear Regression Model. Compare the R Square score with previous one you got"
   ]
  },
  {
   "cell_type": "code",
   "execution_count": 213,
   "metadata": {},
   "outputs": [
    {
     "data": {
      "text/plain": [
       "LinearRegression(copy_X=True, fit_intercept=True, n_jobs=None, normalize=False)"
      ]
     },
     "execution_count": 213,
     "metadata": {},
     "output_type": "execute_result"
    }
   ],
   "source": [
    "# Instantiate the model(Linear Regression) and train it using MinMax\n",
    "bos_reg = LinearRegression()\n",
    "\n",
    "bos_reg.fit(X_train_min_max, y_train)"
   ]
  },
  {
   "cell_type": "code",
   "execution_count": 214,
   "metadata": {},
   "outputs": [
    {
     "data": {
      "text/plain": [
       "array([24.95233283, 23.61699724, 29.20588553, 11.96070515, 21.33362042,\n",
       "       19.46954895, 20.42228421, 21.52044058, 18.98954101, 19.950983  ,\n",
       "        4.92468244, 16.09694058, 16.93599574,  5.33508402, 39.84434398,\n",
       "       32.33549843, 22.32772572, 36.54017819, 31.03300611, 23.32172503,\n",
       "       24.92086498, 24.26106474, 20.71504422, 30.45072552, 22.45009234,\n",
       "        9.87470006, 17.70324412, 17.974775  , 35.69932012, 20.7940972 ,\n",
       "       18.10554174, 17.68317865, 19.71354713, 23.79693873, 29.06528958,\n",
       "       19.23738284, 10.97815878, 24.56199978, 17.32913052, 15.20340817,\n",
       "       26.09337458, 20.87706795, 22.26187518, 15.32582693, 22.85847963,\n",
       "       25.08887173, 19.74138819, 22.70744911,  9.66708558, 24.46175926,\n",
       "       20.72654169, 17.52545047, 24.45596997, 30.10668865, 13.31250981,\n",
       "       21.52052342, 20.65642932, 15.34285652, 13.7741129 , 22.07429287,\n",
       "       17.53293957, 21.60707766, 32.91050188, 31.32796114, 17.64346364,\n",
       "       32.69909854, 18.56579207, 19.32110821, 18.81256692, 23.04351442,\n",
       "       22.81649956, 23.99800754, 30.62733254, 28.8662207 , 25.78198145,\n",
       "        5.00689605, 36.83409088, 23.80490328, 27.36965299, 19.33057146,\n",
       "       28.51439846, 19.19147448, 18.81694283, 37.94245021, 39.3441055 ,\n",
       "       23.90759744, 24.95985846, 15.70262358, 25.92060968, 16.56968829,\n",
       "       15.76303806, 12.89190083, 24.4389405 , 30.9319885 , 22.36798609,\n",
       "       20.17628607,  0.22819711, 25.26459847, 15.35369364, 17.7983399 ,\n",
       "       25.44689554, 22.46612234, 32.57911019, 22.01436262, 27.37542798,\n",
       "       23.31348039,  6.29811532, 14.75925592, 22.44945223, 29.11172812,\n",
       "       32.97160856, 12.85457141, 19.79963356, 20.60017439, 12.06928939,\n",
       "       23.38532482,  4.75243811, 19.8342911 ,  9.17555571, 44.63299931,\n",
       "       30.63144603, 12.29971299, 17.53804831, 21.50222331, 23.63281301,\n",
       "       20.28259817, 35.17973368])"
      ]
     },
     "execution_count": 214,
     "metadata": {},
     "output_type": "execute_result"
    }
   ],
   "source": [
    "y_pred = bos_reg.predict(X_test_min_max)\n",
    "\n",
    "y_pred"
   ]
  },
  {
   "cell_type": "code",
   "execution_count": 215,
   "metadata": {},
   "outputs": [
    {
     "data": {
      "text/plain": [
       "0.6354638433202124"
      ]
     },
     "execution_count": 215,
     "metadata": {},
     "output_type": "execute_result"
    }
   ],
   "source": [
    "# MinMax Scaler r^2 score: \n",
    "r2_score(y_test, y_pred)"
   ]
  },
  {
   "cell_type": "code",
   "execution_count": 216,
   "metadata": {},
   "outputs": [
    {
     "data": {
      "text/plain": [
       "29.7822450923024"
      ]
     },
     "execution_count": 216,
     "metadata": {},
     "output_type": "execute_result"
    }
   ],
   "source": [
    "# mean square error of MinMax Scaler\n",
    "mean_squared_error(y_test, y_pred)"
   ]
  },
  {
   "cell_type": "markdown",
   "metadata": {},
   "source": [
    "### Use StandardScaler and then train your Linear Regression Model. Compare the R Square score with previous one you got"
   ]
  },
  {
   "cell_type": "code",
   "execution_count": 203,
   "metadata": {},
   "outputs": [],
   "source": [
    "from sklearn.preprocessing import StandardScaler\n",
    "\n",
    "std_scaler = StandardScaler()\n",
    "\n",
    "X_train_std_scaler = std_scaler.fit_transform(X_train)\n",
    "\n",
    "X_test_std_scaler = std_scaler.transform(X_test)"
   ]
  },
  {
   "cell_type": "code",
   "execution_count": 204,
   "metadata": {},
   "outputs": [
    {
     "name": "stdout",
     "output_type": "stream",
     "text": [
      "[[-0.3906002   0.42637011 -0.74491444 ...  0.27878885  0.34049624\n",
      "   0.82212111]\n",
      " [-0.40127639  0.5525335  -0.84901832 ...  0.55287698  0.42774893\n",
      "  -0.46241699]\n",
      " [-0.40110543  1.18335044 -0.66648002 ... -0.40643148  0.34184377\n",
      "  -0.90310809]\n",
      " ...\n",
      " [-0.3954927  -0.49882807 -0.15309105 ... -0.31506877  0.40091059\n",
      "  -0.31227617]\n",
      " [-0.38599992 -0.49882807 -0.59517599 ... -0.26938741  0.38103449\n",
      "   0.86938766]\n",
      " [-0.39692832 -0.49882807 -1.003035   ... -0.86324503  0.42774893\n",
      "   0.29801844]]\n"
     ]
    }
   ],
   "source": [
    "print(X_train_std_scaler)"
   ]
  },
  {
   "cell_type": "code",
   "execution_count": 205,
   "metadata": {
    "scrolled": true
   },
   "outputs": [
    {
     "name": "stdout",
     "output_type": "stream",
     "text": [
      "[[-0.4056463  -0.49882807 -1.11854752 ... -0.72620097  0.18418254\n",
      "  -0.72377323]\n",
      " [ 0.7056307  -0.49882807  1.00060803 ...  0.78128376  0.08244389\n",
      "  -0.41932101]\n",
      " [-0.39994626 -0.49882807  0.40022816 ... -0.95460774  0.39226392\n",
      "  -0.28447232]\n",
      " ...\n",
      " [-0.37143398 -0.49882807 -0.16877794 ... -0.04098064  0.42033751\n",
      "  -0.35815253]\n",
      " [-0.40185719 -0.49882807  2.07729878 ...  0.27878885  0.23100928\n",
      "   0.69978415]\n",
      " [-0.40470175  0.8889692  -1.26971205 ... -0.04098064  0.42774893\n",
      "  -0.84471999]]\n"
     ]
    }
   ],
   "source": [
    "print(X_test_std_scaler)"
   ]
  },
  {
   "cell_type": "code",
   "execution_count": 206,
   "metadata": {},
   "outputs": [
    {
     "data": {
      "text/plain": [
       "LinearRegression(copy_X=True, fit_intercept=True, n_jobs=None, normalize=False)"
      ]
     },
     "execution_count": 206,
     "metadata": {},
     "output_type": "execute_result"
    }
   ],
   "source": [
    "# Instantiate the model(Linear Regression) and train it\n",
    "bos_reg = LinearRegression()\n",
    "\n",
    "bos_reg.fit(X_train_std_scaler, y_train)"
   ]
  },
  {
   "cell_type": "code",
   "execution_count": 207,
   "metadata": {},
   "outputs": [
    {
     "data": {
      "text/plain": [
       "array([24.95233283, 23.61699724, 29.20588553, 11.96070515, 21.33362042,\n",
       "       19.46954895, 20.42228421, 21.52044058, 18.98954101, 19.950983  ,\n",
       "        4.92468244, 16.09694058, 16.93599574,  5.33508402, 39.84434398,\n",
       "       32.33549843, 22.32772572, 36.54017819, 31.03300611, 23.32172503,\n",
       "       24.92086498, 24.26106474, 20.71504422, 30.45072552, 22.45009234,\n",
       "        9.87470006, 17.70324412, 17.974775  , 35.69932012, 20.7940972 ,\n",
       "       18.10554174, 17.68317865, 19.71354713, 23.79693873, 29.06528958,\n",
       "       19.23738284, 10.97815878, 24.56199978, 17.32913052, 15.20340817,\n",
       "       26.09337458, 20.87706795, 22.26187518, 15.32582693, 22.85847963,\n",
       "       25.08887173, 19.74138819, 22.70744911,  9.66708558, 24.46175926,\n",
       "       20.72654169, 17.52545047, 24.45596997, 30.10668865, 13.31250981,\n",
       "       21.52052342, 20.65642932, 15.34285652, 13.7741129 , 22.07429287,\n",
       "       17.53293957, 21.60707766, 32.91050188, 31.32796114, 17.64346364,\n",
       "       32.69909854, 18.56579207, 19.32110821, 18.81256692, 23.04351442,\n",
       "       22.81649956, 23.99800754, 30.62733254, 28.8662207 , 25.78198145,\n",
       "        5.00689605, 36.83409088, 23.80490328, 27.36965299, 19.33057146,\n",
       "       28.51439846, 19.19147448, 18.81694283, 37.94245021, 39.3441055 ,\n",
       "       23.90759744, 24.95985846, 15.70262358, 25.92060968, 16.56968829,\n",
       "       15.76303806, 12.89190083, 24.4389405 , 30.9319885 , 22.36798609,\n",
       "       20.17628607,  0.22819711, 25.26459847, 15.35369364, 17.7983399 ,\n",
       "       25.44689554, 22.46612234, 32.57911019, 22.01436262, 27.37542798,\n",
       "       23.31348039,  6.29811532, 14.75925592, 22.44945223, 29.11172812,\n",
       "       32.97160856, 12.85457141, 19.79963356, 20.60017439, 12.06928939,\n",
       "       23.38532482,  4.75243811, 19.8342911 ,  9.17555571, 44.63299931,\n",
       "       30.63144603, 12.29971299, 17.53804831, 21.50222331, 23.63281301,\n",
       "       20.28259817, 35.17973368])"
      ]
     },
     "execution_count": 207,
     "metadata": {},
     "output_type": "execute_result"
    }
   ],
   "source": [
    "y_pred = bos_reg.predict(X_test_std_scaler)\n",
    "\n",
    "y_pred"
   ]
  },
  {
   "cell_type": "code",
   "execution_count": 208,
   "metadata": {},
   "outputs": [
    {
     "data": {
      "text/plain": [
       "0.4967900069591079"
      ]
     },
     "execution_count": 208,
     "metadata": {},
     "output_type": "execute_result"
    }
   ],
   "source": [
    "r2_score(y_pred, y_test)"
   ]
  },
  {
   "cell_type": "code",
   "execution_count": 209,
   "metadata": {},
   "outputs": [
    {
     "data": {
      "text/plain": [
       "29.782245092302325"
      ]
     },
     "execution_count": 209,
     "metadata": {},
     "output_type": "execute_result"
    }
   ],
   "source": [
    "mean_squared_error(y_pred, y_test)"
   ]
  },
  {
   "cell_type": "markdown",
   "metadata": {},
   "source": [
    "# Conclusions: \n",
    "\n",
    "### Without Scaling:\n",
    "* MSE: 29.7822450923024\n",
    "* R^2: 0.6354638433202124\n",
    "\n",
    "### MinMaxScaler:\n",
    "* MSE: 29.7822450923024\n",
    "* R^2: 0.6354638433202124\n",
    "\n",
    "### Standard Scaler:\n",
    "* MSE: 29.782245092302325\n",
    "* R^2: 0.4967900069591079"
   ]
  },
  {
   "cell_type": "code",
   "execution_count": null,
   "metadata": {},
   "outputs": [],
   "source": []
  }
 ],
 "metadata": {
  "kernelspec": {
   "display_name": "Python 3",
   "language": "python",
   "name": "python3"
  },
  "language_info": {
   "codemirror_mode": {
    "name": "ipython",
    "version": 3
   },
   "file_extension": ".py",
   "mimetype": "text/x-python",
   "name": "python",
   "nbconvert_exporter": "python",
   "pygments_lexer": "ipython3",
   "version": "3.7.4"
  }
 },
 "nbformat": 4,
 "nbformat_minor": 2
}
